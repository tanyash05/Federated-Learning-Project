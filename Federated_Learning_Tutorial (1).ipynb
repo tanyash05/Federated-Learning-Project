{
  "nbformat": 4,
  "nbformat_minor": 0,
  "metadata": {
    "colab": {
      "provenance": [],
      "gpuType": "T4"
    },
    "kernelspec": {
      "name": "python3",
      "display_name": "Python 3"
    },
    "language_info": {
      "name": "python"
    },
    "accelerator": "GPU",
    "widgets": {
      "application/vnd.jupyter.widget-state+json": {
        "87f22cac9b5c43339a7e43c921766625": {
          "model_module": "@jupyter-widgets/controls",
          "model_name": "HBoxModel",
          "model_module_version": "1.5.0",
          "state": {
            "_dom_classes": [],
            "_model_module": "@jupyter-widgets/controls",
            "_model_module_version": "1.5.0",
            "_model_name": "HBoxModel",
            "_view_count": null,
            "_view_module": "@jupyter-widgets/controls",
            "_view_module_version": "1.5.0",
            "_view_name": "HBoxView",
            "box_style": "",
            "children": [
              "IPY_MODEL_5749304ce28b4bd29724742f37ca87f9",
              "IPY_MODEL_6dd75f729cc643869b8376b2f678cc15",
              "IPY_MODEL_57162e28f6ef4095a2a1b58f1f0d65e8"
            ],
            "layout": "IPY_MODEL_397a0b4ce4f245f79d8d3da68cf84607"
          }
        },
        "5749304ce28b4bd29724742f37ca87f9": {
          "model_module": "@jupyter-widgets/controls",
          "model_name": "HTMLModel",
          "model_module_version": "1.5.0",
          "state": {
            "_dom_classes": [],
            "_model_module": "@jupyter-widgets/controls",
            "_model_module_version": "1.5.0",
            "_model_name": "HTMLModel",
            "_view_count": null,
            "_view_module": "@jupyter-widgets/controls",
            "_view_module_version": "1.5.0",
            "_view_name": "HTMLView",
            "description": "",
            "description_tooltip": null,
            "layout": "IPY_MODEL_7f4d3a83271b457b85d111cd8ba8455b",
            "placeholder": "​",
            "style": "IPY_MODEL_2501c6c9cb054bc6a268562bde9e6896",
            "value": "README.md: 100%"
          }
        },
        "6dd75f729cc643869b8376b2f678cc15": {
          "model_module": "@jupyter-widgets/controls",
          "model_name": "FloatProgressModel",
          "model_module_version": "1.5.0",
          "state": {
            "_dom_classes": [],
            "_model_module": "@jupyter-widgets/controls",
            "_model_module_version": "1.5.0",
            "_model_name": "FloatProgressModel",
            "_view_count": null,
            "_view_module": "@jupyter-widgets/controls",
            "_view_module_version": "1.5.0",
            "_view_name": "ProgressView",
            "bar_style": "success",
            "description": "",
            "description_tooltip": null,
            "layout": "IPY_MODEL_3d67afe71abf454487cdecf81d6a59ec",
            "max": 5157,
            "min": 0,
            "orientation": "horizontal",
            "style": "IPY_MODEL_48a42298d649408ca43dbf5c64042429",
            "value": 5157
          }
        },
        "57162e28f6ef4095a2a1b58f1f0d65e8": {
          "model_module": "@jupyter-widgets/controls",
          "model_name": "HTMLModel",
          "model_module_version": "1.5.0",
          "state": {
            "_dom_classes": [],
            "_model_module": "@jupyter-widgets/controls",
            "_model_module_version": "1.5.0",
            "_model_name": "HTMLModel",
            "_view_count": null,
            "_view_module": "@jupyter-widgets/controls",
            "_view_module_version": "1.5.0",
            "_view_name": "HTMLView",
            "description": "",
            "description_tooltip": null,
            "layout": "IPY_MODEL_7c0f3bde6c2d4e85982f6ed504592001",
            "placeholder": "​",
            "style": "IPY_MODEL_190af2ca89f84970a1937e6789c5636f",
            "value": " 5.16k/5.16k [00:00&lt;00:00, 123kB/s]"
          }
        },
        "397a0b4ce4f245f79d8d3da68cf84607": {
          "model_module": "@jupyter-widgets/base",
          "model_name": "LayoutModel",
          "model_module_version": "1.2.0",
          "state": {
            "_model_module": "@jupyter-widgets/base",
            "_model_module_version": "1.2.0",
            "_model_name": "LayoutModel",
            "_view_count": null,
            "_view_module": "@jupyter-widgets/base",
            "_view_module_version": "1.2.0",
            "_view_name": "LayoutView",
            "align_content": null,
            "align_items": null,
            "align_self": null,
            "border": null,
            "bottom": null,
            "display": null,
            "flex": null,
            "flex_flow": null,
            "grid_area": null,
            "grid_auto_columns": null,
            "grid_auto_flow": null,
            "grid_auto_rows": null,
            "grid_column": null,
            "grid_gap": null,
            "grid_row": null,
            "grid_template_areas": null,
            "grid_template_columns": null,
            "grid_template_rows": null,
            "height": null,
            "justify_content": null,
            "justify_items": null,
            "left": null,
            "margin": null,
            "max_height": null,
            "max_width": null,
            "min_height": null,
            "min_width": null,
            "object_fit": null,
            "object_position": null,
            "order": null,
            "overflow": null,
            "overflow_x": null,
            "overflow_y": null,
            "padding": null,
            "right": null,
            "top": null,
            "visibility": null,
            "width": null
          }
        },
        "7f4d3a83271b457b85d111cd8ba8455b": {
          "model_module": "@jupyter-widgets/base",
          "model_name": "LayoutModel",
          "model_module_version": "1.2.0",
          "state": {
            "_model_module": "@jupyter-widgets/base",
            "_model_module_version": "1.2.0",
            "_model_name": "LayoutModel",
            "_view_count": null,
            "_view_module": "@jupyter-widgets/base",
            "_view_module_version": "1.2.0",
            "_view_name": "LayoutView",
            "align_content": null,
            "align_items": null,
            "align_self": null,
            "border": null,
            "bottom": null,
            "display": null,
            "flex": null,
            "flex_flow": null,
            "grid_area": null,
            "grid_auto_columns": null,
            "grid_auto_flow": null,
            "grid_auto_rows": null,
            "grid_column": null,
            "grid_gap": null,
            "grid_row": null,
            "grid_template_areas": null,
            "grid_template_columns": null,
            "grid_template_rows": null,
            "height": null,
            "justify_content": null,
            "justify_items": null,
            "left": null,
            "margin": null,
            "max_height": null,
            "max_width": null,
            "min_height": null,
            "min_width": null,
            "object_fit": null,
            "object_position": null,
            "order": null,
            "overflow": null,
            "overflow_x": null,
            "overflow_y": null,
            "padding": null,
            "right": null,
            "top": null,
            "visibility": null,
            "width": null
          }
        },
        "2501c6c9cb054bc6a268562bde9e6896": {
          "model_module": "@jupyter-widgets/controls",
          "model_name": "DescriptionStyleModel",
          "model_module_version": "1.5.0",
          "state": {
            "_model_module": "@jupyter-widgets/controls",
            "_model_module_version": "1.5.0",
            "_model_name": "DescriptionStyleModel",
            "_view_count": null,
            "_view_module": "@jupyter-widgets/base",
            "_view_module_version": "1.2.0",
            "_view_name": "StyleView",
            "description_width": ""
          }
        },
        "3d67afe71abf454487cdecf81d6a59ec": {
          "model_module": "@jupyter-widgets/base",
          "model_name": "LayoutModel",
          "model_module_version": "1.2.0",
          "state": {
            "_model_module": "@jupyter-widgets/base",
            "_model_module_version": "1.2.0",
            "_model_name": "LayoutModel",
            "_view_count": null,
            "_view_module": "@jupyter-widgets/base",
            "_view_module_version": "1.2.0",
            "_view_name": "LayoutView",
            "align_content": null,
            "align_items": null,
            "align_self": null,
            "border": null,
            "bottom": null,
            "display": null,
            "flex": null,
            "flex_flow": null,
            "grid_area": null,
            "grid_auto_columns": null,
            "grid_auto_flow": null,
            "grid_auto_rows": null,
            "grid_column": null,
            "grid_gap": null,
            "grid_row": null,
            "grid_template_areas": null,
            "grid_template_columns": null,
            "grid_template_rows": null,
            "height": null,
            "justify_content": null,
            "justify_items": null,
            "left": null,
            "margin": null,
            "max_height": null,
            "max_width": null,
            "min_height": null,
            "min_width": null,
            "object_fit": null,
            "object_position": null,
            "order": null,
            "overflow": null,
            "overflow_x": null,
            "overflow_y": null,
            "padding": null,
            "right": null,
            "top": null,
            "visibility": null,
            "width": null
          }
        },
        "48a42298d649408ca43dbf5c64042429": {
          "model_module": "@jupyter-widgets/controls",
          "model_name": "ProgressStyleModel",
          "model_module_version": "1.5.0",
          "state": {
            "_model_module": "@jupyter-widgets/controls",
            "_model_module_version": "1.5.0",
            "_model_name": "ProgressStyleModel",
            "_view_count": null,
            "_view_module": "@jupyter-widgets/base",
            "_view_module_version": "1.2.0",
            "_view_name": "StyleView",
            "bar_color": null,
            "description_width": ""
          }
        },
        "7c0f3bde6c2d4e85982f6ed504592001": {
          "model_module": "@jupyter-widgets/base",
          "model_name": "LayoutModel",
          "model_module_version": "1.2.0",
          "state": {
            "_model_module": "@jupyter-widgets/base",
            "_model_module_version": "1.2.0",
            "_model_name": "LayoutModel",
            "_view_count": null,
            "_view_module": "@jupyter-widgets/base",
            "_view_module_version": "1.2.0",
            "_view_name": "LayoutView",
            "align_content": null,
            "align_items": null,
            "align_self": null,
            "border": null,
            "bottom": null,
            "display": null,
            "flex": null,
            "flex_flow": null,
            "grid_area": null,
            "grid_auto_columns": null,
            "grid_auto_flow": null,
            "grid_auto_rows": null,
            "grid_column": null,
            "grid_gap": null,
            "grid_row": null,
            "grid_template_areas": null,
            "grid_template_columns": null,
            "grid_template_rows": null,
            "height": null,
            "justify_content": null,
            "justify_items": null,
            "left": null,
            "margin": null,
            "max_height": null,
            "max_width": null,
            "min_height": null,
            "min_width": null,
            "object_fit": null,
            "object_position": null,
            "order": null,
            "overflow": null,
            "overflow_x": null,
            "overflow_y": null,
            "padding": null,
            "right": null,
            "top": null,
            "visibility": null,
            "width": null
          }
        },
        "190af2ca89f84970a1937e6789c5636f": {
          "model_module": "@jupyter-widgets/controls",
          "model_name": "DescriptionStyleModel",
          "model_module_version": "1.5.0",
          "state": {
            "_model_module": "@jupyter-widgets/controls",
            "_model_module_version": "1.5.0",
            "_model_name": "DescriptionStyleModel",
            "_view_count": null,
            "_view_module": "@jupyter-widgets/base",
            "_view_module_version": "1.2.0",
            "_view_name": "StyleView",
            "description_width": ""
          }
        },
        "9adab9b57c304028b38f2bc781ba65f8": {
          "model_module": "@jupyter-widgets/controls",
          "model_name": "HBoxModel",
          "model_module_version": "1.5.0",
          "state": {
            "_dom_classes": [],
            "_model_module": "@jupyter-widgets/controls",
            "_model_module_version": "1.5.0",
            "_model_name": "HBoxModel",
            "_view_count": null,
            "_view_module": "@jupyter-widgets/controls",
            "_view_module_version": "1.5.0",
            "_view_name": "HBoxView",
            "box_style": "",
            "children": [
              "IPY_MODEL_7e00e718c88a4c2c82a02198195712ac",
              "IPY_MODEL_bd3939b8917c4e5b821c0cbd8b75ddee",
              "IPY_MODEL_f4fce83849ed4818a4309b906fb119a3"
            ],
            "layout": "IPY_MODEL_4058c643602d4f9e84faa1e8268a080c"
          }
        },
        "7e00e718c88a4c2c82a02198195712ac": {
          "model_module": "@jupyter-widgets/controls",
          "model_name": "HTMLModel",
          "model_module_version": "1.5.0",
          "state": {
            "_dom_classes": [],
            "_model_module": "@jupyter-widgets/controls",
            "_model_module_version": "1.5.0",
            "_model_name": "HTMLModel",
            "_view_count": null,
            "_view_module": "@jupyter-widgets/controls",
            "_view_module_version": "1.5.0",
            "_view_name": "HTMLView",
            "description": "",
            "description_tooltip": null,
            "layout": "IPY_MODEL_3903be5e87834f8aa783d80a9341e6a0",
            "placeholder": "​",
            "style": "IPY_MODEL_9de419c9fcac4495b2de00bbcd005443",
            "value": "train-00000-of-00001.parquet: 100%"
          }
        },
        "bd3939b8917c4e5b821c0cbd8b75ddee": {
          "model_module": "@jupyter-widgets/controls",
          "model_name": "FloatProgressModel",
          "model_module_version": "1.5.0",
          "state": {
            "_dom_classes": [],
            "_model_module": "@jupyter-widgets/controls",
            "_model_module_version": "1.5.0",
            "_model_name": "FloatProgressModel",
            "_view_count": null,
            "_view_module": "@jupyter-widgets/controls",
            "_view_module_version": "1.5.0",
            "_view_name": "ProgressView",
            "bar_style": "success",
            "description": "",
            "description_tooltip": null,
            "layout": "IPY_MODEL_3907f063dd1442439c32f247b0f70b8e",
            "max": 119705255,
            "min": 0,
            "orientation": "horizontal",
            "style": "IPY_MODEL_4c813616eca04340ae4801638e184039",
            "value": 119705255
          }
        },
        "f4fce83849ed4818a4309b906fb119a3": {
          "model_module": "@jupyter-widgets/controls",
          "model_name": "HTMLModel",
          "model_module_version": "1.5.0",
          "state": {
            "_dom_classes": [],
            "_model_module": "@jupyter-widgets/controls",
            "_model_module_version": "1.5.0",
            "_model_name": "HTMLModel",
            "_view_count": null,
            "_view_module": "@jupyter-widgets/controls",
            "_view_module_version": "1.5.0",
            "_view_name": "HTMLView",
            "description": "",
            "description_tooltip": null,
            "layout": "IPY_MODEL_d727861dd9da447ea4fd05f78825ceb4",
            "placeholder": "​",
            "style": "IPY_MODEL_6447baf4a79d45918b96af8ca962048a",
            "value": " 120M/120M [00:01&lt;00:00, 109MB/s]"
          }
        },
        "4058c643602d4f9e84faa1e8268a080c": {
          "model_module": "@jupyter-widgets/base",
          "model_name": "LayoutModel",
          "model_module_version": "1.2.0",
          "state": {
            "_model_module": "@jupyter-widgets/base",
            "_model_module_version": "1.2.0",
            "_model_name": "LayoutModel",
            "_view_count": null,
            "_view_module": "@jupyter-widgets/base",
            "_view_module_version": "1.2.0",
            "_view_name": "LayoutView",
            "align_content": null,
            "align_items": null,
            "align_self": null,
            "border": null,
            "bottom": null,
            "display": null,
            "flex": null,
            "flex_flow": null,
            "grid_area": null,
            "grid_auto_columns": null,
            "grid_auto_flow": null,
            "grid_auto_rows": null,
            "grid_column": null,
            "grid_gap": null,
            "grid_row": null,
            "grid_template_areas": null,
            "grid_template_columns": null,
            "grid_template_rows": null,
            "height": null,
            "justify_content": null,
            "justify_items": null,
            "left": null,
            "margin": null,
            "max_height": null,
            "max_width": null,
            "min_height": null,
            "min_width": null,
            "object_fit": null,
            "object_position": null,
            "order": null,
            "overflow": null,
            "overflow_x": null,
            "overflow_y": null,
            "padding": null,
            "right": null,
            "top": null,
            "visibility": null,
            "width": null
          }
        },
        "3903be5e87834f8aa783d80a9341e6a0": {
          "model_module": "@jupyter-widgets/base",
          "model_name": "LayoutModel",
          "model_module_version": "1.2.0",
          "state": {
            "_model_module": "@jupyter-widgets/base",
            "_model_module_version": "1.2.0",
            "_model_name": "LayoutModel",
            "_view_count": null,
            "_view_module": "@jupyter-widgets/base",
            "_view_module_version": "1.2.0",
            "_view_name": "LayoutView",
            "align_content": null,
            "align_items": null,
            "align_self": null,
            "border": null,
            "bottom": null,
            "display": null,
            "flex": null,
            "flex_flow": null,
            "grid_area": null,
            "grid_auto_columns": null,
            "grid_auto_flow": null,
            "grid_auto_rows": null,
            "grid_column": null,
            "grid_gap": null,
            "grid_row": null,
            "grid_template_areas": null,
            "grid_template_columns": null,
            "grid_template_rows": null,
            "height": null,
            "justify_content": null,
            "justify_items": null,
            "left": null,
            "margin": null,
            "max_height": null,
            "max_width": null,
            "min_height": null,
            "min_width": null,
            "object_fit": null,
            "object_position": null,
            "order": null,
            "overflow": null,
            "overflow_x": null,
            "overflow_y": null,
            "padding": null,
            "right": null,
            "top": null,
            "visibility": null,
            "width": null
          }
        },
        "9de419c9fcac4495b2de00bbcd005443": {
          "model_module": "@jupyter-widgets/controls",
          "model_name": "DescriptionStyleModel",
          "model_module_version": "1.5.0",
          "state": {
            "_model_module": "@jupyter-widgets/controls",
            "_model_module_version": "1.5.0",
            "_model_name": "DescriptionStyleModel",
            "_view_count": null,
            "_view_module": "@jupyter-widgets/base",
            "_view_module_version": "1.2.0",
            "_view_name": "StyleView",
            "description_width": ""
          }
        },
        "3907f063dd1442439c32f247b0f70b8e": {
          "model_module": "@jupyter-widgets/base",
          "model_name": "LayoutModel",
          "model_module_version": "1.2.0",
          "state": {
            "_model_module": "@jupyter-widgets/base",
            "_model_module_version": "1.2.0",
            "_model_name": "LayoutModel",
            "_view_count": null,
            "_view_module": "@jupyter-widgets/base",
            "_view_module_version": "1.2.0",
            "_view_name": "LayoutView",
            "align_content": null,
            "align_items": null,
            "align_self": null,
            "border": null,
            "bottom": null,
            "display": null,
            "flex": null,
            "flex_flow": null,
            "grid_area": null,
            "grid_auto_columns": null,
            "grid_auto_flow": null,
            "grid_auto_rows": null,
            "grid_column": null,
            "grid_gap": null,
            "grid_row": null,
            "grid_template_areas": null,
            "grid_template_columns": null,
            "grid_template_rows": null,
            "height": null,
            "justify_content": null,
            "justify_items": null,
            "left": null,
            "margin": null,
            "max_height": null,
            "max_width": null,
            "min_height": null,
            "min_width": null,
            "object_fit": null,
            "object_position": null,
            "order": null,
            "overflow": null,
            "overflow_x": null,
            "overflow_y": null,
            "padding": null,
            "right": null,
            "top": null,
            "visibility": null,
            "width": null
          }
        },
        "4c813616eca04340ae4801638e184039": {
          "model_module": "@jupyter-widgets/controls",
          "model_name": "ProgressStyleModel",
          "model_module_version": "1.5.0",
          "state": {
            "_model_module": "@jupyter-widgets/controls",
            "_model_module_version": "1.5.0",
            "_model_name": "ProgressStyleModel",
            "_view_count": null,
            "_view_module": "@jupyter-widgets/base",
            "_view_module_version": "1.2.0",
            "_view_name": "StyleView",
            "bar_color": null,
            "description_width": ""
          }
        },
        "d727861dd9da447ea4fd05f78825ceb4": {
          "model_module": "@jupyter-widgets/base",
          "model_name": "LayoutModel",
          "model_module_version": "1.2.0",
          "state": {
            "_model_module": "@jupyter-widgets/base",
            "_model_module_version": "1.2.0",
            "_model_name": "LayoutModel",
            "_view_count": null,
            "_view_module": "@jupyter-widgets/base",
            "_view_module_version": "1.2.0",
            "_view_name": "LayoutView",
            "align_content": null,
            "align_items": null,
            "align_self": null,
            "border": null,
            "bottom": null,
            "display": null,
            "flex": null,
            "flex_flow": null,
            "grid_area": null,
            "grid_auto_columns": null,
            "grid_auto_flow": null,
            "grid_auto_rows": null,
            "grid_column": null,
            "grid_gap": null,
            "grid_row": null,
            "grid_template_areas": null,
            "grid_template_columns": null,
            "grid_template_rows": null,
            "height": null,
            "justify_content": null,
            "justify_items": null,
            "left": null,
            "margin": null,
            "max_height": null,
            "max_width": null,
            "min_height": null,
            "min_width": null,
            "object_fit": null,
            "object_position": null,
            "order": null,
            "overflow": null,
            "overflow_x": null,
            "overflow_y": null,
            "padding": null,
            "right": null,
            "top": null,
            "visibility": null,
            "width": null
          }
        },
        "6447baf4a79d45918b96af8ca962048a": {
          "model_module": "@jupyter-widgets/controls",
          "model_name": "DescriptionStyleModel",
          "model_module_version": "1.5.0",
          "state": {
            "_model_module": "@jupyter-widgets/controls",
            "_model_module_version": "1.5.0",
            "_model_name": "DescriptionStyleModel",
            "_view_count": null,
            "_view_module": "@jupyter-widgets/base",
            "_view_module_version": "1.2.0",
            "_view_name": "StyleView",
            "description_width": ""
          }
        },
        "6f898b0d5750443eb7097f25e2057cef": {
          "model_module": "@jupyter-widgets/controls",
          "model_name": "HBoxModel",
          "model_module_version": "1.5.0",
          "state": {
            "_dom_classes": [],
            "_model_module": "@jupyter-widgets/controls",
            "_model_module_version": "1.5.0",
            "_model_name": "HBoxModel",
            "_view_count": null,
            "_view_module": "@jupyter-widgets/controls",
            "_view_module_version": "1.5.0",
            "_view_name": "HBoxView",
            "box_style": "",
            "children": [
              "IPY_MODEL_b9af72f47afc4b3b8fc0b57ba7088e6a",
              "IPY_MODEL_1cbc19ed7b254f7f9af1c8f7d137b029",
              "IPY_MODEL_8b34f5e8ec3141339e14072b3669b80d"
            ],
            "layout": "IPY_MODEL_8b1c30aa707b4e4a919e37ef6f2aac22"
          }
        },
        "b9af72f47afc4b3b8fc0b57ba7088e6a": {
          "model_module": "@jupyter-widgets/controls",
          "model_name": "HTMLModel",
          "model_module_version": "1.5.0",
          "state": {
            "_dom_classes": [],
            "_model_module": "@jupyter-widgets/controls",
            "_model_module_version": "1.5.0",
            "_model_name": "HTMLModel",
            "_view_count": null,
            "_view_module": "@jupyter-widgets/controls",
            "_view_module_version": "1.5.0",
            "_view_name": "HTMLView",
            "description": "",
            "description_tooltip": null,
            "layout": "IPY_MODEL_1081eba7e85343f1be6ee692552eeaec",
            "placeholder": "​",
            "style": "IPY_MODEL_9b8fbce6af0a40b78e7e14a70b8f351c",
            "value": "test-00000-of-00001.parquet: 100%"
          }
        },
        "1cbc19ed7b254f7f9af1c8f7d137b029": {
          "model_module": "@jupyter-widgets/controls",
          "model_name": "FloatProgressModel",
          "model_module_version": "1.5.0",
          "state": {
            "_dom_classes": [],
            "_model_module": "@jupyter-widgets/controls",
            "_model_module_version": "1.5.0",
            "_model_name": "FloatProgressModel",
            "_view_count": null,
            "_view_module": "@jupyter-widgets/controls",
            "_view_module_version": "1.5.0",
            "_view_name": "ProgressView",
            "bar_style": "success",
            "description": "",
            "description_tooltip": null,
            "layout": "IPY_MODEL_29b853ce7e2c43d1ab97298c3fdc2a00",
            "max": 23940850,
            "min": 0,
            "orientation": "horizontal",
            "style": "IPY_MODEL_570de145e488475abe205bb49e1c162f",
            "value": 23940850
          }
        },
        "8b34f5e8ec3141339e14072b3669b80d": {
          "model_module": "@jupyter-widgets/controls",
          "model_name": "HTMLModel",
          "model_module_version": "1.5.0",
          "state": {
            "_dom_classes": [],
            "_model_module": "@jupyter-widgets/controls",
            "_model_module_version": "1.5.0",
            "_model_name": "HTMLModel",
            "_view_count": null,
            "_view_module": "@jupyter-widgets/controls",
            "_view_module_version": "1.5.0",
            "_view_name": "HTMLView",
            "description": "",
            "description_tooltip": null,
            "layout": "IPY_MODEL_b0d37e9f90f54197a4daa572590f677f",
            "placeholder": "​",
            "style": "IPY_MODEL_3798d9be5827440f9708294193265e3c",
            "value": " 23.9M/23.9M [00:00&lt;00:00, 128MB/s]"
          }
        },
        "8b1c30aa707b4e4a919e37ef6f2aac22": {
          "model_module": "@jupyter-widgets/base",
          "model_name": "LayoutModel",
          "model_module_version": "1.2.0",
          "state": {
            "_model_module": "@jupyter-widgets/base",
            "_model_module_version": "1.2.0",
            "_model_name": "LayoutModel",
            "_view_count": null,
            "_view_module": "@jupyter-widgets/base",
            "_view_module_version": "1.2.0",
            "_view_name": "LayoutView",
            "align_content": null,
            "align_items": null,
            "align_self": null,
            "border": null,
            "bottom": null,
            "display": null,
            "flex": null,
            "flex_flow": null,
            "grid_area": null,
            "grid_auto_columns": null,
            "grid_auto_flow": null,
            "grid_auto_rows": null,
            "grid_column": null,
            "grid_gap": null,
            "grid_row": null,
            "grid_template_areas": null,
            "grid_template_columns": null,
            "grid_template_rows": null,
            "height": null,
            "justify_content": null,
            "justify_items": null,
            "left": null,
            "margin": null,
            "max_height": null,
            "max_width": null,
            "min_height": null,
            "min_width": null,
            "object_fit": null,
            "object_position": null,
            "order": null,
            "overflow": null,
            "overflow_x": null,
            "overflow_y": null,
            "padding": null,
            "right": null,
            "top": null,
            "visibility": null,
            "width": null
          }
        },
        "1081eba7e85343f1be6ee692552eeaec": {
          "model_module": "@jupyter-widgets/base",
          "model_name": "LayoutModel",
          "model_module_version": "1.2.0",
          "state": {
            "_model_module": "@jupyter-widgets/base",
            "_model_module_version": "1.2.0",
            "_model_name": "LayoutModel",
            "_view_count": null,
            "_view_module": "@jupyter-widgets/base",
            "_view_module_version": "1.2.0",
            "_view_name": "LayoutView",
            "align_content": null,
            "align_items": null,
            "align_self": null,
            "border": null,
            "bottom": null,
            "display": null,
            "flex": null,
            "flex_flow": null,
            "grid_area": null,
            "grid_auto_columns": null,
            "grid_auto_flow": null,
            "grid_auto_rows": null,
            "grid_column": null,
            "grid_gap": null,
            "grid_row": null,
            "grid_template_areas": null,
            "grid_template_columns": null,
            "grid_template_rows": null,
            "height": null,
            "justify_content": null,
            "justify_items": null,
            "left": null,
            "margin": null,
            "max_height": null,
            "max_width": null,
            "min_height": null,
            "min_width": null,
            "object_fit": null,
            "object_position": null,
            "order": null,
            "overflow": null,
            "overflow_x": null,
            "overflow_y": null,
            "padding": null,
            "right": null,
            "top": null,
            "visibility": null,
            "width": null
          }
        },
        "9b8fbce6af0a40b78e7e14a70b8f351c": {
          "model_module": "@jupyter-widgets/controls",
          "model_name": "DescriptionStyleModel",
          "model_module_version": "1.5.0",
          "state": {
            "_model_module": "@jupyter-widgets/controls",
            "_model_module_version": "1.5.0",
            "_model_name": "DescriptionStyleModel",
            "_view_count": null,
            "_view_module": "@jupyter-widgets/base",
            "_view_module_version": "1.2.0",
            "_view_name": "StyleView",
            "description_width": ""
          }
        },
        "29b853ce7e2c43d1ab97298c3fdc2a00": {
          "model_module": "@jupyter-widgets/base",
          "model_name": "LayoutModel",
          "model_module_version": "1.2.0",
          "state": {
            "_model_module": "@jupyter-widgets/base",
            "_model_module_version": "1.2.0",
            "_model_name": "LayoutModel",
            "_view_count": null,
            "_view_module": "@jupyter-widgets/base",
            "_view_module_version": "1.2.0",
            "_view_name": "LayoutView",
            "align_content": null,
            "align_items": null,
            "align_self": null,
            "border": null,
            "bottom": null,
            "display": null,
            "flex": null,
            "flex_flow": null,
            "grid_area": null,
            "grid_auto_columns": null,
            "grid_auto_flow": null,
            "grid_auto_rows": null,
            "grid_column": null,
            "grid_gap": null,
            "grid_row": null,
            "grid_template_areas": null,
            "grid_template_columns": null,
            "grid_template_rows": null,
            "height": null,
            "justify_content": null,
            "justify_items": null,
            "left": null,
            "margin": null,
            "max_height": null,
            "max_width": null,
            "min_height": null,
            "min_width": null,
            "object_fit": null,
            "object_position": null,
            "order": null,
            "overflow": null,
            "overflow_x": null,
            "overflow_y": null,
            "padding": null,
            "right": null,
            "top": null,
            "visibility": null,
            "width": null
          }
        },
        "570de145e488475abe205bb49e1c162f": {
          "model_module": "@jupyter-widgets/controls",
          "model_name": "ProgressStyleModel",
          "model_module_version": "1.5.0",
          "state": {
            "_model_module": "@jupyter-widgets/controls",
            "_model_module_version": "1.5.0",
            "_model_name": "ProgressStyleModel",
            "_view_count": null,
            "_view_module": "@jupyter-widgets/base",
            "_view_module_version": "1.2.0",
            "_view_name": "StyleView",
            "bar_color": null,
            "description_width": ""
          }
        },
        "b0d37e9f90f54197a4daa572590f677f": {
          "model_module": "@jupyter-widgets/base",
          "model_name": "LayoutModel",
          "model_module_version": "1.2.0",
          "state": {
            "_model_module": "@jupyter-widgets/base",
            "_model_module_version": "1.2.0",
            "_model_name": "LayoutModel",
            "_view_count": null,
            "_view_module": "@jupyter-widgets/base",
            "_view_module_version": "1.2.0",
            "_view_name": "LayoutView",
            "align_content": null,
            "align_items": null,
            "align_self": null,
            "border": null,
            "bottom": null,
            "display": null,
            "flex": null,
            "flex_flow": null,
            "grid_area": null,
            "grid_auto_columns": null,
            "grid_auto_flow": null,
            "grid_auto_rows": null,
            "grid_column": null,
            "grid_gap": null,
            "grid_row": null,
            "grid_template_areas": null,
            "grid_template_columns": null,
            "grid_template_rows": null,
            "height": null,
            "justify_content": null,
            "justify_items": null,
            "left": null,
            "margin": null,
            "max_height": null,
            "max_width": null,
            "min_height": null,
            "min_width": null,
            "object_fit": null,
            "object_position": null,
            "order": null,
            "overflow": null,
            "overflow_x": null,
            "overflow_y": null,
            "padding": null,
            "right": null,
            "top": null,
            "visibility": null,
            "width": null
          }
        },
        "3798d9be5827440f9708294193265e3c": {
          "model_module": "@jupyter-widgets/controls",
          "model_name": "DescriptionStyleModel",
          "model_module_version": "1.5.0",
          "state": {
            "_model_module": "@jupyter-widgets/controls",
            "_model_module_version": "1.5.0",
            "_model_name": "DescriptionStyleModel",
            "_view_count": null,
            "_view_module": "@jupyter-widgets/base",
            "_view_module_version": "1.2.0",
            "_view_name": "StyleView",
            "description_width": ""
          }
        }
      }
    }
  },
  "cells": [
    {
      "cell_type": "markdown",
      "source": [
        "We’ll build a federated learning system using the **Flower framework**, **Flower Datasets** and **PyTorch**.\n",
        "*   In part 1, we will use *Pytorch for model training pipeine and data loading*.\n",
        "*   In part 2, we will form the Pytorch project using Flower.\n"
      ],
      "metadata": {
        "id": "MbOsikL6Ntnm"
      }
    },
    {
      "cell_type": "markdown",
      "source": [
        "**Step 0: Preparation**\n",
        "\n",
        "\n",
        "---\n",
        "\n"
      ],
      "metadata": {
        "id": "YzyCnLfcN3YB"
      }
    },
    {
      "cell_type": "markdown",
      "source": [
        "Install dependencies\n"
      ],
      "metadata": {
        "id": "ysPIHOQLUXXV"
      }
    },
    {
      "cell_type": "code",
      "source": [
        "!pip install -q flwr[simulation] flwr-datasets[vision] torch torchvision matplotlib"
      ],
      "metadata": {
        "id": "7q5GJiVZOBIO",
        "colab": {
          "base_uri": "https://localhost:8080/"
        },
        "outputId": "0bf73c98-c667-4d53-a1f2-7630f56ebf5f"
      },
      "execution_count": null,
      "outputs": [
        {
          "output_type": "stream",
          "name": "stdout",
          "text": [
            "\u001b[2K   \u001b[90m━━━━━━━━━━━━━━━━━━━━━━━━━━━━━━━━━━━━━━━━\u001b[0m \u001b[32m66.7/66.7 MB\u001b[0m \u001b[31m8.1 MB/s\u001b[0m eta \u001b[36m0:00:00\u001b[0m\n",
            "\u001b[2K   \u001b[90m━━━━━━━━━━━━━━━━━━━━━━━━━━━━━━━━━━━━━━━━\u001b[0m \u001b[32m363.4/363.4 MB\u001b[0m \u001b[31m4.5 MB/s\u001b[0m eta \u001b[36m0:00:00\u001b[0m\n",
            "\u001b[2K   \u001b[90m━━━━━━━━━━━━━━━━━━━━━━━━━━━━━━━━━━━━━━━━\u001b[0m \u001b[32m13.8/13.8 MB\u001b[0m \u001b[31m65.6 MB/s\u001b[0m eta \u001b[36m0:00:00\u001b[0m\n",
            "\u001b[2K   \u001b[90m━━━━━━━━━━━━━━━━━━━━━━━━━━━━━━━━━━━━━━━━\u001b[0m \u001b[32m24.6/24.6 MB\u001b[0m \u001b[31m54.9 MB/s\u001b[0m eta \u001b[36m0:00:00\u001b[0m\n",
            "\u001b[2K   \u001b[90m━━━━━━━━━━━━━━━━━━━━━━━━━━━━━━━━━━━━━━━━\u001b[0m \u001b[32m883.7/883.7 kB\u001b[0m \u001b[31m42.8 MB/s\u001b[0m eta \u001b[36m0:00:00\u001b[0m\n",
            "\u001b[2K   \u001b[90m━━━━━━━━━━━━━━━━━━━━━━━━━━━━━━━━━━━━━━━━\u001b[0m \u001b[32m664.8/664.8 MB\u001b[0m \u001b[31m1.4 MB/s\u001b[0m eta \u001b[36m0:00:00\u001b[0m\n",
            "\u001b[2K   \u001b[90m━━━━━━━━━━━━━━━━━━━━━━━━━━━━━━━━━━━━━━━━\u001b[0m \u001b[32m211.5/211.5 MB\u001b[0m \u001b[31m6.9 MB/s\u001b[0m eta \u001b[36m0:00:00\u001b[0m\n",
            "\u001b[2K   \u001b[90m━━━━━━━━━━━━━━━━━━━━━━━━━━━━━━━━━━━━━━━━\u001b[0m \u001b[32m56.3/56.3 MB\u001b[0m \u001b[31m11.8 MB/s\u001b[0m eta \u001b[36m0:00:00\u001b[0m\n",
            "\u001b[2K   \u001b[90m━━━━━━━━━━━━━━━━━━━━━━━━━━━━━━━━━━━━━━━━\u001b[0m \u001b[32m127.9/127.9 MB\u001b[0m \u001b[31m8.8 MB/s\u001b[0m eta \u001b[36m0:00:00\u001b[0m\n",
            "\u001b[2K   \u001b[90m━━━━━━━━━━━━━━━━━━━━━━━━━━━━━━━━━━━━━━━━\u001b[0m \u001b[32m207.5/207.5 MB\u001b[0m \u001b[31m4.9 MB/s\u001b[0m eta \u001b[36m0:00:00\u001b[0m\n",
            "\u001b[2K   \u001b[90m━━━━━━━━━━━━━━━━━━━━━━━━━━━━━━━━━━━━━━━━\u001b[0m \u001b[32m21.1/21.1 MB\u001b[0m \u001b[31m62.6 MB/s\u001b[0m eta \u001b[36m0:00:00\u001b[0m\n",
            "\u001b[2K   \u001b[90m━━━━━━━━━━━━━━━━━━━━━━━━━━━━━━━━━━━━━━━━\u001b[0m \u001b[32m4.2/4.2 MB\u001b[0m \u001b[31m67.0 MB/s\u001b[0m eta \u001b[36m0:00:00\u001b[0m\n",
            "\u001b[2K   \u001b[90m━━━━━━━━━━━━━━━━━━━━━━━━━━━━━━━━━━━━━━━━\u001b[0m \u001b[32m480.6/480.6 kB\u001b[0m \u001b[31m28.0 MB/s\u001b[0m eta \u001b[36m0:00:00\u001b[0m\n",
            "\u001b[2K   \u001b[90m━━━━━━━━━━━━━━━━━━━━━━━━━━━━━━━━━━━━━━━━\u001b[0m \u001b[32m179.3/179.3 kB\u001b[0m \u001b[31m11.9 MB/s\u001b[0m eta \u001b[36m0:00:00\u001b[0m\n",
            "\u001b[2K   \u001b[90m━━━━━━━━━━━━━━━━━━━━━━━━━━━━━━━━━━━━━━━━\u001b[0m \u001b[32m294.6/294.6 kB\u001b[0m \u001b[31m19.8 MB/s\u001b[0m eta \u001b[36m0:00:00\u001b[0m\n",
            "\u001b[2K   \u001b[90m━━━━━━━━━━━━━━━━━━━━━━━━━━━━━━━━━━━━━━━━\u001b[0m \u001b[32m2.3/2.3 MB\u001b[0m \u001b[31m55.3 MB/s\u001b[0m eta \u001b[36m0:00:00\u001b[0m\n",
            "\u001b[2K   \u001b[90m━━━━━━━━━━━━━━━━━━━━━━━━━━━━━━━━━━━━━━━━\u001b[0m \u001b[32m236.0/236.0 kB\u001b[0m \u001b[31m15.8 MB/s\u001b[0m eta \u001b[36m0:00:00\u001b[0m\n",
            "\u001b[2K   \u001b[90m━━━━━━━━━━━━━━━━━━━━━━━━━━━━━━━━━━━━━━━━\u001b[0m \u001b[32m47.3/47.3 kB\u001b[0m \u001b[31m3.0 MB/s\u001b[0m eta \u001b[36m0:00:00\u001b[0m\n",
            "\u001b[2K   \u001b[90m━━━━━━━━━━━━━━━━━━━━━━━━━━━━━━━━━━━━━━━━\u001b[0m \u001b[32m532.1/532.1 kB\u001b[0m \u001b[31m28.8 MB/s\u001b[0m eta \u001b[36m0:00:00\u001b[0m\n",
            "\u001b[2K   \u001b[90m━━━━━━━━━━━━━━━━━━━━━━━━━━━━━━━━━━━━━━━━\u001b[0m \u001b[32m87.0/87.0 kB\u001b[0m \u001b[31m5.5 MB/s\u001b[0m eta \u001b[36m0:00:00\u001b[0m\n",
            "\u001b[2K   \u001b[90m━━━━━━━━━━━━━━━━━━━━━━━━━━━━━━━━━━━━━━━━\u001b[0m \u001b[32m116.3/116.3 kB\u001b[0m \u001b[31m8.5 MB/s\u001b[0m eta \u001b[36m0:00:00\u001b[0m\n",
            "\u001b[2K   \u001b[90m━━━━━━━━━━━━━━━━━━━━━━━━━━━━━━━━━━━━━━━━\u001b[0m \u001b[32m143.5/143.5 kB\u001b[0m \u001b[31m11.2 MB/s\u001b[0m eta \u001b[36m0:00:00\u001b[0m\n",
            "\u001b[2K   \u001b[90m━━━━━━━━━━━━━━━━━━━━━━━━━━━━━━━━━━━━━━━━\u001b[0m \u001b[32m194.8/194.8 kB\u001b[0m \u001b[31m13.2 MB/s\u001b[0m eta \u001b[36m0:00:00\u001b[0m\n",
            "\u001b[?25h\u001b[31mERROR: pip's dependency resolver does not currently take into account all the packages that are installed. This behaviour is the source of the following dependency conflicts.\n",
            "pyopenssl 24.2.1 requires cryptography<44,>=41.0.5, but you have cryptography 44.0.2 which is incompatible.\n",
            "gcsfs 2025.3.0 requires fsspec==2025.3.0, but you have fsspec 2024.9.0 which is incompatible.\n",
            "grpcio-status 1.71.0 requires protobuf<6.0dev,>=5.26.1, but you have protobuf 4.25.6 which is incompatible.\n",
            "pydrive2 1.21.3 requires cryptography<44, but you have cryptography 44.0.2 which is incompatible.\u001b[0m\u001b[31m\n",
            "\u001b[0m"
          ]
        }
      ]
    },
    {
      "cell_type": "code",
      "source": [
        "from collections import OrderedDict\n",
        "from typing import List, Tuple\n",
        "import matplotlib.pyplot as plt\n",
        "import numpy as np\n",
        "import torch\n",
        "import torch.nn as nn\n",
        "import torch.nn.functional as F\n",
        "import torchvision.transforms as transforms\n",
        "from datasets.utils.logging import disable_progress_bar\n",
        "# disable_progress_bar controls the visibility of progress bars\n",
        "from torch.utils.data import DataLoader\n",
        "import flwr\n",
        "from flwr.client import Client, ClientApp, NumPyClient\n",
        "from flwr.common import Metrics, Context\n",
        "from flwr.server import ServerApp, ServerConfig, ServerAppComponents\n",
        "from flwr.server.strategy import FedAvg\n",
        "from flwr.simulation import run_simulation\n",
        "from flwr_datasets import FederatedDataset"
      ],
      "metadata": {
        "id": "i1xBK27iQOZu"
      },
      "execution_count": null,
      "outputs": []
    },
    {
      "cell_type": "code",
      "source": [
        "DEVICE = \"cuda\" if torch.cuda.is_available() else \"cpu\"\n",
        "print(f\"Training on {DEVICE}\")\n",
        "print(f\"Flower {flwr.__version__} / PyTorch {torch.__version__}\")\n",
        "disable_progress_bar()"
      ],
      "metadata": {
        "colab": {
          "base_uri": "https://localhost:8080/"
        },
        "id": "N7NIDmUwTxHn",
        "outputId": "91bb5ec3-215d-4114-fc5d-442d0b1912b0"
      },
      "execution_count": null,
      "outputs": [
        {
          "output_type": "stream",
          "name": "stdout",
          "text": [
            "Training on cpu\n",
            "Flower 1.16.0 / PyTorch 2.6.0+cu124\n"
          ]
        }
      ]
    },
    {
      "cell_type": "markdown",
      "source": [
        "Load the data"
      ],
      "metadata": {
        "id": "FJP_XC3ZUj1q"
      }
    },
    {
      "cell_type": "markdown",
      "source": [
        "1.   We're using Federated Learning by training CNN on CIFAR-10 dataset.\n",
        "2.   Each organization will act as a client in the federated learning system.\n",
        "3.   We're using the Flower Datasets library (*flwr-datasets*) to partition *CIFAR-10* using FederatedDataset. We'll create train and test set for each organization and give them to *PyTorch DataLoader*.\n",
        "\n",
        "\n"
      ],
      "metadata": {
        "id": "kY-oac5mU0hm"
      }
    },
    {
      "cell_type": "code",
      "source": [
        "NUM_CLIENTS=10\n",
        "fds=FederatedDataset(dataset=\"cifar10\", partitioners={\"train\": NUM_CLIENTS})\n",
        "fds"
      ],
      "metadata": {
        "colab": {
          "base_uri": "https://localhost:8080/"
        },
        "id": "g_xY7_0QKyBo",
        "outputId": "86c413bb-d6f6-4ea2-f839-934bd0231095"
      },
      "execution_count": null,
      "outputs": [
        {
          "output_type": "execute_result",
          "data": {
            "text/plain": [
              "<flwr_datasets.federated_dataset.FederatedDataset at 0x7bffecab4d10>"
            ]
          },
          "metadata": {},
          "execution_count": 52
        }
      ]
    },
    {
      "cell_type": "code",
      "source": [
        "fds.partitioners"
      ],
      "metadata": {
        "colab": {
          "base_uri": "https://localhost:8080/"
        },
        "id": "k1gCDH81Kz82",
        "outputId": "c34c253a-5f56-4bcf-924d-ebca45aeec2b"
      },
      "execution_count": null,
      "outputs": [
        {
          "output_type": "execute_result",
          "data": {
            "text/plain": [
              "{'train': <flwr_datasets.partitioner.iid_partitioner.IidPartitioner at 0x7bffe7d1e5d0>}"
            ]
          },
          "metadata": {},
          "execution_count": 53
        }
      ]
    },
    {
      "cell_type": "code",
      "source": [
        "NUM_CLIENTS = 10\n",
        "BATCH_SIZE = 32\n",
        "# partition_id refers to client (0-9)\n",
        "def load_datasets(partition_id: int):\n",
        "    fds = FederatedDataset(dataset=\"cifar10\", partitioners={\"train\": NUM_CLIENTS}) #fds will contain the federated version of the CIFAR-10\n",
        "    partition = fds.load_partition(partition_id)\n",
        "    partition_train_test = partition.train_test_split(test_size=0.2, seed=42)\n",
        "    pytorch_transforms = transforms.Compose(\n",
        "        [transforms.ToTensor(),\n",
        "         transforms.Normalize((0.5, 0.5, 0.5), (0.5, 0.5, 0.5)) # Normalize(mean,std_dev)\n",
        "        ]\n",
        "    )\n",
        "\n",
        "    def apply_transforms(batch):\n",
        "        batch[\"img\"] = [pytorch_transforms(img) for img in batch[\"img\"]] #batch[\"img\"] refers to list of images\n",
        "        return batch\n",
        "\n",
        "    partition_train_test = partition_train_test.with_transform(apply_transforms)\n",
        "\n",
        "    trainloader = DataLoader(\n",
        "        partition_train_test[\"train\"], batch_size=BATCH_SIZE, shuffle=True # Retrieve training partition of the dataset from partition_train_test\n",
        "    )\n",
        "    valloader = DataLoader(\n",
        "        partition_train_test[\"test\"], batch_size=BATCH_SIZE\n",
        "    )\n",
        "\n",
        "    testset = fds.load_split(\"test\").with_transform(apply_transforms)\n",
        "    testloader = DataLoader(\n",
        "        testset, batch_size=BATCH_SIZE\n",
        "    )\n",
        "    return trainloader, valloader, testloader"
      ],
      "metadata": {
        "id": "1dCEAPRnT8wZ"
      },
      "execution_count": null,
      "outputs": []
    },
    {
      "cell_type": "code",
      "source": [
        "total_train = fds.load_split(\"train\")\n",
        "print(len(total_train))\n",
        "total_test = fds.load_split(\"test\")\n",
        "print(len(total_test))"
      ],
      "metadata": {
        "colab": {
          "base_uri": "https://localhost:8080/"
        },
        "id": "bXrESoiBNUP3",
        "outputId": "132d9f9f-e589-4aab-fb5e-6f47d0612ab2"
      },
      "execution_count": null,
      "outputs": [
        {
          "output_type": "stream",
          "name": "stdout",
          "text": [
            "50000\n",
            "10000\n"
          ]
        }
      ]
    },
    {
      "cell_type": "code",
      "source": [
        "print(len(partition))\n",
        "print(len(partition_train_test[\"train\"]))\n",
        "print(len(partition_train_test[\"test\"]))"
      ],
      "metadata": {
        "colab": {
          "base_uri": "https://localhost:8080/"
        },
        "id": "NyTHsNeVNgEY",
        "outputId": "a6096930-9e96-4d07-fcf4-7fc465ad99b7"
      },
      "execution_count": null,
      "outputs": [
        {
          "output_type": "stream",
          "name": "stdout",
          "text": [
            "5000\n",
            "4000\n",
            "1000\n"
          ]
        }
      ]
    },
    {
      "cell_type": "code",
      "source": [
        "fds = FederatedDataset(dataset=\"cifar10\", partitioners={\"train\": NUM_CLIENTS})\n",
        "partition = fds.load_partition(1)\n",
        "partition_train_test = partition.train_test_split(test_size=0.2, seed=42)\n",
        "\n",
        "def apply_transforms(batch):\n",
        "    batch[\"img\"] = [pytorch_transforms(img) for img in batch[\"img\"]]\n",
        "    return batch\n",
        "\n",
        "trainloader = DataLoader(\n",
        "    partition_train_test[\"train\"],\n",
        "    batch_size=BATCH_SIZE,\n",
        "    shuffle=True\n",
        ")\n",
        "valloader = DataLoader(\n",
        "    partition_train_test[\"test\"], batch_size=BATCH_SIZE\n",
        ")\n",
        "\n",
        "testset = fds.load_split(\"test\").with_transform(apply_transforms)\n",
        "testloader = DataLoader(\n",
        "    testset, batch_size=BATCH_SIZE\n",
        ")\n",
        "print(trainloader)  # Print DataLoader object reference\n",
        "print(valloader)\n",
        "print(testloader)"
      ],
      "metadata": {
        "colab": {
          "base_uri": "https://localhost:8080/"
        },
        "id": "Xc-6YfvQdstW",
        "outputId": "6a3806f9-321f-46b8-cf13-0d0169a11d6f"
      },
      "execution_count": null,
      "outputs": [
        {
          "output_type": "stream",
          "name": "stdout",
          "text": [
            "<torch.utils.data.dataloader.DataLoader object at 0x7bfff8d4d690>\n",
            "<torch.utils.data.dataloader.DataLoader object at 0x7bfff8982ad0>\n",
            "<torch.utils.data.dataloader.DataLoader object at 0x7bfff7adfbd0>\n"
          ]
        }
      ]
    },
    {
      "cell_type": "code",
      "source": [
        "fds.load_partition(1)"
      ],
      "metadata": {
        "colab": {
          "base_uri": "https://localhost:8080/"
        },
        "id": "1GPXsy1lLK7n",
        "outputId": "4f319dc3-6a77-4642-9abd-a074e589487a"
      },
      "execution_count": null,
      "outputs": [
        {
          "output_type": "execute_result",
          "data": {
            "text/plain": [
              "Dataset({\n",
              "    features: ['img', 'label'],\n",
              "    num_rows: 5000\n",
              "})"
            ]
          },
          "metadata": {},
          "execution_count": 54
        }
      ]
    },
    {
      "cell_type": "code",
      "source": [
        "import torchvision.transforms as transforms\n",
        "from torch.utils.data import DataLoader\n",
        "\n",
        "pytorch_transforms = transforms.Compose([\n",
        "    transforms.ToTensor(),  # Convert PIL.Image to Tensor\n",
        "    transforms.Normalize((0.5, 0.5, 0.5), (0.5, 0.5, 0.5))\n",
        "])\n",
        "\n",
        "def apply_transforms(batch):\n",
        "    batch[\"img\"] = [pytorch_transforms(img) for img in batch[\"img\"]]\n",
        "    return batch\n",
        "\n",
        "partition_train_test = partition_train_test.with_transform(apply_transforms)\n",
        "\n",
        "BATCH_SIZE = 32\n",
        "trainloader = DataLoader(\n",
        "    partition_train_test[\"train\"],\n",
        "    batch_size=BATCH_SIZE,\n",
        "    shuffle=True\n",
        ")\n",
        "valloader = DataLoader(\n",
        "    partition_train_test[\"test\"],\n",
        "    batch_size=BATCH_SIZE\n",
        ")\n",
        "testset = fds.load_split(\"test\").with_transform(apply_transforms)\n",
        "testloader = DataLoader(\n",
        "    testset,\n",
        "    batch_size=BATCH_SIZE\n",
        ")\n",
        "\n",
        "for batch in trainloader:\n",
        "    print(batch)\n",
        "    break"
      ],
      "metadata": {
        "colab": {
          "base_uri": "https://localhost:8080/"
        },
        "id": "2U2JykGMe1a9",
        "outputId": "f2963d53-8678-43e5-e364-262e5a9a4322"
      },
      "execution_count": null,
      "outputs": [
        {
          "output_type": "stream",
          "name": "stdout",
          "text": [
            "{'img': tensor([[[[-0.0824, -0.0667, -0.0745,  ..., -0.2784, -0.2941, -0.3255],\n",
            "          [-0.0510, -0.0745, -0.0824,  ..., -0.3882, -0.4196, -0.4431],\n",
            "          [-0.1843, -0.2078, -0.2000,  ..., -0.3412, -0.3804, -0.4039],\n",
            "          ...,\n",
            "          [ 0.2157,  0.2471,  0.2863,  ..., -0.0275, -0.0196, -0.0039],\n",
            "          [ 0.2706,  0.2706,  0.2706,  ..., -0.0353,  0.0196,  0.0118],\n",
            "          [ 0.2549,  0.1843,  0.0667,  ..., -0.0745, -0.0431, -0.0510]],\n",
            "\n",
            "         [[-0.1059, -0.0902, -0.0902,  ..., -0.2863, -0.3020, -0.3333],\n",
            "          [-0.1059, -0.1294, -0.1294,  ..., -0.3961, -0.4275, -0.4510],\n",
            "          [-0.2392, -0.2627, -0.2627,  ..., -0.3490, -0.3804, -0.4118],\n",
            "          ...,\n",
            "          [ 0.1294,  0.1608,  0.2000,  ..., -0.0980, -0.0902, -0.0745],\n",
            "          [ 0.1843,  0.1843,  0.1843,  ..., -0.1059, -0.0510, -0.0588],\n",
            "          [ 0.1686,  0.0980, -0.0196,  ..., -0.1529, -0.1137, -0.1294]],\n",
            "\n",
            "         [[-0.1373, -0.1294, -0.1294,  ..., -0.2392, -0.2549, -0.2941],\n",
            "          [-0.1686, -0.1922, -0.2000,  ..., -0.3569, -0.3804, -0.4118],\n",
            "          [-0.3412, -0.3647, -0.3569,  ..., -0.3176, -0.3490, -0.3804],\n",
            "          ...,\n",
            "          [-0.0275,  0.0039,  0.0431,  ..., -0.2235, -0.2235, -0.1922],\n",
            "          [ 0.0275,  0.0275,  0.0196,  ..., -0.2235, -0.1686, -0.1765],\n",
            "          [ 0.0118, -0.0588, -0.1765,  ..., -0.2549, -0.2157, -0.2314]]],\n",
            "\n",
            "\n",
            "        [[[-0.4431, -0.3882, -0.3569,  ..., -0.3490, -0.3882, -0.3725],\n",
            "          [-0.4196, -0.3569, -0.3333,  ..., -0.4196, -0.4275, -0.4431],\n",
            "          [-0.4667, -0.4118, -0.3569,  ..., -0.5137, -0.4980, -0.5059],\n",
            "          ...,\n",
            "          [-0.1059, -0.0902, -0.1451,  ..., -0.0745,  0.0275,  0.0039],\n",
            "          [-0.1373, -0.0745, -0.1137,  ...,  0.1529,  0.1059,  0.0667],\n",
            "          [-0.2392, -0.1451, -0.1529,  ...,  0.1373,  0.0353,  0.0039]],\n",
            "\n",
            "         [[-0.3333, -0.2784, -0.2627,  ..., -0.3412, -0.3647, -0.3490],\n",
            "          [-0.3098, -0.2471, -0.2314,  ..., -0.3490, -0.3490, -0.3569],\n",
            "          [-0.2863, -0.2314, -0.1843,  ..., -0.3490, -0.3725, -0.3882],\n",
            "          ...,\n",
            "          [-0.1529, -0.1294, -0.1529,  ..., -0.0902, -0.0353, -0.0667],\n",
            "          [-0.1608, -0.1137, -0.1294,  ...,  0.0118, -0.0275, -0.0588],\n",
            "          [-0.2235, -0.1451, -0.1686,  ..., -0.0196, -0.0980, -0.1059]],\n",
            "\n",
            "         [[-0.7176, -0.6863, -0.6784,  ..., -0.7176, -0.7569, -0.7255],\n",
            "          [-0.7255, -0.6784, -0.6549,  ..., -0.8118, -0.8118, -0.8118],\n",
            "          [-0.7490, -0.6941, -0.6392,  ..., -0.8980, -0.8902, -0.8902],\n",
            "          ...,\n",
            "          [-0.5765, -0.5608, -0.5843,  ..., -0.4745, -0.4196, -0.4588],\n",
            "          [-0.5843, -0.5451, -0.5608,  ..., -0.3961, -0.4431, -0.4824],\n",
            "          [-0.6235, -0.5608, -0.5686,  ..., -0.4353, -0.5137, -0.5137]]],\n",
            "\n",
            "\n",
            "        [[[ 0.5922,  0.6392,  0.6706,  ...,  0.9294,  0.9137,  0.8824],\n",
            "          [ 0.7804,  0.8980,  0.9451,  ...,  0.9765,  0.9608,  0.9216],\n",
            "          [ 0.7176,  0.8039,  0.8667,  ...,  1.0000,  1.0000,  0.9922],\n",
            "          ...,\n",
            "          [-0.0431, -0.1529, -0.1529,  ..., -0.6549, -0.0745,  0.6941],\n",
            "          [-0.0980, -0.2235, -0.2235,  ..., -0.4902, -0.1137,  0.5843],\n",
            "          [-0.3020, -0.2157, -0.2392,  ..., -0.2784, -0.0275,  0.4824]],\n",
            "\n",
            "         [[ 0.5922,  0.6392,  0.6706,  ...,  0.9294,  0.9137,  0.8824],\n",
            "          [ 0.7804,  0.8980,  0.9451,  ...,  0.9765,  0.9608,  0.9216],\n",
            "          [ 0.7176,  0.8039,  0.8667,  ...,  1.0000,  1.0000,  0.9922],\n",
            "          ...,\n",
            "          [-0.0431, -0.1529, -0.1529,  ..., -0.6549, -0.0745,  0.6941],\n",
            "          [-0.0980, -0.2235, -0.2235,  ..., -0.4902, -0.1137,  0.5843],\n",
            "          [-0.3020, -0.2157, -0.2392,  ..., -0.2784, -0.0275,  0.4824]],\n",
            "\n",
            "         [[ 0.5922,  0.6392,  0.6706,  ...,  0.9294,  0.9137,  0.8824],\n",
            "          [ 0.7804,  0.8980,  0.9451,  ...,  0.9765,  0.9608,  0.9216],\n",
            "          [ 0.7176,  0.8039,  0.8667,  ...,  1.0000,  1.0000,  0.9922],\n",
            "          ...,\n",
            "          [-0.0431, -0.1529, -0.1529,  ..., -0.6549, -0.0745,  0.6941],\n",
            "          [-0.0980, -0.2235, -0.2235,  ..., -0.4902, -0.1137,  0.5843],\n",
            "          [-0.3020, -0.2157, -0.2392,  ..., -0.2784, -0.0275,  0.4824]]],\n",
            "\n",
            "\n",
            "        ...,\n",
            "\n",
            "\n",
            "        [[[ 0.2863,  0.2863,  0.3176,  ...,  0.1451,  0.0902,  0.0667],\n",
            "          [ 0.3647,  0.3569,  0.3647,  ...,  0.1686,  0.1059,  0.0745],\n",
            "          [ 0.4275,  0.4118,  0.4118,  ...,  0.1608,  0.1059,  0.0667],\n",
            "          ...,\n",
            "          [ 0.1922,  0.3176,  0.1922,  ..., -0.0510,  0.1529,  0.1216],\n",
            "          [ 0.2706,  0.2627,  0.1451,  ..., -0.3333, -0.0980,  0.1608],\n",
            "          [ 0.2314,  0.0824, -0.1765,  ..., -0.1451, -0.2863, -0.0039]],\n",
            "\n",
            "         [[ 0.4118,  0.4118,  0.4431,  ...,  0.2392,  0.1765,  0.1608],\n",
            "          [ 0.4902,  0.4824,  0.4902,  ...,  0.2706,  0.1922,  0.1686],\n",
            "          [ 0.5529,  0.5373,  0.5373,  ...,  0.2627,  0.1922,  0.1608],\n",
            "          ...,\n",
            "          [ 0.2706,  0.3647,  0.2627,  ...,  0.0353,  0.2235,  0.2157],\n",
            "          [ 0.3333,  0.3020,  0.2235,  ..., -0.2078,  0.0118,  0.2235],\n",
            "          [ 0.2941,  0.1373, -0.0824,  ..., -0.0275, -0.1686,  0.0588]],\n",
            "\n",
            "         [[ 0.5373,  0.5373,  0.5686,  ...,  0.3725,  0.3098,  0.2863],\n",
            "          [ 0.6157,  0.6078,  0.6157,  ...,  0.4039,  0.3333,  0.2941],\n",
            "          [ 0.6863,  0.6627,  0.6627,  ...,  0.3961,  0.3255,  0.2941],\n",
            "          ...,\n",
            "          [ 0.3882,  0.4902,  0.3804,  ...,  0.1608,  0.3569,  0.3412],\n",
            "          [ 0.4510,  0.4353,  0.3412,  ..., -0.0902,  0.1294,  0.3647],\n",
            "          [ 0.4039,  0.2549,  0.0353,  ...,  0.0902, -0.0510,  0.1843]]],\n",
            "\n",
            "\n",
            "        [[[-0.7255, -0.8824, -0.7647,  ..., -0.1059, -0.0039,  0.0275],\n",
            "          [-0.6392, -0.6549, -0.4431,  ..., -0.0510,  0.0275, -0.0118],\n",
            "          [-0.4667, -0.3569, -0.3725,  ...,  0.0353,  0.0275, -0.0745],\n",
            "          ...,\n",
            "          [-0.3569, -0.3176, -0.2863,  ..., -0.5059, -0.3804, -0.3882],\n",
            "          [ 0.0118,  0.0353,  0.0510,  ..., -0.4275, -0.3804, -0.5922],\n",
            "          [ 0.2157,  0.2078,  0.2235,  ..., -0.4510, -0.5608, -0.5765]],\n",
            "\n",
            "         [[-0.8275, -0.9216, -0.8118,  ..., -0.3412, -0.2392, -0.2157],\n",
            "          [-0.7882, -0.7961, -0.6157,  ..., -0.2863, -0.2157, -0.2627],\n",
            "          [-0.6392, -0.5294, -0.5373,  ..., -0.1922, -0.2157, -0.3333],\n",
            "          ...,\n",
            "          [-0.5843, -0.5451, -0.5059,  ..., -0.3804, -0.1843, -0.1137],\n",
            "          [-0.1529, -0.1294, -0.1137,  ..., -0.3961, -0.2784, -0.4431],\n",
            "          [ 0.1059,  0.0902,  0.1059,  ..., -0.3255, -0.4196, -0.4353]],\n",
            "\n",
            "         [[-0.9373, -0.9686, -0.8902,  ..., -0.6392, -0.5216, -0.4667],\n",
            "          [-0.8824, -0.9059, -0.7804,  ..., -0.5843, -0.4667, -0.4667],\n",
            "          [-0.7961, -0.6941, -0.7098,  ..., -0.4902, -0.4510, -0.5059],\n",
            "          ...,\n",
            "          [-0.7647, -0.6941, -0.6706,  ..., -0.7804, -0.7020, -0.8039],\n",
            "          [-0.3255, -0.2706, -0.2863,  ..., -0.7490, -0.6784, -0.8039],\n",
            "          [-0.0510, -0.0353, -0.0353,  ..., -0.7961, -0.8745, -0.7490]]],\n",
            "\n",
            "\n",
            "        [[[ 0.2549,  0.1529,  0.1529,  ...,  0.2000,  0.1765,  0.2471],\n",
            "          [ 0.0196, -0.3176, -0.2941,  ..., -0.2863, -0.3255, -0.0588],\n",
            "          [-0.0588, -0.2627, -0.1451,  ..., -0.2863, -0.3490, -0.0980],\n",
            "          ...,\n",
            "          [-0.1451, -0.4196,  0.2235,  ..., -0.9059, -0.9686, -0.4588],\n",
            "          [-0.1922, -0.8118, -0.7020,  ..., -0.8588, -0.9373, -0.4667],\n",
            "          [-0.0039, -0.3020, -0.2941,  ..., -0.3020, -0.3412, -0.1451]],\n",
            "\n",
            "         [[ 0.1216,  0.0588,  0.0588,  ...,  0.0510,  0.0275,  0.0902],\n",
            "          [-0.1137, -0.3804, -0.3333,  ..., -0.4667, -0.5137, -0.2235],\n",
            "          [-0.1843, -0.3098, -0.1529,  ..., -0.6078, -0.6863, -0.3725],\n",
            "          ...,\n",
            "          [-0.3176, -0.5529,  0.1451,  ..., -0.9529, -0.9922, -0.5216],\n",
            "          [-0.3255, -0.8824, -0.7569,  ..., -0.9059, -0.9451, -0.4980],\n",
            "          [-0.1373, -0.3804, -0.3647,  ..., -0.3882, -0.3961, -0.2157]],\n",
            "\n",
            "         [[-0.0039,  0.0510,  0.0588,  ..., -0.0353, -0.0118,  0.0510],\n",
            "          [-0.1608, -0.1765, -0.0275,  ..., -0.4196, -0.4588, -0.2392],\n",
            "          [-0.1686,  0.0980,  0.4196,  ..., -0.4196, -0.5216, -0.3333],\n",
            "          ...,\n",
            "          [-0.3255, -0.7412, -0.6157,  ..., -0.6863, -0.7176, -0.4824],\n",
            "          [-0.3333, -0.7647, -0.7647,  ..., -0.7098, -0.7333, -0.4902],\n",
            "          [-0.2784, -0.4039, -0.3176,  ..., -0.3490, -0.3569, -0.2784]]]]), 'label': tensor([9, 4, 8, 1, 2, 5, 9, 1, 0, 2, 0, 5, 6, 3, 3, 1, 2, 7, 5, 1, 1, 6, 9, 2,\n",
            "        0, 5, 4, 7, 3, 8, 3, 4])}\n"
          ]
        }
      ]
    },
    {
      "cell_type": "code",
      "source": [
        "for batch in trainloader:\n",
        "  print(batch['img'][0])\n",
        "  print(batch['img'][0].shape)\n",
        "  print(batch['label'][0])\n",
        "  break"
      ],
      "metadata": {
        "colab": {
          "base_uri": "https://localhost:8080/"
        },
        "id": "AB9wAYFqRLQ5",
        "outputId": "8b86362a-cd79-47be-88bb-e7ac8fea85a7"
      },
      "execution_count": null,
      "outputs": [
        {
          "output_type": "stream",
          "name": "stdout",
          "text": [
            "tensor([[[ 0.4510,  0.3882,  0.3647,  ..., -0.1843, -0.0275,  0.0980],\n",
            "         [ 0.1529,  0.0980,  0.0588,  ..., -0.6235, -0.3098, -0.0353],\n",
            "         [-0.1294, -0.1451, -0.2000,  ..., -0.6627, -0.4039, -0.0902],\n",
            "         ...,\n",
            "         [ 0.0588,  0.1529,  0.2784,  ...,  0.1216,  0.1529,  0.1059],\n",
            "         [ 0.2235,  0.1216,  0.1529,  ...,  0.1059,  0.1294,  0.0588],\n",
            "         [ 0.3020,  0.2078,  0.1843,  ...,  0.1373,  0.1294,  0.1216]],\n",
            "\n",
            "        [[ 0.3569,  0.2941,  0.2706,  ..., -0.2941, -0.1294,  0.0118],\n",
            "         [ 0.0902,  0.0431, -0.0039,  ..., -0.6863, -0.3647, -0.0902],\n",
            "         [-0.1686, -0.1843, -0.2392,  ..., -0.6706, -0.4039, -0.1137],\n",
            "         ...,\n",
            "         [-0.1059,  0.0275,  0.1059,  ..., -0.0196,  0.0039, -0.0510],\n",
            "         [ 0.0588, -0.0039, -0.0275,  ..., -0.0510, -0.0275, -0.1059],\n",
            "         [ 0.1216,  0.0431, -0.0039,  ..., -0.0039, -0.0196, -0.0431]],\n",
            "\n",
            "        [[ 0.1843,  0.1216,  0.0980,  ..., -0.3725, -0.2471, -0.0588],\n",
            "         [-0.0588, -0.1059, -0.1451,  ..., -0.6941, -0.4275, -0.1294],\n",
            "         [-0.3333, -0.3412, -0.3961,  ..., -0.6314, -0.4275, -0.1373],\n",
            "         ...,\n",
            "         [-0.1843, -0.0588,  0.0275,  ..., -0.2941, -0.2471, -0.2706],\n",
            "         [-0.0824, -0.1608, -0.1529,  ..., -0.3412, -0.2784, -0.3176],\n",
            "         [-0.0275, -0.1137, -0.1451,  ..., -0.2784, -0.2706, -0.2706]]])\n",
            "torch.Size([3, 32, 32])\n",
            "tensor(7)\n"
          ]
        }
      ]
    },
    {
      "cell_type": "code",
      "source": [
        "print(len(trainloader.dataset))\n",
        "print(len(trainloader)) # 32*len(trainloader)=4000"
      ],
      "metadata": {
        "colab": {
          "base_uri": "https://localhost:8080/"
        },
        "id": "eobMNxRBJMQ2",
        "outputId": "831a3960-f4de-483d-aeb4-e584e1f3b047"
      },
      "execution_count": null,
      "outputs": [
        {
          "output_type": "stream",
          "name": "stdout",
          "text": [
            "4000\n",
            "125\n"
          ]
        }
      ]
    },
    {
      "cell_type": "code",
      "source": [
        "for batch in trainloader:\n",
        "    print(\"Image batch shape:\", batch['img'].shape)\n",
        "    print(\"Label batch shape:\", batch['label'].shape)\n",
        "    break"
      ],
      "metadata": {
        "colab": {
          "base_uri": "https://localhost:8080/"
        },
        "id": "hre4zFiKJMNa",
        "outputId": "1196141a-5381-486b-ce71-ac902fd7c30b"
      },
      "execution_count": null,
      "outputs": [
        {
          "output_type": "stream",
          "name": "stdout",
          "text": [
            "Image batch shape: torch.Size([32, 3, 32, 32])\n",
            "Label batch shape: torch.Size([32])\n"
          ]
        }
      ]
    },
    {
      "cell_type": "code",
      "source": [
        "for batch in trainloader:\n",
        "    image = batch['img'][3]\n",
        "    label = batch['label'][3]\n",
        "    break\n",
        "\n",
        "print(f\"Shape of one image: {image.shape}\")\n",
        "print(label)\n",
        "print(label.item())"
      ],
      "metadata": {
        "colab": {
          "base_uri": "https://localhost:8080/"
        },
        "id": "0pPuaAJmDnaL",
        "outputId": "458e4506-8a2a-45c7-f357-456615ca0638"
      },
      "execution_count": null,
      "outputs": [
        {
          "output_type": "stream",
          "name": "stdout",
          "text": [
            "Shape of one image: torch.Size([3, 32, 32])\n",
            "tensor(9)\n",
            "9\n"
          ]
        }
      ]
    },
    {
      "cell_type": "code",
      "source": [
        "import matplotlib.pyplot as plt\n",
        "import torchvision\n",
        "\n",
        "image = batch['img'][31]\n",
        "label = batch['label'][31]\n",
        "\n",
        "image = image*0.5+0.5\n",
        "\n",
        "plt.imshow(image.permute(1,2,0).numpy())\n",
        "plt.title(f\"Label: {label.item()}\")\n",
        "plt.axis('off')\n",
        "plt.show()"
      ],
      "metadata": {
        "colab": {
          "base_uri": "https://localhost:8080/",
          "height": 428
        },
        "id": "WEQD1v2kFg9E",
        "outputId": "90237dd5-202d-43da-cdee-3549b2e824db"
      },
      "execution_count": null,
      "outputs": [
        {
          "output_type": "display_data",
          "data": {
            "text/plain": [
              "<Figure size 640x480 with 1 Axes>"
            ],
            "image/png": "[encoded data removed]"
          },
          "metadata": {}
        }
      ]
    },
    {
      "cell_type": "code",
      "source": [
        "for batch in valloader:\n",
        "  print(batch)\n",
        "  break"
      ],
      "metadata": {
        "colab": {
          "base_uri": "https://localhost:8080/"
        },
        "id": "sp2E1Chbv201",
        "outputId": "781d19c4-5f39-45a7-bc98-b7387527ad5f"
      },
      "execution_count": null,
      "outputs": [
        {
          "output_type": "stream",
          "name": "stdout",
          "text": [
            "{'img': tensor([[[[-0.2627, -0.1686, -0.2235,  ..., -0.0745, -0.2157, -0.2941],\n",
            "          [-0.1216, -0.1843, -0.2078,  ..., -0.0118, -0.1059, -0.2235],\n",
            "          [ 0.0275, -0.2627, -0.2471,  ..., -0.1216, -0.1686, -0.1686],\n",
            "          ...,\n",
            "          [ 0.7569,  0.8196,  0.6784,  ...,  0.7569,  0.7569,  0.7647],\n",
            "          [ 0.6392,  0.7882,  0.6941,  ...,  0.7020,  0.6863,  0.7490],\n",
            "          [ 0.5843,  0.6471,  0.6627,  ...,  0.6157,  0.6392,  0.7490]],\n",
            "\n",
            "         [[-0.2549, -0.1451, -0.2000,  ..., -0.0353, -0.1843, -0.2392],\n",
            "          [-0.1216, -0.2157, -0.2235,  ..., -0.0118, -0.0824, -0.1922],\n",
            "          [-0.0118, -0.3020, -0.2627,  ..., -0.1451, -0.1451, -0.1608],\n",
            "          ...,\n",
            "          [ 0.7098,  0.7882,  0.6078,  ...,  0.6314,  0.6471,  0.6471],\n",
            "          [ 0.5765,  0.7412,  0.6078,  ...,  0.6157,  0.6157,  0.6706],\n",
            "          [ 0.5529,  0.6000,  0.5608,  ...,  0.5765,  0.6157,  0.7176]],\n",
            "\n",
            "         [[-0.5451, -0.4902, -0.5373,  ..., -0.4039, -0.5686, -0.6000],\n",
            "          [-0.4275, -0.5137, -0.5451,  ..., -0.4353, -0.4745, -0.5529],\n",
            "          [-0.3647, -0.6000, -0.5843,  ..., -0.5137, -0.5608, -0.5216],\n",
            "          ...,\n",
            "          [ 0.4039,  0.5922,  0.3569,  ...,  0.2235,  0.2471,  0.3020],\n",
            "          [ 0.2235,  0.4980,  0.3176,  ...,  0.2314,  0.2314,  0.2941],\n",
            "          [ 0.1294,  0.1686,  0.1529,  ...,  0.1922,  0.2000,  0.3255]]],\n",
            "\n",
            "\n",
            "        [[[-0.9294, -0.9451, -0.9216,  ..., -0.8196, -0.8118, -0.6863],\n",
            "          [-0.9059, -0.9373, -0.9137,  ..., -0.8275, -0.8353, -0.5451],\n",
            "          [-0.8980, -0.9294, -0.8510,  ..., -0.7255, -0.8275, -0.3725],\n",
            "          ...,\n",
            "          [-0.7490, -0.7725, -0.7333,  ...,  0.1686,  0.3333,  0.3255],\n",
            "          [-0.7804, -0.7412, -0.6706,  ..., -0.0118,  0.0196,  0.2157],\n",
            "          [-0.8196, -0.7255, -0.6078,  ..., -0.2549, -0.4196, -0.2627]],\n",
            "\n",
            "         [[-0.9294, -0.9529, -0.9216,  ..., -0.8118, -0.7882, -0.6784],\n",
            "          [-0.9137, -0.9373, -0.9137,  ..., -0.8039, -0.8039, -0.5294],\n",
            "          [-0.9059, -0.9216, -0.8667,  ..., -0.7098, -0.7804, -0.3490],\n",
            "          ...,\n",
            "          [-0.7882, -0.8118, -0.8039,  ...,  0.0039,  0.1608,  0.1529],\n",
            "          [-0.8039, -0.7882, -0.7725,  ..., -0.1529, -0.1059,  0.1059],\n",
            "          [-0.8431, -0.7882, -0.7176,  ..., -0.3725, -0.5059, -0.3333]],\n",
            "\n",
            "         [[-0.9529, -0.9529, -0.9294,  ..., -0.9137, -0.8745, -0.8510],\n",
            "          [-0.9373, -0.9529, -0.9451,  ..., -0.9294, -0.8824, -0.6627],\n",
            "          [-0.9294, -0.9451, -0.9137,  ..., -0.8745, -0.9059, -0.5137],\n",
            "          ...,\n",
            "          [-0.8667, -0.8980, -0.9137,  ..., -0.0667,  0.0745,  0.0588],\n",
            "          [-0.8824, -0.8745, -0.8902,  ..., -0.2706, -0.1843,  0.0431],\n",
            "          [-0.9137, -0.8745, -0.8353,  ..., -0.4824, -0.5843, -0.3882]]],\n",
            "\n",
            "\n",
            "        [[[ 0.6157,  0.5373,  0.4980,  ...,  0.1373,  0.0824, -0.1059],\n",
            "          [ 0.7412,  0.3490,  0.2941,  ...,  0.1608, -0.0745, -0.2941],\n",
            "          [ 0.9137,  0.3961,  0.1137,  ...,  0.6784,  0.2314, -0.1137],\n",
            "          ...,\n",
            "          [ 0.4039,  0.4039,  0.4196,  ...,  0.6784,  0.6000,  0.5765],\n",
            "          [ 0.6314,  0.6471,  0.6235,  ...,  0.8039,  0.7725,  0.6157],\n",
            "          [ 0.9373,  0.9608,  0.9843,  ...,  0.7333,  0.7569,  0.6549]],\n",
            "\n",
            "         [[ 0.3725,  0.3569,  0.3490,  ...,  0.1294,  0.0980, -0.0980],\n",
            "          [ 0.6078,  0.1922,  0.1843,  ...,  0.0824, -0.1137, -0.3176],\n",
            "          [ 0.8745,  0.2392,  0.0510,  ...,  0.4824,  0.1059, -0.2000],\n",
            "          ...,\n",
            "          [ 0.3804,  0.3804,  0.3961,  ...,  0.5765,  0.5451,  0.5843],\n",
            "          [ 0.5451,  0.5686,  0.5529,  ...,  0.6471,  0.6863,  0.6235],\n",
            "          [ 0.7647,  0.8196,  0.8588,  ...,  0.6706,  0.7255,  0.6627]],\n",
            "\n",
            "         [[ 0.2078,  0.2549,  0.2784,  ...,  0.1294,  0.1137, -0.0667],\n",
            "          [ 0.3961,  0.0980,  0.1529,  ..., -0.0118, -0.1373, -0.3176],\n",
            "          [ 0.6314,  0.1451,  0.0196,  ...,  0.2784,  0.0039, -0.2627],\n",
            "          ...,\n",
            "          [ 0.4353,  0.4353,  0.4510,  ...,  0.5529,  0.5373,  0.5922],\n",
            "          [ 0.5529,  0.5686,  0.5529,  ...,  0.5843,  0.6471,  0.6314],\n",
            "          [ 0.6784,  0.7255,  0.7569,  ...,  0.6314,  0.7098,  0.6784]]],\n",
            "\n",
            "\n",
            "        ...,\n",
            "\n",
            "\n",
            "        [[[ 0.5765,  0.5451,  0.5608,  ...,  0.5608,  0.5451,  0.5608],\n",
            "          [ 0.5294,  0.4902,  0.4353,  ...,  0.4118,  0.4824,  0.5059],\n",
            "          [ 0.5608,  0.2863, -0.1294,  ...,  0.0510,  0.3490,  0.5294],\n",
            "          ...,\n",
            "          [ 0.9843,  0.9608,  0.9608,  ...,  0.9608,  0.9608,  0.9686],\n",
            "          [ 1.0000,  0.9922,  1.0000,  ...,  1.0000,  1.0000,  1.0000],\n",
            "          [ 1.0000,  1.0000,  1.0000,  ...,  1.0000,  1.0000,  1.0000]],\n",
            "\n",
            "         [[ 0.5765,  0.5451,  0.5608,  ...,  0.5608,  0.5451,  0.5608],\n",
            "          [ 0.5216,  0.4824,  0.4353,  ...,  0.4118,  0.4902,  0.5059],\n",
            "          [ 0.5608,  0.2706, -0.1451,  ...,  0.0510,  0.3412,  0.5294],\n",
            "          ...,\n",
            "          [ 0.6314,  0.6157,  0.6157,  ...,  0.6157,  0.6157,  0.6157],\n",
            "          [ 0.6078,  0.5843,  0.5843,  ...,  0.6000,  0.6000,  0.6000],\n",
            "          [ 0.6471,  0.6235,  0.6314,  ...,  0.6235,  0.6235,  0.6235]],\n",
            "\n",
            "         [[ 0.5922,  0.5451,  0.5451,  ...,  0.5608,  0.5451,  0.5608],\n",
            "          [ 0.5765,  0.5137,  0.4431,  ...,  0.4118,  0.4902,  0.5059],\n",
            "          [ 0.5765,  0.3412, -0.0353,  ...,  0.0510,  0.3412,  0.5294],\n",
            "          ...,\n",
            "          [-0.2078, -0.2235, -0.2157,  ..., -0.2000, -0.2000, -0.2000],\n",
            "          [-0.1529, -0.1686, -0.1608,  ..., -0.2471, -0.2471, -0.2471],\n",
            "          [-0.1765, -0.1843, -0.1922,  ..., -0.1529, -0.1529, -0.1529]]],\n",
            "\n",
            "\n",
            "        [[[ 0.1059,  0.2392,  0.2784,  ...,  0.0980,  0.1137,  0.1608],\n",
            "          [ 0.2157,  0.2784,  0.2941,  ...,  0.2235,  0.2157,  0.2235],\n",
            "          [ 0.2471,  0.2784,  0.3098,  ...,  0.2471,  0.2392,  0.2471],\n",
            "          ...,\n",
            "          [-0.1922, -0.1686, -0.1608,  ..., -0.1216, -0.0745, -0.1059],\n",
            "          [-0.2235, -0.1843, -0.2078,  ..., -0.1373, -0.1373, -0.1137],\n",
            "          [-0.2157, -0.2078, -0.2392,  ..., -0.1216, -0.1451, -0.1686]],\n",
            "\n",
            "         [[ 0.0980,  0.2078,  0.2314,  ...,  0.1686,  0.1922,  0.2235],\n",
            "          [ 0.2157,  0.2627,  0.2627,  ...,  0.2706,  0.2627,  0.2784],\n",
            "          [ 0.2706,  0.2863,  0.3020,  ...,  0.2863,  0.2784,  0.3020],\n",
            "          ...,\n",
            "          [ 0.0824,  0.1059,  0.1137,  ...,  0.1216,  0.1451,  0.1294],\n",
            "          [ 0.0667,  0.1059,  0.0824,  ...,  0.1059,  0.0824,  0.1216],\n",
            "          [ 0.0745,  0.0824,  0.0588,  ...,  0.1216,  0.0902,  0.0667]],\n",
            "\n",
            "         [[ 0.0824,  0.1843,  0.1922,  ...,  0.1608,  0.1765,  0.2078],\n",
            "          [ 0.2314,  0.2627,  0.2471,  ...,  0.2471,  0.2314,  0.2549],\n",
            "          [ 0.3098,  0.3176,  0.3255,  ...,  0.2392,  0.2314,  0.2784],\n",
            "          ...,\n",
            "          [ 0.2392,  0.2627,  0.2706,  ...,  0.2078,  0.2392,  0.2157],\n",
            "          [ 0.2157,  0.2549,  0.2314,  ...,  0.1922,  0.1765,  0.2078],\n",
            "          [ 0.2235,  0.2314,  0.2078,  ...,  0.2078,  0.1765,  0.1529]]],\n",
            "\n",
            "\n",
            "        [[[-0.5451, -0.5451, -0.5529,  ..., -0.5137, -0.5294, -0.5216],\n",
            "          [-0.5137, -0.5216, -0.5216,  ..., -0.4902, -0.5294, -0.5373],\n",
            "          [-0.5059, -0.5137, -0.5216,  ..., -0.4824, -0.5216, -0.5529],\n",
            "          ...,\n",
            "          [-0.5294, -0.5216, -0.5059,  ..., -0.4980, -0.4824, -0.4667],\n",
            "          [-0.5373, -0.5373, -0.5137,  ..., -0.4980, -0.4745, -0.4980],\n",
            "          [-0.5529, -0.5451, -0.5137,  ..., -0.4902, -0.4902, -0.5294]],\n",
            "\n",
            "         [[-0.5922, -0.5843, -0.6000,  ..., -0.5216, -0.5373, -0.5294],\n",
            "          [-0.5608, -0.5608, -0.5686,  ..., -0.4980, -0.5451, -0.5529],\n",
            "          [-0.5529, -0.5608, -0.5686,  ..., -0.4980, -0.5373, -0.5686],\n",
            "          ...,\n",
            "          [-0.5765, -0.5608, -0.5451,  ..., -0.5529, -0.5294, -0.5137],\n",
            "          [-0.5608, -0.5608, -0.5373,  ..., -0.5294, -0.5059, -0.5216],\n",
            "          [-0.5686, -0.5608, -0.5294,  ..., -0.5137, -0.5059, -0.5451]],\n",
            "\n",
            "         [[-0.5765, -0.5686, -0.5843,  ..., -0.5451, -0.5686, -0.5529],\n",
            "          [-0.5451, -0.5451, -0.5529,  ..., -0.5059, -0.5529, -0.5529],\n",
            "          [-0.5373, -0.5451, -0.5529,  ..., -0.4902, -0.5216, -0.5608],\n",
            "          ...,\n",
            "          [-0.5608, -0.5451, -0.5294,  ..., -0.5216, -0.5059, -0.4980],\n",
            "          [-0.5529, -0.5451, -0.5294,  ..., -0.5216, -0.4980, -0.5137],\n",
            "          [-0.5608, -0.5529, -0.5216,  ..., -0.4980, -0.4980, -0.5373]]]]), 'label': tensor([7, 2, 2, 1, 5, 8, 3, 5, 4, 2, 9, 3, 5, 9, 6, 1, 2, 5, 4, 2, 4, 2, 5, 3,\n",
            "        1, 1, 4, 8, 1, 0, 8, 2])}\n"
          ]
        }
      ]
    },
    {
      "cell_type": "code",
      "source": [
        "def count_images(loader):\n",
        "    total_images = 0\n",
        "    for batch in loader:\n",
        "        total_images += len(batch['img'])\n",
        "    return total_images\n",
        "\n",
        "train_images = count_images(trainloader)\n",
        "val_images = count_images(valloader)\n",
        "test_images = count_images(testloader)\n",
        "print(f\"Total images in trainloader: {train_images}\")\n",
        "print(f\"Total images in valloader: {val_images}\")\n",
        "print(f\"Total images in testloader: {test_images}\")"
      ],
      "metadata": {
        "colab": {
          "base_uri": "https://localhost:8080/"
        },
        "id": "M2XO3K5agIqv",
        "outputId": "18c61e1c-1c84-4edd-9a06-22516173092e"
      },
      "execution_count": null,
      "outputs": [
        {
          "output_type": "stream",
          "name": "stdout",
          "text": [
            "Total images in trainloader: 4000\n",
            "Total images in valloader: 1000\n",
            "Total images in testloader: 10000\n"
          ]
        }
      ]
    },
    {
      "cell_type": "code",
      "source": [
        "trainloader, _, _ = load_datasets(partition_id=0)\n",
        "batch = next(iter(trainloader))\n",
        "# iter(trainloader): Converts the trainloader into an iterator which can be used to fetch batches of data one by one.\n",
        "# next(): Fetches the next batch of data from the iterator.\n",
        "# batch = next(iter(trainloader)) fetches one batch of data from the trainloader.\n",
        "images, labels = batch[\"img\"], batch[\"label\"]\n",
        "\n",
        "images = images.permute(0, 2, 3, 1).numpy() # [Batch, Channels, Height, Width] → [Batch, Height, Width, Channels]\n",
        "images = images / 2 + 0.5 # denormalise\n",
        "\n",
        "fig, axs = plt.subplots(4, 8, figsize=(12, 6))\n",
        "for i, ax in enumerate(axs.flat):\n",
        "    ax.imshow(images[i])\n",
        "    ax.set_title(trainloader.dataset.features[\"label\"].int2str([labels[i]])[0])\n",
        "    ax.axis(\"off\")\n",
        "\n",
        "fig.tight_layout()\n",
        "plt.show()"
      ],
      "metadata": {
        "colab": {
          "base_uri": "https://localhost:8080/",
          "height": 602
        },
        "id": "VBbTeeM_iOMb",
        "outputId": "5b36879e-d39d-4cb6-e150-87f1179a4e71"
      },
      "execution_count": null,
      "outputs": [
        {
          "output_type": "display_data",
          "data": {
            "text/plain": [
              "<Figure size 1200x600 with 32 Axes>"
            ],
            "image/png": "[encoded data removed]"
          },
          "metadata": {}
        }
      ]
    },
    {
      "cell_type": "code",
      "source": [
        "from collections import Counter\n",
        "\n",
        "NUM_CLIENTS = 10\n",
        "NUM_CLASSES = 10\n",
        "\n",
        "total_counts_client_class = np.zeros((NUM_CLASSES, NUM_CLIENTS)) # (10*10)\n",
        "for client_id in range(NUM_CLIENTS):\n",
        "    trainloader, _, _ = load_datasets(client_id)\n",
        "    label_list = []\n",
        "    for batch in trainloader:\n",
        "        labels = batch[\"label\"] # 32 sized tensor and converting it into list by labels.tolist() & appending it to label_list\n",
        "        label_list.extend(labels.tolist())\n",
        "    class_counts = Counter(label_list)\n",
        "    # Counter(label_list) is a dictionary to store one client has how many objects of 10 classes\n",
        "    for cls in range(NUM_CLASSES):\n",
        "        total_counts_client_class[cls][client_id] = class_counts.get(cls, 0)"
      ],
      "metadata": {
        "id": "TrVCZWgcTbYB"
      },
      "execution_count": null,
      "outputs": []
    },
    {
      "cell_type": "code",
      "source": [
        "x=np.arange(NUM_CLIENTS)\n",
        "bar_width=0.07\n",
        "\n",
        "plt.figure(figsize=(9,3))\n",
        "\n",
        "for cls in range(NUM_CLASSES):\n",
        "    plt.bar(x+cls*bar_width,total_counts_client_class[cls],width=bar_width,label=f'Class {cls}')\n",
        "\n",
        "plt.xlabel(\"Client ID\", fontsize=9)\n",
        "plt.ylabel(\"Number of Samples\", fontsize=9)\n",
        "plt.title(\"Class-wise Distribution Across Clients\", fontsize=9)\n",
        "plt.xticks(x+bar_width*NUM_CLASSES/2, [f\"Client {i}\" for i in range(NUM_CLIENTS)])\n",
        "plt.legend(title=\"Class\",bbox_to_anchor=(1.05,1),loc=\"upper left\",fontsize=7)\n",
        "plt.grid(axis='y',linestyle='--',alpha=0.7)\n",
        "plt.tight_layout()\n",
        "plt.show()"
      ],
      "metadata": {
        "colab": {
          "base_uri": "https://localhost:8080/",
          "height": 307
        },
        "id": "QEmNLTx_TbUh",
        "outputId": "cbbf7edc-e6e5-4f24-a544-b90461fd13f1"
      },
      "execution_count": null,
      "outputs": [
        {
          "output_type": "display_data",
          "data": {
            "text/plain": [
              "<Figure size 900x300 with 1 Axes>"
            ],
            "image/png": "[encoded data removed]"
          },
          "metadata": {}
        }
      ]
    },
    {
      "cell_type": "markdown",
      "source": [
        "**Step 1: Centralized training with Pytorch**\n",
        "\n",
        "---\n",
        "\n"
      ],
      "metadata": {
        "id": "KR32lAXAkEol"
      }
    },
    {
      "cell_type": "markdown",
      "source": [
        "Define the model"
      ],
      "metadata": {
        "id": "icR1eUQEkY-n"
      }
    },
    {
      "cell_type": "code",
      "source": [
        "class Net(nn.Module):\n",
        "    def __init__(self) -> None:\n",
        "        super(Net, self).__init__()\n",
        "        self.conv1 = nn.Conv2d(3, 6, 5)\n",
        "        self.pool = nn.MaxPool2d(2, 2)\n",
        "        self.conv2 = nn.Conv2d(6, 16, 5)\n",
        "        self.fc1 = nn.Linear(16 * 5 * 5, 120)\n",
        "        self.fc2 = nn.Linear(120, 84)\n",
        "        self.fc3 = nn.Linear(84, 10)\n",
        "\n",
        "    def forward(self, x: torch.Tensor) -> torch.Tensor:\n",
        "        x = self.pool(F.relu(self.conv1(x)))\n",
        "        x = self.pool(F.relu(self.conv2(x)))\n",
        "        x = x.view(-1, 16 * 5 * 5)\n",
        "        x = F.relu(self.fc1(x))\n",
        "        x = F.relu(self.fc2(x))\n",
        "        x = self.fc3(x)\n",
        "        return x"
      ],
      "metadata": {
        "id": "9daWptUajsIL"
      },
      "execution_count": null,
      "outputs": []
    },
    {
      "cell_type": "code",
      "source": [
        "def train(net, trainloader):\n",
        "    \"\"\"Train the network on the training set.\"\"\"\n",
        "    criterion = torch.nn.CrossEntropyLoss()\n",
        "    optimizer = torch.optim.Adam(net.parameters())\n",
        "    net.train()\n",
        "    correct, total, train_loss = 0, 0, 0.0\n",
        "    for batch in trainloader:\n",
        "      images, labels = batch[\"img\"].to(DEVICE), batch[\"label\"].to(DEVICE)\n",
        "      optimizer.zero_grad() # Clear the gradients of all optimized tensors\n",
        "      outputs = net(images)\n",
        "      loss = criterion(outputs, labels)\n",
        "      loss.backward()\n",
        "      optimizer.step() # Update model parameters\n",
        "\n",
        "      train_loss += loss.item()\n",
        "      total += labels.size(0)\n",
        "      correct += (torch.max(outputs.data, 1)[1] == labels).sum().item()\n",
        "    train_loss /= len(trainloader.dataset)\n",
        "    train_acc = correct / total\n",
        "    return train_loss, train_acc"
      ],
      "metadata": {
        "id": "zgjg7FcrjsFh"
      },
      "execution_count": null,
      "outputs": []
    },
    {
      "cell_type": "code",
      "source": [
        "def test(net, testloader):\n",
        "    \"\"\"Evaluate the network on the entire test set.\"\"\"\n",
        "    criterion = torch.nn.CrossEntropyLoss()\n",
        "    correct, total, loss = 0, 0, 0.0\n",
        "    net.eval()\n",
        "    # disable gradient computation during evaluation\n",
        "    with torch.no_grad():\n",
        "        for batch in testloader:\n",
        "            images, labels = batch[\"img\"].to(DEVICE), batch[\"label\"].to(DEVICE)\n",
        "            outputs = net(images)\n",
        "            loss += criterion(outputs, labels).item()\n",
        "            _, predicted = torch.max(outputs.data, 1)\n",
        "            total += labels.size(0)\n",
        "            correct += (predicted == labels).sum().item()\n",
        "    loss /= len(testloader.dataset)\n",
        "    accuracy = correct / total\n",
        "    return loss, accuracy"
      ],
      "metadata": {
        "id": "7JbO165YjsDD"
      },
      "execution_count": null,
      "outputs": []
    },
    {
      "cell_type": "markdown",
      "source": [
        "Train the model"
      ],
      "metadata": {
        "id": "_ok9tZqMpDWk"
      }
    },
    {
      "cell_type": "code",
      "source": [
        "trainloader, valloader, testloader = load_datasets(partition_id=0)\n",
        "net = Net().to(DEVICE)\n",
        "\n",
        "train_losses = []\n",
        "train_accuracies = []\n",
        "val_losses = []\n",
        "val_accuracies = []\n",
        "\n",
        "for epoch in range(20):\n",
        "    train_loss, train_acc = train(net, trainloader)\n",
        "    val_loss, val_acc = test(net, valloader)\n",
        "\n",
        "    train_losses.append(train_loss)\n",
        "    train_accuracies.append(train_acc)\n",
        "    val_losses.append(val_loss)\n",
        "    val_accuracies.append(val_acc)\n",
        "\n",
        "    print(f\"Epoch {epoch+1}: Train Loss {train_loss:.4f}, Train Acc {train_acc:.4f} | Val Loss {val_loss:.4f}, Val Acc {val_acc:.4f}\")"
      ],
      "metadata": {
        "colab": {
          "base_uri": "https://localhost:8080/"
        },
        "id": "vWz5xWD9bYqd",
        "outputId": "cfc1f9e9-0d8a-470d-e79c-7e1e9c599b09"
      },
      "execution_count": null,
      "outputs": [
        {
          "output_type": "stream",
          "name": "stdout",
          "text": [
            "Epoch 1: Train Loss 0.0652, Train Acc 0.2160 | Val Loss 0.0609, Val Acc 0.2880\n",
            "Epoch 2: Train Loss 0.0582, Train Acc 0.3197 | Val Loss 0.0562, Val Acc 0.3420\n",
            "Epoch 3: Train Loss 0.0552, Train Acc 0.3490 | Val Loss 0.0544, Val Acc 0.3630\n",
            "Epoch 4: Train Loss 0.0528, Train Acc 0.3792 | Val Loss 0.0523, Val Acc 0.3920\n",
            "Epoch 5: Train Loss 0.0512, Train Acc 0.3997 | Val Loss 0.0517, Val Acc 0.4030\n",
            "Epoch 6: Train Loss 0.0499, Train Acc 0.4293 | Val Loss 0.0504, Val Acc 0.4170\n",
            "Epoch 7: Train Loss 0.0484, Train Acc 0.4407 | Val Loss 0.0500, Val Acc 0.4280\n",
            "Epoch 8: Train Loss 0.0469, Train Acc 0.4600 | Val Loss 0.0484, Val Acc 0.4530\n",
            "Epoch 9: Train Loss 0.0459, Train Acc 0.4680 | Val Loss 0.0501, Val Acc 0.4310\n",
            "Epoch 10: Train Loss 0.0440, Train Acc 0.4905 | Val Loss 0.0491, Val Acc 0.4410\n",
            "Epoch 11: Train Loss 0.0426, Train Acc 0.5068 | Val Loss 0.0469, Val Acc 0.4760\n",
            "Epoch 12: Train Loss 0.0416, Train Acc 0.5182 | Val Loss 0.0483, Val Acc 0.4430\n",
            "Epoch 13: Train Loss 0.0401, Train Acc 0.5350 | Val Loss 0.0469, Val Acc 0.4820\n",
            "Epoch 14: Train Loss 0.0387, Train Acc 0.5507 | Val Loss 0.0471, Val Acc 0.4840\n",
            "Epoch 15: Train Loss 0.0372, Train Acc 0.5753 | Val Loss 0.0477, Val Acc 0.4670\n",
            "Epoch 16: Train Loss 0.0354, Train Acc 0.5910 | Val Loss 0.0480, Val Acc 0.4700\n",
            "Epoch 17: Train Loss 0.0340, Train Acc 0.6052 | Val Loss 0.0505, Val Acc 0.4550\n",
            "Epoch 18: Train Loss 0.0321, Train Acc 0.6350 | Val Loss 0.0514, Val Acc 0.4560\n",
            "Epoch 19: Train Loss 0.0302, Train Acc 0.6488 | Val Loss 0.0485, Val Acc 0.4840\n",
            "Epoch 20: Train Loss 0.0288, Train Acc 0.6593 | Val Loss 0.0515, Val Acc 0.4680\n"
          ]
        }
      ]
    },
    {
      "cell_type": "code",
      "source": [
        "plt.figure(figsize=(5,3))\n",
        "plt.plot(range(1, 21), train_accuracies, label='Train Accuracy')\n",
        "plt.plot(range(1, 21), val_accuracies, label='Validation Accuracy')\n",
        "plt.xlabel('Epoch')\n",
        "plt.ylabel('Accuracy')\n",
        "plt.title('Training vs Validation Accuracy')\n",
        "plt.legend()\n",
        "plt.grid(True)\n",
        "plt.show()"
      ],
      "metadata": {
        "colab": {
          "base_uri": "https://localhost:8080/",
          "height": 333
        },
        "id": "-xuYrNtZbIYH",
        "outputId": "08f18660-3639-45f3-b03b-f24816a9c4fe"
      },
      "execution_count": null,
      "outputs": [
        {
          "output_type": "display_data",
          "data": {
            "text/plain": [
              "<Figure size 500x300 with 1 Axes>"
            ],
            "image/png": "[encoded data removed]"
          },
          "metadata": {}
        }
      ]
    },
    {
      "cell_type": "code",
      "source": [
        "loss, accuracy = test(net, testloader)\n",
        "print(f\"Final test set performance:\\nloss {loss}\\naccuracy {accuracy}\")"
      ],
      "metadata": {
        "colab": {
          "base_uri": "https://localhost:8080/"
        },
        "id": "55YwAYpMZlvN",
        "outputId": "fa8b097e-accc-4a65-a192-108ac3c357cc"
      },
      "execution_count": null,
      "outputs": [
        {
          "output_type": "stream",
          "name": "stdout",
          "text": [
            "Final test set performance:\n",
            "loss 0.051640652471780776\n",
            "accuracy 0.4594\n"
          ]
        }
      ]
    },
    {
      "cell_type": "markdown",
      "source": [
        "**Step 2: Federated Learning with Flower**\n",
        "\n",
        "---\n",
        "\n"
      ],
      "metadata": {
        "id": "v4mpGsoSprWe"
      }
    },
    {
      "cell_type": "markdown",
      "source": [
        "Step 1 showed simple centralized training pipeline. All data was in one place. Next, we’ll simulate a situation where we have multiple datasets in multiple organizations and train a model over these organizations using federated learning."
      ],
      "metadata": {
        "id": "0p55YdwHp_XM"
      }
    },
    {
      "cell_type": "markdown",
      "source": [
        "Update model parameters"
      ],
      "metadata": {
        "id": "ie3kOHexp8JF"
      }
    },
    {
      "cell_type": "markdown",
      "source": [
        "In federated learning, server sends global model parameters to client and client updates local model with parameters received from server. It then trains the model on the local data and sends the updated model parameters back to server.\n",
        "\n",
        "We need two helper functions to update local model with parameters received from the server and to get updated model parameters from the local model: set_parameters and get_parameters."
      ],
      "metadata": {
        "id": "5zv-_xeMq_8v"
      }
    },
    {
      "cell_type": "code",
      "source": [
        "def set_parameters(net, parameters: List[np.ndarray]):\n",
        "    params_dict = zip(net.state_dict().keys(), parameters)\n",
        "    state_dict = OrderedDict({k: torch.Tensor(v) for k, v in params_dict})\n",
        "    net.load_state_dict(state_dict, strict=True)\n",
        "\n",
        "def get_parameters(net) -> List[np.ndarray]:\n",
        "    return [val.cpu().numpy() for _, val in net.state_dict().items()]"
      ],
      "metadata": {
        "id": "3sqqURuvjr5s"
      },
      "execution_count": null,
      "outputs": []
    },
    {
      "cell_type": "markdown",
      "source": [
        "*The set_parameters function updates the neural network (net) with given list of parameters received from server.*\n",
        "\n",
        "*The get_parameters function extracts the current parameters (weights and biases) from the neural network (net) and converts them into a list of numpy.ndarray.*"
      ],
      "metadata": {
        "id": "WRoSGiiLTaVj"
      }
    },
    {
      "cell_type": "markdown",
      "source": [
        "Define the Flower ClientApp"
      ],
      "metadata": {
        "id": "fS6RmaX6rqLk"
      }
    },
    {
      "cell_type": "markdown",
      "source": [
        "In Flower, we create *ServerApp* and *ClientApp* to run the server-side and client-side code.\n",
        "\n",
        "The first step toward creating a ClientApp is to implement subclasses of *flwr.client.Client* or *flwr.client.NumPyClient*.\n",
        "\n",
        "For *NumpyClient* we need;\n",
        "\n",
        "\n",
        "1.   get_parameters: return the current local model parameters\n",
        "2.   fit: receive model parameters from server, train the model on local data and return the updated model parameters to the server\n",
        "3.   evaluate: receive model parameters from server, evaluate the model on local data and return the evaluation result to the server"
      ],
      "metadata": {
        "id": "-GiMbkqOr-64"
      }
    },
    {
      "cell_type": "code",
      "source": [
        "# same code as above one\n",
        "def train(net, trainloader, epochs: int, verbose=False):\n",
        "    \"\"\"Train the network on the training set.\"\"\"\n",
        "    criterion = torch.nn.CrossEntropyLoss()\n",
        "    optimizer = torch.optim.Adam(net.parameters())\n",
        "    net.train()\n",
        "    for epoch in range(epochs):\n",
        "        correct, total, epoch_loss = 0, 0, 0.0\n",
        "        for batch in trainloader:\n",
        "            images, labels = batch[\"img\"].to(DEVICE), batch[\"label\"].to(DEVICE)\n",
        "            optimizer.zero_grad()\n",
        "            outputs = net(images)\n",
        "            loss = criterion(outputs, labels)\n",
        "            loss.backward()\n",
        "            optimizer.step()\n",
        "            epoch_loss += loss\n",
        "            total += labels.size(0)\n",
        "            correct += (torch.max(outputs.data, 1)[1] == labels).sum().item()\n",
        "        epoch_loss /= len(trainloader.dataset)\n",
        "        epoch_acc = correct / total\n",
        "        if verbose:\n",
        "            print(f\"Epoch {epoch+1}: train loss {epoch_loss}, accuracy {epoch_acc}\")\n",
        "\n",
        "\n",
        "def test(net, testloader):\n",
        "    \"\"\"Evaluate the network on the entire test set.\"\"\"\n",
        "    criterion = torch.nn.CrossEntropyLoss()\n",
        "    correct, total, loss = 0, 0, 0.0\n",
        "    net.eval()\n",
        "    with torch.no_grad():\n",
        "        for batch in testloader:\n",
        "            images, labels = batch[\"img\"].to(DEVICE), batch[\"label\"].to(DEVICE)\n",
        "            outputs = net(images)\n",
        "            loss += criterion(outputs, labels).item()\n",
        "            _, predicted = torch.max(outputs.data, 1)\n",
        "            total += labels.size(0)\n",
        "            correct += (predicted == labels).sum().item()\n",
        "    loss /= len(testloader.dataset)\n",
        "    accuracy = correct / total\n",
        "    return loss, accuracy"
      ],
      "metadata": {
        "id": "JiQlFEJA0wON"
      },
      "execution_count": null,
      "outputs": []
    },
    {
      "cell_type": "code",
      "source": [
        "class FlowerClient(NumPyClient):\n",
        "    def __init__(self, net, trainloader, valloader):\n",
        "        self.net = net\n",
        "        self.trainloader = trainloader\n",
        "        self.valloader = valloader\n",
        "\n",
        "    # config hold configurations related to training like number of epochs, learning rate, etc that control how the model is trained\n",
        "    # or evaluated means hyperparameters\n",
        "    def get_parameters(self, config):\n",
        "        return get_parameters(self.net)\n",
        "\n",
        "    def fit(self, parameters, config):\n",
        "        set_parameters(self.net, parameters)\n",
        "        train(self.net, self.trainloader, epochs=1)\n",
        "        return get_parameters(self.net), len(self.trainloader), {}\n",
        "    # get_parameters(self.net) returns updated model parameters (weights and biases)\n",
        "    # len(self.trainloader) returns number of training examples to perform weighted aggregation\n",
        "    # {} optional metrics dictionary for loss, accuracy etc.\n",
        "\n",
        "    def evaluate(self, parameters, config):\n",
        "        set_parameters(self.net, parameters)\n",
        "        loss, accuracy = test(self.net, self.valloader)\n",
        "        return float(loss), len(self.valloader), {\"accuracy\": float(accuracy)}"
      ],
      "metadata": {
        "id": "ZSC2ypTlrand"
      },
      "execution_count": null,
      "outputs": []
    },
    {
      "cell_type": "markdown",
      "source": [
        "Class *FlowerClient* defines how local training/evaluation will be performed and allows *Flower* to call local training/evaluation through *fit* and *evaluate.*\n",
        "\n",
        "Each instance of FlowerClient represents a single client in federated learning system.\n",
        "\n",
        "*Flower* calls *FlowerClient.fit* on the instance when the server selects a particular client for training and *FlowerClient.evaluate* for evaluation."
      ],
      "metadata": {
        "id": "8CyBitPgSP0z"
      }
    },
    {
      "cell_type": "markdown",
      "source": [
        "*When training on a single machine, server and clients share CPU, GPU and memory.*\n",
        "\n",
        "*Flower provides special simulation capabilities that create FlowerClient instance only when it is needed for training/evaluation and for this we need to implement a function client_fn.*\n",
        "\n",
        "*In Flower, clients are identified as partition_id. We also create an instance of ClientApp and pass it the client_fn. ClientApp is the entrypoint that a running Flower client uses to call the code.*"
      ],
      "metadata": {
        "id": "373JJuiPTewi"
      }
    },
    {
      "cell_type": "code",
      "source": [
        "def client_fn(context: Context) -> Client:\n",
        "    \"\"\"Create a Flower client representing a single organization.\"\"\"\n",
        "    net = Net().to(DEVICE)\n",
        "    # node_config fetch data partition associated to that node\n",
        "    partition_id = context.node_config[\"partition-id\"]\n",
        "    trainloader, valloader, _ = load_datasets(partition_id=partition_id)\n",
        "    # FlowerClient is subclass of NumPyClient so we need to call .to_client() to convert it to subclass of `flwr.client.Client`\n",
        "    return FlowerClient(net, trainloader, valloader).to_client()\n",
        "\n",
        "client = ClientApp(client_fn=client_fn)"
      ],
      "metadata": {
        "id": "2lOkmwH8Q9bK"
      },
      "execution_count": null,
      "outputs": []
    },
    {
      "cell_type": "markdown",
      "source": [
        "Define the Flower Server App"
      ],
      "metadata": {
        "id": "yY_X32VaUqGZ"
      }
    },
    {
      "cell_type": "markdown",
      "source": [
        "*On server side, to configure a strategy which encapsulates the federated learning approach, we use Federated Averaging (FedAvg).*"
      ],
      "metadata": {
        "id": "19BkePinU1CC"
      }
    },
    {
      "cell_type": "code",
      "source": [
        "def weighted_average(metrics: List[Tuple[int, Metrics]]) -> Metrics:\n",
        "    accuracies = [num_examples * m[\"accuracy\"] for num_examples, m in metrics]\n",
        "    examples = [num_examples for num_examples, _ in metrics]\n",
        "\n",
        "    return {\"accuracy\": sum(accuracies) / sum(examples)}"
      ],
      "metadata": {
        "id": "FbgBZdUvxTWo"
      },
      "execution_count": null,
      "outputs": []
    },
    {
      "cell_type": "code",
      "source": [
        "# strategy refers how the server manages the training process across multiple clients. It includes aggregation method, selection of clients,\n",
        "# model evaluation etc.\n",
        "strategy = FedAvg(\n",
        "    fraction_fit=1.0,  # 100% of available clients for training\n",
        "    fraction_evaluate=0.5,  # 50% of available clients for evaluation\n",
        "    min_fit_clients=10,  # Never less than 10 clients for training\n",
        "    min_evaluate_clients=5,  # Never less than 5 clients for evaluation\n",
        "    min_available_clients=10,  # Wait until 10 clients are available\n",
        "    evaluate_metrics_aggregation_fn=weighted_average,\n",
        ")"
      ],
      "metadata": {
        "id": "6o3B8CYEUgca"
      },
      "execution_count": null,
      "outputs": []
    },
    {
      "cell_type": "markdown",
      "source": [
        "*Also, we create ServerApp using a utility function server_fn. In server_fn, we pass an instance of ServerConfig for defining the number of federated learning rounds (num_rounds) and strategy. The server_fn returns ServerAppComponents object which contains the settings of ServerApp behaviour. ServerApp is the entrypoint that Flower uses to call server-side code.*"
      ],
      "metadata": {
        "id": "mzcqT55HVFRI"
      }
    },
    {
      "cell_type": "code",
      "source": [
        "def server_fn(context: Context) -> ServerAppComponents:\n",
        "    # Construct components that set the ServerApp behaviour.\n",
        "    config = ServerConfig(num_rounds=5)\n",
        "    return ServerAppComponents(strategy=strategy, config=config)\n",
        "\n",
        "server = ServerApp(server_fn=server_fn)"
      ],
      "metadata": {
        "id": "ciXZ2b3CVGcH"
      },
      "execution_count": null,
      "outputs": []
    },
    {
      "cell_type": "markdown",
      "source": [
        "Run the training"
      ],
      "metadata": {
        "id": "NJS8aj95V2Vc"
      }
    },
    {
      "cell_type": "code",
      "source": [
        "# backend_config is a configuration object that contains parameters related to the backend of a federated\n",
        "# learning setup (like the server).\n",
        "# Flower Server: When starting the federated learning process, the server will use the backend_config to\n",
        "# control how the rounds of training are managed, how clients are chosen, how long the server waits for\n",
        "# client responses, etc."
      ],
      "metadata": {
        "id": "eVuVReRG1Ux4"
      },
      "execution_count": null,
      "outputs": []
    },
    {
      "cell_type": "code",
      "source": [
        "backend_config = {\"client_resources\": {\"num_cpus\": 1, \"num_gpus\": 0.0}}\n",
        "\n",
        "if DEVICE == \"cuda\":\n",
        "    backend_config = {\"client_resources\": {\"num_cpus\": 1, \"num_gpus\": 1.0}}"
      ],
      "metadata": {
        "id": "deBVIO__yovr"
      },
      "execution_count": null,
      "outputs": []
    },
    {
      "cell_type": "code",
      "source": [
        "run_simulation(\n",
        "    server_app=server,\n",
        "    client_app=client,\n",
        "    num_supernodes=NUM_CLIENTS,\n",
        "    backend_config=backend_config,\n",
        ")\n",
        "\n",
        "# 45.94% to 45.96% accuracy"
      ],
      "metadata": {
        "id": "VoHvW7PfhKhC",
        "colab": {
          "base_uri": "https://localhost:8080/"
        },
        "outputId": "0ded0fa1-4fe7-4e77-d2e5-dfc1425f71d9"
      },
      "execution_count": null,
      "outputs": [
        {
          "output_type": "stream",
          "name": "stderr",
          "text": [
            "DEBUG:flwr:Asyncio event loop already running.\n",
            "\u001b[92mINFO \u001b[0m:      Starting Flower ServerApp, config: num_rounds=5, no round_timeout\n",
            "\u001b[92mINFO \u001b[0m:      \n",
            "\u001b[92mINFO \u001b[0m:      [INIT]\n",
            "\u001b[92mINFO \u001b[0m:      Requesting initial parameters from one random client\n",
            "\u001b[36m(pid=3976)\u001b[0m 2025-03-23 07:09:00.383627: E external/local_xla/xla/stream_executor/cuda/cuda_fft.cc:477] Unable to register cuFFT factory: Attempting to register factory for plugin cuFFT when one has already been registered\n",
            "\u001b[36m(pid=3976)\u001b[0m WARNING: All log messages before absl::InitializeLog() is called are written to STDERR\n",
            "\u001b[36m(pid=3976)\u001b[0m E0000 00:00:1742713740.442220    3976 cuda_dnn.cc:8310] Unable to register cuDNN factory: Attempting to register factory for plugin cuDNN when one has already been registered\n",
            "\u001b[36m(pid=3976)\u001b[0m E0000 00:00:1742713740.462102    3976 cuda_blas.cc:1418] Unable to register cuBLAS factory: Attempting to register factory for plugin cuBLAS when one has already been registered\n",
            "\u001b[36m(ClientAppActor pid=3977)\u001b[0m /usr/local/lib/python3.11/dist-packages/jupyter_client/connect.py:28: DeprecationWarning: Jupyter is migrating its paths to use standard platformdirs\n",
            "\u001b[36m(ClientAppActor pid=3977)\u001b[0m given by the platformdirs library.  To remove this warning and\n",
            "\u001b[36m(ClientAppActor pid=3977)\u001b[0m see the appropriate new directories, set the environment variable\n",
            "\u001b[36m(ClientAppActor pid=3977)\u001b[0m `JUPYTER_PLATFORM_DIRS=1` and then run `jupyter --paths`.\n",
            "\u001b[36m(ClientAppActor pid=3977)\u001b[0m The use of platformdirs will be the default in `jupyter_core` v6\n",
            "\u001b[36m(ClientAppActor pid=3977)\u001b[0m   from jupyter_core.paths import jupyter_data_dir, jupyter_runtime_dir, secure_write\n",
            "\u001b[36m(pid=3977)\u001b[0m 2025-03-23 07:09:00.386723: E external/local_xla/xla/stream_executor/cuda/cuda_fft.cc:477] Unable to register cuFFT factory: Attempting to register factory for plugin cuFFT when one has already been registered\n",
            "\u001b[36m(pid=3977)\u001b[0m WARNING: All log messages before absl::InitializeLog() is called are written to STDERR\n",
            "\u001b[36m(pid=3977)\u001b[0m E0000 00:00:1742713740.442326    3977 cuda_dnn.cc:8310] Unable to register cuDNN factory: Attempting to register factory for plugin cuDNN when one has already been registered\n",
            "\u001b[36m(pid=3977)\u001b[0m E0000 00:00:1742713740.465197    3977 cuda_blas.cc:1418] Unable to register cuBLAS factory: Attempting to register factory for plugin cuBLAS when one has already been registered\n",
            "Generating train split:   0%|          | 0/50000 [00:00<?, ? examples/s]\n",
            "Generating train split:   0%|          | 100/50000 [00:00<00:50, 991.99 examples/s]\n",
            "Generating train split:   9%|▊         | 4300/50000 [00:00<00:01, 24441.67 examples/s]\n",
            "Generating train split:  17%|█▋        | 8600/50000 [00:00<00:01, 32425.76 examples/s]\n",
            "Generating train split:  26%|██▌       | 12900/50000 [00:00<00:01, 36264.20 examples/s]\n",
            "Generating train split:  37%|███▋      | 18300/50000 [00:00<00:00, 42392.75 examples/s]\n",
            "Generating train split:  48%|████▊     | 24200/50000 [00:00<00:00, 47812.14 examples/s]\n",
            "Generating train split:  62%|██████▏   | 30900/50000 [00:00<00:00, 53595.59 examples/s]\n",
            "Generating train split:  75%|███████▍  | 37400/50000 [00:00<00:00, 56827.10 examples/s]\n",
            "Generating train split:  89%|████████▉ | 44700/50000 [00:00<00:00, 61703.22 examples/s]\n",
            "Generating train split: 100%|██████████| 50000/50000 [00:01<00:00, 48863.09 examples/s]\n",
            "Generating test split:   0%|          | 0/10000 [00:00<?, ? examples/s]\n",
            "Generating test split: 100%|██████████| 10000/10000 [00:00<00:00, 57355.49 examples/s]\n",
            "\u001b[92mINFO \u001b[0m:      Received initial parameters from one random client\n",
            "\u001b[92mINFO \u001b[0m:      Starting evaluation of initial global parameters\n",
            "\u001b[92mINFO \u001b[0m:      Evaluation returned no results (`None`)\n",
            "\u001b[92mINFO \u001b[0m:      \n",
            "\u001b[92mINFO \u001b[0m:      [ROUND 1]\n",
            "\u001b[92mINFO \u001b[0m:      configure_fit: strategy sampled 10 clients (out of 10)\n",
            "\u001b[36m(ClientAppActor pid=3976)\u001b[0m /usr/local/lib/python3.11/dist-packages/jupyter_client/connect.py:28: DeprecationWarning: Jupyter is migrating its paths to use standard platformdirs\n",
            "\u001b[36m(ClientAppActor pid=3976)\u001b[0m given by the platformdirs library.  To remove this warning and\n",
            "\u001b[36m(ClientAppActor pid=3976)\u001b[0m see the appropriate new directories, set the environment variable\n",
            "\u001b[36m(ClientAppActor pid=3976)\u001b[0m `JUPYTER_PLATFORM_DIRS=1` and then run `jupyter --paths`.\n",
            "\u001b[36m(ClientAppActor pid=3976)\u001b[0m The use of platformdirs will be the default in `jupyter_core` v6\n",
            "\u001b[36m(ClientAppActor pid=3976)\u001b[0m   from jupyter_core.paths import jupyter_data_dir, jupyter_runtime_dir, secure_write\n",
            "\u001b[92mINFO \u001b[0m:      aggregate_fit: received 10 results and 0 failures\n",
            "\u001b[93mWARNING \u001b[0m:   No fit_metrics_aggregation_fn provided\n",
            "\u001b[92mINFO \u001b[0m:      configure_evaluate: strategy sampled 5 clients (out of 10)\n",
            "\u001b[92mINFO \u001b[0m:      aggregate_evaluate: received 5 results and 0 failures\n",
            "\u001b[92mINFO \u001b[0m:      \n",
            "\u001b[92mINFO \u001b[0m:      [ROUND 2]\n",
            "\u001b[92mINFO \u001b[0m:      configure_fit: strategy sampled 10 clients (out of 10)\n",
            "\u001b[92mINFO \u001b[0m:      aggregate_fit: received 10 results and 0 failures\n",
            "\u001b[92mINFO \u001b[0m:      configure_evaluate: strategy sampled 5 clients (out of 10)\n",
            "\u001b[92mINFO \u001b[0m:      aggregate_evaluate: received 5 results and 0 failures\n",
            "\u001b[92mINFO \u001b[0m:      \n",
            "\u001b[92mINFO \u001b[0m:      [ROUND 3]\n",
            "\u001b[92mINFO \u001b[0m:      configure_fit: strategy sampled 10 clients (out of 10)\n",
            "\u001b[92mINFO \u001b[0m:      aggregate_fit: received 10 results and 0 failures\n",
            "\u001b[92mINFO \u001b[0m:      configure_evaluate: strategy sampled 5 clients (out of 10)\n",
            "\u001b[92mINFO \u001b[0m:      aggregate_evaluate: received 5 results and 0 failures\n",
            "\u001b[92mINFO \u001b[0m:      \n",
            "\u001b[92mINFO \u001b[0m:      [ROUND 4]\n",
            "\u001b[92mINFO \u001b[0m:      configure_fit: strategy sampled 10 clients (out of 10)\n",
            "\u001b[92mINFO \u001b[0m:      aggregate_fit: received 10 results and 0 failures\n",
            "\u001b[92mINFO \u001b[0m:      configure_evaluate: strategy sampled 5 clients (out of 10)\n",
            "\u001b[92mINFO \u001b[0m:      aggregate_evaluate: received 5 results and 0 failures\n",
            "\u001b[92mINFO \u001b[0m:      \n",
            "\u001b[92mINFO \u001b[0m:      [ROUND 5]\n",
            "\u001b[92mINFO \u001b[0m:      configure_fit: strategy sampled 10 clients (out of 10)\n",
            "\u001b[92mINFO \u001b[0m:      aggregate_fit: received 10 results and 0 failures\n",
            "\u001b[92mINFO \u001b[0m:      configure_evaluate: strategy sampled 5 clients (out of 10)\n",
            "\u001b[92mINFO \u001b[0m:      aggregate_evaluate: received 5 results and 0 failures\n",
            "\u001b[92mINFO \u001b[0m:      \n",
            "\u001b[92mINFO \u001b[0m:      [SUMMARY]\n",
            "\u001b[92mINFO \u001b[0m:      Run finished 5 round(s) in 336.16s\n",
            "\u001b[92mINFO \u001b[0m:      \tHistory (loss, distributed):\n",
            "\u001b[92mINFO \u001b[0m:      \t\tround 1: 0.0662227739572525\n",
            "\u001b[92mINFO \u001b[0m:      \t\tround 2: 0.0562419686794281\n",
            "\u001b[92mINFO \u001b[0m:      \t\tround 3: 0.052260302472114564\n",
            "\u001b[92mINFO \u001b[0m:      \t\tround 4: 0.05094356009960175\n",
            "\u001b[92mINFO \u001b[0m:      \t\tround 5: 0.04769701055288315\n",
            "\u001b[92mINFO \u001b[0m:      \tHistory (metrics, distributed, evaluate):\n",
            "\u001b[92mINFO \u001b[0m:      \t{'accuracy': [(1, 0.253),\n",
            "\u001b[92mINFO \u001b[0m:      \t              (2, 0.36499999999999994),\n",
            "\u001b[92mINFO \u001b[0m:      \t              (3, 0.4062),\n",
            "\u001b[92mINFO \u001b[0m:      \t              (4, 0.4114),\n",
            "\u001b[92mINFO \u001b[0m:      \t              (5, 0.4596)]}\n",
            "\u001b[92mINFO \u001b[0m:      \n"
          ]
        }
      ]
    },
    {
      "cell_type": "markdown",
      "source": [
        "Server side parameter initialization"
      ],
      "metadata": {
        "id": "_bpfeQeoe5FB"
      }
    },
    {
      "cell_type": "markdown",
      "source": [
        "*Flower initializes global model by asking one random client for the initial parameters by default. Flower allows to directly pass the initial parameters to the Strategy.*"
      ],
      "metadata": {
        "id": "s7jutk3qfIut"
      }
    },
    {
      "cell_type": "code",
      "source": [
        "params = get_parameters(Net())"
      ],
      "metadata": {
        "id": "u3goR13LYB7c"
      },
      "execution_count": null,
      "outputs": []
    },
    {
      "cell_type": "code",
      "source": [
        "from flwr.common import ndarrays_to_parameters"
      ],
      "metadata": {
        "id": "S2Cks9A5y9tD"
      },
      "execution_count": null,
      "outputs": []
    },
    {
      "cell_type": "code",
      "source": [
        "def server_fn(context: Context) -> ServerAppComponents:\n",
        "    strategy = FedAvg(\n",
        "        fraction_fit=0.3,\n",
        "        fraction_evaluate=0.3,\n",
        "        min_fit_clients=3,\n",
        "        min_evaluate_clients=3,\n",
        "        min_available_clients=NUM_CLIENTS,\n",
        "        # Passing initial_parameters to FedAvg strategy prevents Flower from asking one of the clients.\n",
        "        initial_parameters=ndarrays_to_parameters(params),\n",
        "        evaluate_metrics_aggregation_fn=weighted_average,\n",
        "    )\n",
        "\n",
        "    config = ServerConfig(num_rounds=5)\n",
        "    return ServerAppComponents(strategy=strategy, config=config)"
      ],
      "metadata": {
        "id": "QIQ1sQz7fp9g"
      },
      "execution_count": null,
      "outputs": []
    },
    {
      "cell_type": "code",
      "source": [
        "server = ServerApp(server_fn=server_fn)"
      ],
      "metadata": {
        "id": "CbfxvlwDfpTP"
      },
      "execution_count": null,
      "outputs": []
    },
    {
      "cell_type": "code",
      "source": [
        "backend_config = {\"client_resources\": None}\n",
        "if DEVICE == \"cuda\":\n",
        "    backend_config = {\"client_resources\": {\"num_gpus\": 1}}"
      ],
      "metadata": {
        "id": "It-IXPlofpPv"
      },
      "execution_count": null,
      "outputs": []
    },
    {
      "cell_type": "code",
      "source": [
        "run_simulation(\n",
        "    server_app=server,\n",
        "    client_app=client,\n",
        "    num_supernodes=NUM_CLIENTS,\n",
        "    backend_config=backend_config,\n",
        ")"
      ],
      "metadata": {
        "colab": {
          "base_uri": "https://localhost:8080/"
        },
        "id": "-WGBt861fpNl",
        "outputId": "e2e27093-5da6-4ced-bc3d-77607cb78f29"
      },
      "execution_count": null,
      "outputs": [
        {
          "output_type": "stream",
          "name": "stderr",
          "text": [
            "\u001b[92mINFO \u001b[0m:      Starting Flower ServerApp, config: num_rounds=5, no round_timeout\n",
            "\u001b[92mINFO \u001b[0m:      \n",
            "\u001b[92mINFO \u001b[0m:      [INIT]\n",
            "\u001b[92mINFO \u001b[0m:      Using initial global parameters provided by strategy\n",
            "\u001b[92mINFO \u001b[0m:      Starting evaluation of initial global parameters\n",
            "\u001b[92mINFO \u001b[0m:      Evaluation returned no results (`None`)\n",
            "\u001b[92mINFO \u001b[0m:      \n",
            "\u001b[92mINFO \u001b[0m:      [ROUND 1]\n",
            "\u001b[92mINFO \u001b[0m:      configure_fit: strategy sampled 3 clients (out of 10)\n",
            "\u001b[36m(pid=9504)\u001b[0m 2025-03-23 07:25:51.369399: E external/local_xla/xla/stream_executor/cuda/cuda_fft.cc:477] Unable to register cuFFT factory: Attempting to register factory for plugin cuFFT when one has already been registered\n",
            "\u001b[36m(pid=9504)\u001b[0m WARNING: All log messages before absl::InitializeLog() is called are written to STDERR\n",
            "\u001b[36m(pid=9504)\u001b[0m E0000 00:00:1742714751.396246    9504 cuda_dnn.cc:8310] Unable to register cuDNN factory: Attempting to register factory for plugin cuDNN when one has already been registered\n",
            "\u001b[36m(pid=9504)\u001b[0m E0000 00:00:1742714751.404141    9504 cuda_blas.cc:1418] Unable to register cuBLAS factory: Attempting to register factory for plugin cuBLAS when one has already been registered\n",
            "\u001b[36m(ClientAppActor pid=9504)\u001b[0m /usr/local/lib/python3.11/dist-packages/jupyter_client/connect.py:28: DeprecationWarning: Jupyter is migrating its paths to use standard platformdirs\n",
            "\u001b[36m(ClientAppActor pid=9504)\u001b[0m given by the platformdirs library.  To remove this warning and\n",
            "\u001b[36m(ClientAppActor pid=9504)\u001b[0m see the appropriate new directories, set the environment variable\n",
            "\u001b[36m(ClientAppActor pid=9504)\u001b[0m `JUPYTER_PLATFORM_DIRS=1` and then run `jupyter --paths`.\n",
            "\u001b[36m(ClientAppActor pid=9504)\u001b[0m The use of platformdirs will be the default in `jupyter_core` v6\n",
            "\u001b[36m(ClientAppActor pid=9504)\u001b[0m   from jupyter_core.paths import jupyter_data_dir, jupyter_runtime_dir, secure_write\n",
            "\u001b[92mINFO \u001b[0m:      aggregate_fit: received 3 results and 0 failures\n",
            "\u001b[93mWARNING \u001b[0m:   No fit_metrics_aggregation_fn provided\n",
            "\u001b[92mINFO \u001b[0m:      configure_evaluate: strategy sampled 3 clients (out of 10)\n",
            "\u001b[92mINFO \u001b[0m:      aggregate_evaluate: received 3 results and 0 failures\n",
            "\u001b[92mINFO \u001b[0m:      \n",
            "\u001b[92mINFO \u001b[0m:      [ROUND 2]\n",
            "\u001b[92mINFO \u001b[0m:      configure_fit: strategy sampled 3 clients (out of 10)\n",
            "\u001b[92mINFO \u001b[0m:      aggregate_fit: received 3 results and 0 failures\n",
            "\u001b[92mINFO \u001b[0m:      configure_evaluate: strategy sampled 3 clients (out of 10)\n",
            "\u001b[92mINFO \u001b[0m:      aggregate_evaluate: received 3 results and 0 failures\n",
            "\u001b[92mINFO \u001b[0m:      \n",
            "\u001b[92mINFO \u001b[0m:      [ROUND 3]\n",
            "\u001b[92mINFO \u001b[0m:      configure_fit: strategy sampled 3 clients (out of 10)\n",
            "\u001b[92mINFO \u001b[0m:      aggregate_fit: received 3 results and 0 failures\n",
            "\u001b[92mINFO \u001b[0m:      configure_evaluate: strategy sampled 3 clients (out of 10)\n",
            "\u001b[92mINFO \u001b[0m:      aggregate_evaluate: received 3 results and 0 failures\n",
            "\u001b[92mINFO \u001b[0m:      \n",
            "\u001b[92mINFO \u001b[0m:      [ROUND 4]\n",
            "\u001b[92mINFO \u001b[0m:      configure_fit: strategy sampled 3 clients (out of 10)\n",
            "\u001b[92mINFO \u001b[0m:      aggregate_fit: received 3 results and 0 failures\n",
            "\u001b[92mINFO \u001b[0m:      configure_evaluate: strategy sampled 3 clients (out of 10)\n",
            "\u001b[92mINFO \u001b[0m:      aggregate_evaluate: received 3 results and 0 failures\n",
            "\u001b[92mINFO \u001b[0m:      \n",
            "\u001b[92mINFO \u001b[0m:      [ROUND 5]\n",
            "\u001b[92mINFO \u001b[0m:      configure_fit: strategy sampled 3 clients (out of 10)\n",
            "\u001b[92mINFO \u001b[0m:      aggregate_fit: received 3 results and 0 failures\n",
            "\u001b[92mINFO \u001b[0m:      configure_evaluate: strategy sampled 3 clients (out of 10)\n",
            "\u001b[92mINFO \u001b[0m:      aggregate_evaluate: received 3 results and 0 failures\n",
            "\u001b[92mINFO \u001b[0m:      \n",
            "\u001b[92mINFO \u001b[0m:      [SUMMARY]\n",
            "\u001b[92mINFO \u001b[0m:      Run finished 5 round(s) in 201.22s\n",
            "\u001b[92mINFO \u001b[0m:      \tHistory (loss, distributed):\n",
            "\u001b[92mINFO \u001b[0m:      \t\tround 1: 0.06322468968232473\n",
            "\u001b[92mINFO \u001b[0m:      \t\tround 2: 0.05592366540431976\n",
            "\u001b[92mINFO \u001b[0m:      \t\tround 3: 0.052887653628985086\n",
            "\u001b[92mINFO \u001b[0m:      \t\tround 4: 0.05062622968355814\n",
            "\u001b[92mINFO \u001b[0m:      \t\tround 5: 0.050450599193573\n",
            "\u001b[92mINFO \u001b[0m:      \tHistory (metrics, distributed, evaluate):\n",
            "\u001b[92mINFO \u001b[0m:      \t{'accuracy': [(1, 0.30633333333333335),\n",
            "\u001b[92mINFO \u001b[0m:      \t              (2, 0.379),\n",
            "\u001b[92mINFO \u001b[0m:      \t              (3, 0.39866666666666667),\n",
            "\u001b[92mINFO \u001b[0m:      \t              (4, 0.4196666666666667),\n",
            "\u001b[92mINFO \u001b[0m:      \t              (5, 0.43766666666666665)]}\n",
            "\u001b[92mINFO \u001b[0m:      \n"
          ]
        }
      ]
    },
    {
      "cell_type": "markdown",
      "source": [
        "Starting with a customized strategy"
      ],
      "metadata": {
        "id": "wQlbk8fqicRn"
      }
    },
    {
      "cell_type": "markdown",
      "source": [
        "*The function run_simulation accepts number of arguments, such as*\n",
        "1. *server_app which wraps around the strategy and number of training rounds*\n",
        "2. *client_app which wraps around the client_fn used to create FlowerClient instances and number of clients to simulate which equals num_supernodes.*"
      ],
      "metadata": {
        "id": "S_NWuzVtixLS"
      }
    },
    {
      "cell_type": "code",
      "source": [
        "from flwr.server.strategy import FedAdagrad\n",
        "# FedAdagrad strategy instead of FedAvg strategy"
      ],
      "metadata": {
        "id": "-BsMj5XTjvzV"
      },
      "execution_count": null,
      "outputs": []
    },
    {
      "cell_type": "code",
      "source": [
        "def server_fn(context: Context) -> ServerAppComponents:\n",
        "    strategy = FedAdagrad(\n",
        "        fraction_fit=0.3,\n",
        "        fraction_evaluate=0.3,\n",
        "        min_fit_clients=3,\n",
        "        min_evaluate_clients=3,\n",
        "        min_available_clients=NUM_CLIENTS,\n",
        "        initial_parameters=ndarrays_to_parameters(params),\n",
        "        evaluate_metrics_aggregation_fn=weighted_average,\n",
        "    )\n",
        "\n",
        "    config = ServerConfig(num_rounds=5)\n",
        "    return ServerAppComponents(strategy=strategy, config=config)\n",
        "\n",
        "server = ServerApp(server_fn=server_fn)"
      ],
      "metadata": {
        "id": "e4wyeQlvfpFD"
      },
      "execution_count": null,
      "outputs": []
    },
    {
      "cell_type": "code",
      "source": [
        "run_simulation(\n",
        "    server_app=server,\n",
        "    client_app=client,\n",
        "    num_supernodes=NUM_CLIENTS,\n",
        "    backend_config=backend_config,\n",
        ")"
      ],
      "metadata": {
        "colab": {
          "base_uri": "https://localhost:8080/"
        },
        "id": "FIDI-wEUjmF8",
        "outputId": "f4a3c943-94ed-49cf-b84d-9c3689f888e4"
      },
      "execution_count": null,
      "outputs": [
        {
          "output_type": "stream",
          "name": "stderr",
          "text": [
            "\u001b[92mINFO \u001b[0m:      Starting Flower ServerApp, config: num_rounds=5, no round_timeout\n",
            "\u001b[92mINFO \u001b[0m:      \n",
            "\u001b[92mINFO \u001b[0m:      [INIT]\n",
            "\u001b[92mINFO \u001b[0m:      Using initial global parameters provided by strategy\n",
            "\u001b[92mINFO \u001b[0m:      Starting evaluation of initial global parameters\n",
            "\u001b[92mINFO \u001b[0m:      Evaluation returned no results (`None`)\n",
            "\u001b[92mINFO \u001b[0m:      \n",
            "\u001b[92mINFO \u001b[0m:      [ROUND 1]\n",
            "\u001b[92mINFO \u001b[0m:      configure_fit: strategy sampled 3 clients (out of 10)\n",
            "\u001b[36m(pid=11773)\u001b[0m 2025-03-23 07:33:10.377501: E external/local_xla/xla/stream_executor/cuda/cuda_fft.cc:477] Unable to register cuFFT factory: Attempting to register factory for plugin cuFFT when one has already been registered\n",
            "\u001b[36m(pid=11773)\u001b[0m WARNING: All log messages before absl::InitializeLog() is called are written to STDERR\n",
            "\u001b[36m(pid=11773)\u001b[0m E0000 00:00:1742715190.405926   11773 cuda_dnn.cc:8310] Unable to register cuDNN factory: Attempting to register factory for plugin cuDNN when one has already been registered\n",
            "\u001b[36m(pid=11773)\u001b[0m E0000 00:00:1742715190.413654   11773 cuda_blas.cc:1418] Unable to register cuBLAS factory: Attempting to register factory for plugin cuBLAS when one has already been registered\n",
            "\u001b[36m(ClientAppActor pid=11773)\u001b[0m /usr/local/lib/python3.11/dist-packages/jupyter_client/connect.py:28: DeprecationWarning: Jupyter is migrating its paths to use standard platformdirs\n",
            "\u001b[36m(ClientAppActor pid=11773)\u001b[0m given by the platformdirs library.  To remove this warning and\n",
            "\u001b[36m(ClientAppActor pid=11773)\u001b[0m see the appropriate new directories, set the environment variable\n",
            "\u001b[36m(ClientAppActor pid=11773)\u001b[0m `JUPYTER_PLATFORM_DIRS=1` and then run `jupyter --paths`.\n",
            "\u001b[36m(ClientAppActor pid=11773)\u001b[0m The use of platformdirs will be the default in `jupyter_core` v6\n",
            "\u001b[36m(ClientAppActor pid=11773)\u001b[0m   from jupyter_core.paths import jupyter_data_dir, jupyter_runtime_dir, secure_write\n",
            "\u001b[92mINFO \u001b[0m:      aggregate_fit: received 3 results and 0 failures\n",
            "\u001b[93mWARNING \u001b[0m:   No fit_metrics_aggregation_fn provided\n",
            "\u001b[92mINFO \u001b[0m:      configure_evaluate: strategy sampled 3 clients (out of 10)\n",
            "\u001b[92mINFO \u001b[0m:      aggregate_evaluate: received 3 results and 0 failures\n",
            "\u001b[92mINFO \u001b[0m:      \n",
            "\u001b[92mINFO \u001b[0m:      [ROUND 2]\n",
            "\u001b[92mINFO \u001b[0m:      configure_fit: strategy sampled 3 clients (out of 10)\n",
            "\u001b[92mINFO \u001b[0m:      aggregate_fit: received 3 results and 0 failures\n",
            "\u001b[92mINFO \u001b[0m:      configure_evaluate: strategy sampled 3 clients (out of 10)\n",
            "\u001b[92mINFO \u001b[0m:      aggregate_evaluate: received 3 results and 0 failures\n",
            "\u001b[92mINFO \u001b[0m:      \n",
            "\u001b[92mINFO \u001b[0m:      [ROUND 3]\n",
            "\u001b[92mINFO \u001b[0m:      configure_fit: strategy sampled 3 clients (out of 10)\n",
            "\u001b[92mINFO \u001b[0m:      aggregate_fit: received 3 results and 0 failures\n",
            "\u001b[92mINFO \u001b[0m:      configure_evaluate: strategy sampled 3 clients (out of 10)\n",
            "\u001b[92mINFO \u001b[0m:      aggregate_evaluate: received 3 results and 0 failures\n",
            "\u001b[92mINFO \u001b[0m:      \n",
            "\u001b[92mINFO \u001b[0m:      [ROUND 4]\n",
            "\u001b[92mINFO \u001b[0m:      configure_fit: strategy sampled 3 clients (out of 10)\n",
            "\u001b[92mINFO \u001b[0m:      aggregate_fit: received 3 results and 0 failures\n",
            "\u001b[92mINFO \u001b[0m:      configure_evaluate: strategy sampled 3 clients (out of 10)\n",
            "\u001b[92mINFO \u001b[0m:      aggregate_evaluate: received 3 results and 0 failures\n",
            "\u001b[92mINFO \u001b[0m:      \n",
            "\u001b[92mINFO \u001b[0m:      [ROUND 5]\n",
            "\u001b[92mINFO \u001b[0m:      configure_fit: strategy sampled 3 clients (out of 10)\n",
            "\u001b[92mINFO \u001b[0m:      aggregate_fit: received 3 results and 0 failures\n",
            "\u001b[92mINFO \u001b[0m:      configure_evaluate: strategy sampled 3 clients (out of 10)\n",
            "\u001b[92mINFO \u001b[0m:      aggregate_evaluate: received 3 results and 0 failures\n",
            "\u001b[92mINFO \u001b[0m:      \n",
            "\u001b[92mINFO \u001b[0m:      [SUMMARY]\n",
            "\u001b[92mINFO \u001b[0m:      Run finished 5 round(s) in 174.93s\n",
            "\u001b[92mINFO \u001b[0m:      \tHistory (loss, distributed):\n",
            "\u001b[92mINFO \u001b[0m:      \t\tround 1: 8.615405705769858\n",
            "\u001b[92mINFO \u001b[0m:      \t\tround 2: 1.1968427162170407\n",
            "\u001b[92mINFO \u001b[0m:      \t\tround 3: 0.09532225521405539\n",
            "\u001b[92mINFO \u001b[0m:      \t\tround 4: 0.1703773337205251\n",
            "\u001b[92mINFO \u001b[0m:      \t\tround 5: 0.08330208671092987\n",
            "\u001b[92mINFO \u001b[0m:      \tHistory (metrics, distributed, evaluate):\n",
            "\u001b[92mINFO \u001b[0m:      \t{'accuracy': [(1, 0.21333333333333335),\n",
            "\u001b[92mINFO \u001b[0m:      \t              (2, 0.09933333333333334),\n",
            "\u001b[92mINFO \u001b[0m:      \t              (3, 0.11466666666666665),\n",
            "\u001b[92mINFO \u001b[0m:      \t              (4, 0.17333333333333334),\n",
            "\u001b[92mINFO \u001b[0m:      \t              (5, 0.15666666666666665)]}\n",
            "\u001b[92mINFO \u001b[0m:      \n"
          ]
        }
      ]
    },
    {
      "cell_type": "markdown",
      "source": [
        "**Centralized Evaluation (or server-side evaluation)**: *It works the same way that evaluation in centralized machine learning does.*\n",
        "\n",
        "**Federated Evaluation (or client-side evaluation)**: *It doesn’t require a centralized dataset and allows to evaluate models over a larger datasets The dataset held by each client can change over consecutive rounds. This can lead to evaluation results that are not stables.*"
      ],
      "metadata": {
        "id": "ZfvO-EnRkW5T"
      }
    },
    {
      "cell_type": "code",
      "source": [
        "from typing import Dict, Optional, Tuple\n",
        "from flwr.common import NDArrays, Scalar"
      ],
      "metadata": {
        "id": "jUQ9vWEqlTMr"
      },
      "execution_count": null,
      "outputs": []
    },
    {
      "cell_type": "code",
      "source": [
        "def evaluate(\n",
        "    server_round: int,\n",
        "    parameters: NDArrays,\n",
        "    config: Dict[str, Scalar], # config is Flower standard function signature to dynamically pass extra info to the evaluation function\n",
        ") -> Optional[Tuple[float, Dict[str, Scalar]]]: # float -> loss; str -> (accuracy/precision/recall); Scalar -> value of accuracy/precision/recall\n",
        "\n",
        "    net = Net().to(DEVICE)\n",
        "    _, _, testloader = load_datasets(0)\n",
        "    set_parameters(net, parameters)\n",
        "    loss, accuracy = test(net, testloader)\n",
        "    print(f\"Server-side evaluation loss {loss} / accuracy {accuracy}\")\n",
        "    return loss, {\"accuracy\": accuracy}"
      ],
      "metadata": {
        "id": "o5ZaKkC1kaFE"
      },
      "execution_count": null,
      "outputs": []
    },
    {
      "cell_type": "code",
      "source": [
        "def server_fn(context: Context) -> ServerAppComponents:\n",
        "    strategy = FedAvg(\n",
        "        fraction_fit=0.3,\n",
        "        fraction_evaluate=0.3,\n",
        "        min_fit_clients=3,\n",
        "        min_evaluate_clients=3,\n",
        "        min_available_clients=NUM_CLIENTS,\n",
        "        initial_parameters=ndarrays_to_parameters(params),\n",
        "        evaluate_fn=evaluate,\n",
        "    )\n",
        "\n",
        "    config = ServerConfig(num_rounds=5)\n",
        "    return ServerAppComponents(strategy=strategy, config=config)\n",
        "\n",
        "server = ServerApp(server_fn=server_fn)"
      ],
      "metadata": {
        "id": "MJJgI2WVlV-F"
      },
      "execution_count": null,
      "outputs": []
    },
    {
      "cell_type": "code",
      "source": [
        "if DEVICE==\"cuda\":\n",
        "    backend_config = {\"client_resources\": {\"num_cpus\": 1, \"num_gpus\": 1}}\n",
        "else:\n",
        "    backend_config = {\"client_resources\": {\"num_cpus\": 1}}"
      ],
      "metadata": {
        "id": "LGO4PkXrDiov"
      },
      "execution_count": null,
      "outputs": []
    },
    {
      "cell_type": "code",
      "source": [
        "run_simulation(\n",
        "    server_app=server,\n",
        "    client_app=client,\n",
        "    num_supernodes=NUM_CLIENTS,\n",
        "    backend_config=backend_config,\n",
        ")"
      ],
      "metadata": {
        "colab": {
          "base_uri": "https://localhost:8080/"
        },
        "id": "AN0uFmWSDp_p",
        "outputId": "57058b22-fae0-4f6f-8a28-1d54099e1b98"
      },
      "execution_count": null,
      "outputs": [
        {
          "output_type": "stream",
          "name": "stderr",
          "text": [
            "\u001b[92mINFO \u001b[0m:      Starting Flower ServerApp, config: num_rounds=5, no round_timeout\n",
            "\u001b[92mINFO \u001b[0m:      \n",
            "\u001b[92mINFO \u001b[0m:      [INIT]\n",
            "\u001b[92mINFO \u001b[0m:      Using initial global parameters provided by strategy\n",
            "\u001b[92mINFO \u001b[0m:      Starting evaluation of initial global parameters\n",
            "\u001b[36m(pid=5710)\u001b[0m 2025-03-23 08:12:10.673562: E external/local_xla/xla/stream_executor/cuda/cuda_fft.cc:477] Unable to register cuFFT factory: Attempting to register factory for plugin cuFFT when one has already been registered\n",
            "\u001b[36m(pid=5710)\u001b[0m WARNING: All log messages before absl::InitializeLog() is called are written to STDERR\n",
            "\u001b[36m(pid=5710)\u001b[0m E0000 00:00:1742717530.713749    5710 cuda_dnn.cc:8310] Unable to register cuDNN factory: Attempting to register factory for plugin cuDNN when one has already been registered\n",
            "\u001b[36m(pid=5710)\u001b[0m E0000 00:00:1742717530.723627    5710 cuda_blas.cc:1418] Unable to register cuBLAS factory: Attempting to register factory for plugin cuBLAS when one has already been registered\n",
            "\u001b[92mINFO \u001b[0m:      initial parameters (loss, other metrics): 0.07216335697174073, {'accuracy': 0.1}\n",
            "\u001b[92mINFO \u001b[0m:      \n",
            "\u001b[92mINFO \u001b[0m:      [ROUND 1]\n",
            "\u001b[92mINFO \u001b[0m:      configure_fit: strategy sampled 3 clients (out of 10)\n"
          ]
        },
        {
          "output_type": "stream",
          "name": "stdout",
          "text": [
            "Server-side evaluation loss 0.07216335697174073 / accuracy 0.1\n"
          ]
        },
        {
          "output_type": "stream",
          "name": "stderr",
          "text": [
            "\u001b[36m(ClientAppActor pid=5710)\u001b[0m /usr/local/lib/python3.11/dist-packages/jupyter_client/connect.py:28: DeprecationWarning: Jupyter is migrating its paths to use standard platformdirs\n",
            "\u001b[36m(ClientAppActor pid=5710)\u001b[0m given by the platformdirs library.  To remove this warning and\n",
            "\u001b[36m(ClientAppActor pid=5710)\u001b[0m see the appropriate new directories, set the environment variable\n",
            "\u001b[36m(ClientAppActor pid=5710)\u001b[0m `JUPYTER_PLATFORM_DIRS=1` and then run `jupyter --paths`.\n",
            "\u001b[36m(ClientAppActor pid=5710)\u001b[0m The use of platformdirs will be the default in `jupyter_core` v6\n",
            "\u001b[36m(ClientAppActor pid=5710)\u001b[0m   from jupyter_core.paths import jupyter_data_dir, jupyter_runtime_dir, secure_write\n",
            "\u001b[92mINFO \u001b[0m:      aggregate_fit: received 3 results and 0 failures\n",
            "\u001b[93mWARNING \u001b[0m:   No fit_metrics_aggregation_fn provided\n",
            "\u001b[92mINFO \u001b[0m:      fit progress: (1, 0.06004544078111648, {'accuracy': 0.3375}, 45.31519573799983)\n",
            "\u001b[92mINFO \u001b[0m:      configure_evaluate: strategy sampled 3 clients (out of 10)\n"
          ]
        },
        {
          "output_type": "stream",
          "name": "stdout",
          "text": [
            "Server-side evaluation loss 0.06004544078111648 / accuracy 0.3375\n"
          ]
        },
        {
          "output_type": "stream",
          "name": "stderr",
          "text": [
            "\u001b[92mINFO \u001b[0m:      aggregate_evaluate: received 3 results and 0 failures\n",
            "\u001b[93mWARNING \u001b[0m:   No evaluate_metrics_aggregation_fn provided\n",
            "\u001b[92mINFO \u001b[0m:      \n",
            "\u001b[92mINFO \u001b[0m:      [ROUND 2]\n",
            "\u001b[92mINFO \u001b[0m:      configure_fit: strategy sampled 3 clients (out of 10)\n",
            "\u001b[92mINFO \u001b[0m:      aggregate_fit: received 3 results and 0 failures\n",
            "\u001b[92mINFO \u001b[0m:      fit progress: (2, 0.05325291726589203, {'accuracy': 0.3896}, 112.8941868989998)\n",
            "\u001b[92mINFO \u001b[0m:      configure_evaluate: strategy sampled 3 clients (out of 10)\n"
          ]
        },
        {
          "output_type": "stream",
          "name": "stdout",
          "text": [
            "Server-side evaluation loss 0.05325291726589203 / accuracy 0.3896\n"
          ]
        },
        {
          "output_type": "stream",
          "name": "stderr",
          "text": [
            "\u001b[92mINFO \u001b[0m:      aggregate_evaluate: received 3 results and 0 failures\n",
            "\u001b[92mINFO \u001b[0m:      \n",
            "\u001b[92mINFO \u001b[0m:      [ROUND 3]\n",
            "\u001b[92mINFO \u001b[0m:      configure_fit: strategy sampled 3 clients (out of 10)\n",
            "\u001b[92mINFO \u001b[0m:      aggregate_fit: received 3 results and 0 failures\n",
            "\u001b[92mINFO \u001b[0m:      fit progress: (3, 0.05033583475351334, {'accuracy': 0.4171}, 162.9855975559999)\n",
            "\u001b[92mINFO \u001b[0m:      configure_evaluate: strategy sampled 3 clients (out of 10)\n"
          ]
        },
        {
          "output_type": "stream",
          "name": "stdout",
          "text": [
            "Server-side evaluation loss 0.05033583475351334 / accuracy 0.4171\n"
          ]
        },
        {
          "output_type": "stream",
          "name": "stderr",
          "text": [
            "\u001b[92mINFO \u001b[0m:      aggregate_evaluate: received 3 results and 0 failures\n",
            "\u001b[92mINFO \u001b[0m:      \n",
            "\u001b[92mINFO \u001b[0m:      [ROUND 4]\n",
            "\u001b[92mINFO \u001b[0m:      configure_fit: strategy sampled 3 clients (out of 10)\n",
            "\u001b[92mINFO \u001b[0m:      aggregate_fit: received 3 results and 0 failures\n",
            "\u001b[92mINFO \u001b[0m:      fit progress: (4, 0.04869494352340698, {'accuracy': 0.4356}, 218.7485513649999)\n",
            "\u001b[92mINFO \u001b[0m:      configure_evaluate: strategy sampled 3 clients (out of 10)\n"
          ]
        },
        {
          "output_type": "stream",
          "name": "stdout",
          "text": [
            "Server-side evaluation loss 0.04869494352340698 / accuracy 0.4356\n"
          ]
        },
        {
          "output_type": "stream",
          "name": "stderr",
          "text": [
            "\u001b[92mINFO \u001b[0m:      aggregate_evaluate: received 3 results and 0 failures\n",
            "\u001b[92mINFO \u001b[0m:      \n",
            "\u001b[92mINFO \u001b[0m:      [ROUND 5]\n",
            "\u001b[92mINFO \u001b[0m:      configure_fit: strategy sampled 3 clients (out of 10)\n",
            "\u001b[92mINFO \u001b[0m:      aggregate_fit: received 3 results and 0 failures\n",
            "\u001b[92mINFO \u001b[0m:      fit progress: (5, 0.04716032942533493, {'accuracy': 0.4504}, 260.9795387529998)\n",
            "\u001b[92mINFO \u001b[0m:      configure_evaluate: strategy sampled 3 clients (out of 10)\n"
          ]
        },
        {
          "output_type": "stream",
          "name": "stdout",
          "text": [
            "Server-side evaluation loss 0.04716032942533493 / accuracy 0.4504\n"
          ]
        },
        {
          "output_type": "stream",
          "name": "stderr",
          "text": [
            "\u001b[92mINFO \u001b[0m:      aggregate_evaluate: received 3 results and 0 failures\n",
            "\u001b[92mINFO \u001b[0m:      \n",
            "\u001b[92mINFO \u001b[0m:      [SUMMARY]\n",
            "\u001b[92mINFO \u001b[0m:      Run finished 5 round(s) in 283.42s\n",
            "\u001b[92mINFO \u001b[0m:      \tHistory (loss, distributed):\n",
            "\u001b[92mINFO \u001b[0m:      \t\tround 1: 0.06187568533420562\n",
            "\u001b[92mINFO \u001b[0m:      \t\tround 2: 0.05483217672506968\n",
            "\u001b[92mINFO \u001b[0m:      \t\tround 3: 0.05208906304836273\n",
            "\u001b[92mINFO \u001b[0m:      \t\tround 4: 0.049401883204778035\n",
            "\u001b[92mINFO \u001b[0m:      \t\tround 5: 0.04813798371950786\n",
            "\u001b[92mINFO \u001b[0m:      \tHistory (loss, centralized):\n",
            "\u001b[92mINFO \u001b[0m:      \t\tround 0: 0.07216335697174073\n",
            "\u001b[92mINFO \u001b[0m:      \t\tround 1: 0.06004544078111648\n",
            "\u001b[92mINFO \u001b[0m:      \t\tround 2: 0.05325291726589203\n",
            "\u001b[92mINFO \u001b[0m:      \t\tround 3: 0.05033583475351334\n",
            "\u001b[92mINFO \u001b[0m:      \t\tround 4: 0.04869494352340698\n",
            "\u001b[92mINFO \u001b[0m:      \t\tround 5: 0.04716032942533493\n",
            "\u001b[92mINFO \u001b[0m:      \tHistory (metrics, centralized):\n",
            "\u001b[92mINFO \u001b[0m:      \t{'accuracy': [(0, 0.1),\n",
            "\u001b[92mINFO \u001b[0m:      \t              (1, 0.3375),\n",
            "\u001b[92mINFO \u001b[0m:      \t              (2, 0.3896),\n",
            "\u001b[92mINFO \u001b[0m:      \t              (3, 0.4171),\n",
            "\u001b[92mINFO \u001b[0m:      \t              (4, 0.4356),\n",
            "\u001b[92mINFO \u001b[0m:      \t              (5, 0.4504)]}\n",
            "\u001b[92mINFO \u001b[0m:      \n"
          ]
        }
      ]
    },
    {
      "cell_type": "markdown",
      "source": [
        "Sending/receiving arbitrary values to/from clients"
      ],
      "metadata": {
        "id": "QYxRnpsKmrgN"
      }
    },
    {
      "cell_type": "markdown",
      "source": [
        "Now, we’ll tell at runtime from the server how many epochs (or other parameters) to use.\"\n",
        "\n",
        "We're enabling dynamic control from the server side to make it flexible.\n",
        "\n",
        "Ex. -> In Round 1, train for 1 epoch; In Round 2, train for 2 epochs; Later rounds, increase epochs dynamically or change learning rate mid-training."
      ],
      "metadata": {
        "id": "MwJsAvKRIMQx"
      }
    },
    {
      "cell_type": "code",
      "source": [
        "class FlowerClient(NumPyClient):\n",
        "    def __init__(self, pid, net, trainloader, valloader):\n",
        "        self.pid = pid  # Partition ID of a client\n",
        "        self.net = net\n",
        "        self.trainloader = trainloader\n",
        "        self.valloader = valloader\n",
        "\n",
        "    def get_parameters(self, config): # config is a dictionary to store hyperparamaters\n",
        "        print(f\"[Client {self.pid}] get_parameters\")\n",
        "        return get_parameters(self.net)\n",
        "\n",
        "    def fit(self, parameters, config):\n",
        "        server_round = config[\"server_round\"] # current round of training in the federated learning process\n",
        "        local_epochs = config[\"local_epochs\"] # number of local epochs each client should train its data before sending updates back to server\n",
        "        print(f\"[Client {self.pid}, round {server_round}] fit, config: {config}\")\n",
        "        set_parameters(self.net, parameters)\n",
        "        train(self.net, self.trainloader, epochs=local_epochs)\n",
        "        return get_parameters(self.net), len(self.trainloader), {}\n",
        "\n",
        "    def evaluate(self, parameters, config):\n",
        "        print(f\"[Client {self.pid}] evaluate, config: {config}\")\n",
        "        set_parameters(self.net, parameters)\n",
        "        loss, accuracy = test(self.net, self.valloader)\n",
        "        return float(loss), len(self.valloader), {\"accuracy\": float(accuracy)}"
      ],
      "metadata": {
        "id": "CK8A8M0Zln4-"
      },
      "execution_count": null,
      "outputs": []
    },
    {
      "cell_type": "code",
      "source": [
        "def client_fn(context: Context) -> Client:\n",
        "    net = Net().to(DEVICE)\n",
        "    partition_id = context.node_config[\"partition-id\"]\n",
        "    num_partitions = context.node_config[\"num-partitions\"]\n",
        "    trainloader, valloader, _ = load_datasets(partition_id)\n",
        "    return FlowerClient(partition_id, net, trainloader, valloader).to_client()\n",
        "\n",
        "client = ClientApp(client_fn=client_fn)"
      ],
      "metadata": {
        "id": "Y_gZGwuqln2O"
      },
      "execution_count": null,
      "outputs": []
    },
    {
      "cell_type": "code",
      "source": [
        "def fit_config(server_round: int):\n",
        "    # Return training configuration dict for each round.\n",
        "    config = {\n",
        "        \"server_round\": server_round,\n",
        "        \"local_epochs\": 1 if server_round < 2 else 2,\n",
        "    }\n",
        "    return config"
      ],
      "metadata": {
        "id": "oEEMp1qblnzi"
      },
      "execution_count": null,
      "outputs": []
    },
    {
      "cell_type": "code",
      "source": [
        "def server_fn(context: Context) -> ServerAppComponents:\n",
        "    strategy = FedAvg(\n",
        "        fraction_fit=0.3,\n",
        "        fraction_evaluate=0.3,\n",
        "        min_fit_clients=3,\n",
        "        min_evaluate_clients=3,\n",
        "        min_available_clients=NUM_CLIENTS,\n",
        "        initial_parameters=ndarrays_to_parameters(params),\n",
        "        evaluate_fn=evaluate,\n",
        "        on_fit_config_fn=fit_config,\n",
        "    )\n",
        "\n",
        "    config = ServerConfig(num_rounds=5)\n",
        "    return ServerAppComponents(strategy=strategy, config=config)\n",
        "\n",
        "server = ServerApp(server_fn=server_fn)"
      ],
      "metadata": {
        "id": "Cj9XEXUQpRZv"
      },
      "execution_count": null,
      "outputs": []
    },
    {
      "cell_type": "code",
      "source": [
        "run_simulation(\n",
        "    server_app=server,\n",
        "    client_app=client,\n",
        "    num_supernodes=NUM_CLIENTS,\n",
        "    backend_config=backend_config,\n",
        ")"
      ],
      "metadata": {
        "colab": {
          "base_uri": "https://localhost:8080/"
        },
        "id": "xhKTGeSWpRPO",
        "outputId": "ccc9d9e2-0f40-4589-f0e5-3389b0b243c2"
      },
      "execution_count": null,
      "outputs": [
        {
          "output_type": "stream",
          "name": "stderr",
          "text": [
            "\u001b[92mINFO \u001b[0m:      Starting Flower ServerApp, config: num_rounds=5, no round_timeout\n",
            "\u001b[92mINFO \u001b[0m:      \n",
            "\u001b[92mINFO \u001b[0m:      [INIT]\n",
            "\u001b[92mINFO \u001b[0m:      Using initial global parameters provided by strategy\n",
            "\u001b[92mINFO \u001b[0m:      Starting evaluation of initial global parameters\n",
            "\u001b[36m(pid=14084)\u001b[0m 2025-03-23 08:43:42.255450: E external/local_xla/xla/stream_executor/cuda/cuda_fft.cc:477] Unable to register cuFFT factory: Attempting to register factory for plugin cuFFT when one has already been registered\n",
            "\u001b[36m(pid=14084)\u001b[0m WARNING: All log messages before absl::InitializeLog() is called are written to STDERR\n",
            "\u001b[36m(pid=14084)\u001b[0m E0000 00:00:1742719422.281433   14084 cuda_dnn.cc:8310] Unable to register cuDNN factory: Attempting to register factory for plugin cuDNN when one has already been registered\n",
            "\u001b[36m(pid=14084)\u001b[0m E0000 00:00:1742719422.288950   14084 cuda_blas.cc:1418] Unable to register cuBLAS factory: Attempting to register factory for plugin cuBLAS when one has already been registered\n",
            "\u001b[92mINFO \u001b[0m:      initial parameters (loss, other metrics): 0.07216335697174073, {'accuracy': 0.1}\n",
            "\u001b[92mINFO \u001b[0m:      \n",
            "\u001b[92mINFO \u001b[0m:      [ROUND 1]\n",
            "\u001b[92mINFO \u001b[0m:      configure_fit: strategy sampled 3 clients (out of 10)\n"
          ]
        },
        {
          "output_type": "stream",
          "name": "stdout",
          "text": [
            "Server-side evaluation loss 0.07216335697174073 / accuracy 0.1\n"
          ]
        },
        {
          "output_type": "stream",
          "name": "stderr",
          "text": [
            "\u001b[36m(ClientAppActor pid=14084)\u001b[0m /usr/local/lib/python3.11/dist-packages/jupyter_client/connect.py:28: DeprecationWarning: Jupyter is migrating its paths to use standard platformdirs\n",
            "\u001b[36m(ClientAppActor pid=14084)\u001b[0m given by the platformdirs library.  To remove this warning and\n",
            "\u001b[36m(ClientAppActor pid=14084)\u001b[0m see the appropriate new directories, set the environment variable\n",
            "\u001b[36m(ClientAppActor pid=14084)\u001b[0m `JUPYTER_PLATFORM_DIRS=1` and then run `jupyter --paths`.\n",
            "\u001b[36m(ClientAppActor pid=14084)\u001b[0m The use of platformdirs will be the default in `jupyter_core` v6\n",
            "\u001b[36m(ClientAppActor pid=14084)\u001b[0m   from jupyter_core.paths import jupyter_data_dir, jupyter_runtime_dir, secure_write\n"
          ]
        },
        {
          "output_type": "stream",
          "name": "stdout",
          "text": [
            "\u001b[36m(ClientAppActor pid=14084)\u001b[0m [Client 6, round 1] fit, config: {'server_round': 1, 'local_epochs': 1}\n",
            "\u001b[36m(ClientAppActor pid=14084)\u001b[0m [Client 7, round 1] fit, config: {'server_round': 1, 'local_epochs': 1}\n",
            "\u001b[36m(ClientAppActor pid=14084)\u001b[0m [Client 8, round 1] fit, config: {'server_round': 1, 'local_epochs': 1}\n"
          ]
        },
        {
          "output_type": "stream",
          "name": "stderr",
          "text": [
            "\u001b[92mINFO \u001b[0m:      aggregate_fit: received 3 results and 0 failures\n",
            "\u001b[93mWARNING \u001b[0m:   No fit_metrics_aggregation_fn provided\n",
            "\u001b[92mINFO \u001b[0m:      fit progress: (1, 0.05983357099294662, {'accuracy': 0.3247}, 36.672041444000115)\n",
            "\u001b[92mINFO \u001b[0m:      configure_evaluate: strategy sampled 3 clients (out of 10)\n"
          ]
        },
        {
          "output_type": "stream",
          "name": "stdout",
          "text": [
            "Server-side evaluation loss 0.05983357099294662 / accuracy 0.3247\n",
            "\u001b[36m(ClientAppActor pid=14084)\u001b[0m [Client 2] evaluate, config: {}\n",
            "\u001b[36m(ClientAppActor pid=14084)\u001b[0m [Client 3] evaluate, config: {}\n",
            "\u001b[36m(ClientAppActor pid=14084)\u001b[0m [Client 4] evaluate, config: {}\n"
          ]
        },
        {
          "output_type": "stream",
          "name": "stderr",
          "text": [
            "\u001b[92mINFO \u001b[0m:      aggregate_evaluate: received 3 results and 0 failures\n",
            "\u001b[93mWARNING \u001b[0m:   No evaluate_metrics_aggregation_fn provided\n",
            "\u001b[92mINFO \u001b[0m:      \n",
            "\u001b[92mINFO \u001b[0m:      [ROUND 2]\n",
            "\u001b[92mINFO \u001b[0m:      configure_fit: strategy sampled 3 clients (out of 10)\n"
          ]
        },
        {
          "output_type": "stream",
          "name": "stdout",
          "text": [
            "\u001b[36m(ClientAppActor pid=14084)\u001b[0m [Client 2, round 2] fit, config: {'server_round': 2, 'local_epochs': 2}\n",
            "\u001b[36m(ClientAppActor pid=14084)\u001b[0m [Client 3, round 2] fit, config: {'server_round': 2, 'local_epochs': 2}\n",
            "\u001b[36m(ClientAppActor pid=14084)\u001b[0m [Client 4, round 2] fit, config: {'server_round': 2, 'local_epochs': 2}\n"
          ]
        },
        {
          "output_type": "stream",
          "name": "stderr",
          "text": [
            "\u001b[92mINFO \u001b[0m:      aggregate_fit: received 3 results and 0 failures\n",
            "\u001b[92mINFO \u001b[0m:      fit progress: (2, 0.05080272290706635, {'accuracy': 0.4074}, 98.91980180100018)\n",
            "\u001b[92mINFO \u001b[0m:      configure_evaluate: strategy sampled 3 clients (out of 10)\n"
          ]
        },
        {
          "output_type": "stream",
          "name": "stdout",
          "text": [
            "Server-side evaluation loss 0.05080272290706635 / accuracy 0.4074\n",
            "\u001b[36m(ClientAppActor pid=14084)\u001b[0m [Client 0] evaluate, config: {}\n",
            "\u001b[36m(ClientAppActor pid=14084)\u001b[0m [Client 1] evaluate, config: {}\n",
            "\u001b[36m(ClientAppActor pid=14084)\u001b[0m [Client 4] evaluate, config: {}\n"
          ]
        },
        {
          "output_type": "stream",
          "name": "stderr",
          "text": [
            "\u001b[92mINFO \u001b[0m:      aggregate_evaluate: received 3 results and 0 failures\n",
            "\u001b[92mINFO \u001b[0m:      \n",
            "\u001b[92mINFO \u001b[0m:      [ROUND 3]\n",
            "\u001b[92mINFO \u001b[0m:      configure_fit: strategy sampled 3 clients (out of 10)\n"
          ]
        },
        {
          "output_type": "stream",
          "name": "stdout",
          "text": [
            "\u001b[36m(ClientAppActor pid=14084)\u001b[0m [Client 2, round 3] fit, config: {'server_round': 3, 'local_epochs': 2}\n",
            "\u001b[36m(ClientAppActor pid=14084)\u001b[0m [Client 3, round 3] fit, config: {'server_round': 3, 'local_epochs': 2}\n",
            "\u001b[36m(ClientAppActor pid=14084)\u001b[0m [Client 8, round 3] fit, config: {'server_round': 3, 'local_epochs': 2}\n"
          ]
        },
        {
          "output_type": "stream",
          "name": "stderr",
          "text": [
            "\u001b[92mINFO \u001b[0m:      aggregate_fit: received 3 results and 0 failures\n",
            "\u001b[92mINFO \u001b[0m:      fit progress: (3, 0.04780439101457596, {'accuracy': 0.443}, 178.4073666170002)\n",
            "\u001b[92mINFO \u001b[0m:      configure_evaluate: strategy sampled 3 clients (out of 10)\n"
          ]
        },
        {
          "output_type": "stream",
          "name": "stdout",
          "text": [
            "Server-side evaluation loss 0.04780439101457596 / accuracy 0.443\n",
            "\u001b[36m(ClientAppActor pid=14084)\u001b[0m [Client 1] evaluate, config: {}\n",
            "\u001b[36m(ClientAppActor pid=14084)\u001b[0m [Client 6] evaluate, config: {}\n",
            "\u001b[36m(ClientAppActor pid=14084)\u001b[0m [Client 9] evaluate, config: {}\n"
          ]
        },
        {
          "output_type": "stream",
          "name": "stderr",
          "text": [
            "\u001b[92mINFO \u001b[0m:      aggregate_evaluate: received 3 results and 0 failures\n",
            "\u001b[92mINFO \u001b[0m:      \n",
            "\u001b[92mINFO \u001b[0m:      [ROUND 4]\n",
            "\u001b[92mINFO \u001b[0m:      configure_fit: strategy sampled 3 clients (out of 10)\n"
          ]
        },
        {
          "output_type": "stream",
          "name": "stdout",
          "text": [
            "\u001b[36m(ClientAppActor pid=14084)\u001b[0m [Client 2, round 4] fit, config: {'server_round': 4, 'local_epochs': 2}\n",
            "\u001b[36m(ClientAppActor pid=14084)\u001b[0m [Client 8, round 4] fit, config: {'server_round': 4, 'local_epochs': 2}\n",
            "\u001b[36m(ClientAppActor pid=14084)\u001b[0m [Client 9, round 4] fit, config: {'server_round': 4, 'local_epochs': 2}\n"
          ]
        },
        {
          "output_type": "stream",
          "name": "stderr",
          "text": [
            "\u001b[92mINFO \u001b[0m:      aggregate_fit: received 3 results and 0 failures\n",
            "\u001b[92mINFO \u001b[0m:      fit progress: (4, 0.0466624495267868, {'accuracy': 0.4565}, 238.5788861130004)\n",
            "\u001b[92mINFO \u001b[0m:      configure_evaluate: strategy sampled 3 clients (out of 10)\n"
          ]
        },
        {
          "output_type": "stream",
          "name": "stdout",
          "text": [
            "Server-side evaluation loss 0.0466624495267868 / accuracy 0.4565\n",
            "\u001b[36m(ClientAppActor pid=14084)\u001b[0m [Client 2] evaluate, config: {}\n",
            "\u001b[36m(ClientAppActor pid=14084)\u001b[0m [Client 5] evaluate, config: {}\n",
            "\u001b[36m(ClientAppActor pid=14084)\u001b[0m [Client 9] evaluate, config: {}\n"
          ]
        },
        {
          "output_type": "stream",
          "name": "stderr",
          "text": [
            "\u001b[92mINFO \u001b[0m:      aggregate_evaluate: received 3 results and 0 failures\n",
            "\u001b[92mINFO \u001b[0m:      \n",
            "\u001b[92mINFO \u001b[0m:      [ROUND 5]\n",
            "\u001b[92mINFO \u001b[0m:      configure_fit: strategy sampled 3 clients (out of 10)\n"
          ]
        },
        {
          "output_type": "stream",
          "name": "stdout",
          "text": [
            "\u001b[36m(ClientAppActor pid=14084)\u001b[0m [Client 0, round 5] fit, config: {'server_round': 5, 'local_epochs': 2}\n",
            "\u001b[36m(ClientAppActor pid=14084)\u001b[0m [Client 4, round 5] fit, config: {'server_round': 5, 'local_epochs': 2}\n",
            "\u001b[36m(ClientAppActor pid=14084)\u001b[0m [Client 5, round 5] fit, config: {'server_round': 5, 'local_epochs': 2}\n"
          ]
        },
        {
          "output_type": "stream",
          "name": "stderr",
          "text": [
            "\u001b[92mINFO \u001b[0m:      aggregate_fit: received 3 results and 0 failures\n",
            "\u001b[92mINFO \u001b[0m:      fit progress: (5, 0.04391511167883873, {'accuracy': 0.4897}, 298.4324322450002)\n",
            "\u001b[92mINFO \u001b[0m:      configure_evaluate: strategy sampled 3 clients (out of 10)\n"
          ]
        },
        {
          "output_type": "stream",
          "name": "stdout",
          "text": [
            "Server-side evaluation loss 0.04391511167883873 / accuracy 0.4897\n",
            "\u001b[36m(ClientAppActor pid=14084)\u001b[0m [Client 0] evaluate, config: {}\n",
            "\u001b[36m(ClientAppActor pid=14084)\u001b[0m [Client 1] evaluate, config: {}\n",
            "\u001b[36m(ClientAppActor pid=14084)\u001b[0m [Client 3] evaluate, config: {}\n"
          ]
        },
        {
          "output_type": "stream",
          "name": "stderr",
          "text": [
            "\u001b[92mINFO \u001b[0m:      aggregate_evaluate: received 3 results and 0 failures\n",
            "\u001b[92mINFO \u001b[0m:      \n",
            "\u001b[92mINFO \u001b[0m:      [SUMMARY]\n",
            "\u001b[92mINFO \u001b[0m:      Run finished 5 round(s) in 314.76s\n",
            "\u001b[92mINFO \u001b[0m:      \tHistory (loss, distributed):\n",
            "\u001b[92mINFO \u001b[0m:      \t\tround 1: 0.06103747196992238\n",
            "\u001b[92mINFO \u001b[0m:      \t\tround 2: 0.05169723093509674\n",
            "\u001b[92mINFO \u001b[0m:      \t\tround 3: 0.05007070600986482\n",
            "\u001b[92mINFO \u001b[0m:      \t\tround 4: 0.04787637074788411\n",
            "\u001b[92mINFO \u001b[0m:      \t\tround 5: 0.045039612452189126\n",
            "\u001b[92mINFO \u001b[0m:      \tHistory (loss, centralized):\n",
            "\u001b[92mINFO \u001b[0m:      \t\tround 0: 0.07216335697174073\n",
            "\u001b[92mINFO \u001b[0m:      \t\tround 1: 0.05983357099294662\n",
            "\u001b[92mINFO \u001b[0m:      \t\tround 2: 0.05080272290706635\n",
            "\u001b[92mINFO \u001b[0m:      \t\tround 3: 0.04780439101457596\n",
            "\u001b[92mINFO \u001b[0m:      \t\tround 4: 0.0466624495267868\n",
            "\u001b[92mINFO \u001b[0m:      \t\tround 5: 0.04391511167883873\n",
            "\u001b[92mINFO \u001b[0m:      \tHistory (metrics, centralized):\n",
            "\u001b[92mINFO \u001b[0m:      \t{'accuracy': [(0, 0.1),\n",
            "\u001b[92mINFO \u001b[0m:      \t              (1, 0.3247),\n",
            "\u001b[92mINFO \u001b[0m:      \t              (2, 0.4074),\n",
            "\u001b[92mINFO \u001b[0m:      \t              (3, 0.443),\n",
            "\u001b[92mINFO \u001b[0m:      \t              (4, 0.4565),\n",
            "\u001b[92mINFO \u001b[0m:      \t              (5, 0.4897)]}\n",
            "\u001b[92mINFO \u001b[0m:      \n"
          ]
        }
      ]
    },
    {
      "cell_type": "markdown",
      "source": [
        "***For large number of clients***"
      ],
      "metadata": {
        "id": "zWwyIUA3tGsN"
      }
    },
    {
      "cell_type": "code",
      "source": [
        "NUM_CLIENTS = 1000"
      ],
      "metadata": {
        "id": "Ag8GUIYOpRDO"
      },
      "execution_count": null,
      "outputs": []
    },
    {
      "cell_type": "code",
      "source": [
        "def fit_config(server_round: int):\n",
        "    config = {\n",
        "        \"server_round\": server_round,\n",
        "        \"local_epochs\": 3,\n",
        "    }\n",
        "    return config\n",
        "\n",
        "\n",
        "def server_fn(context: Context) -> ServerAppComponents:\n",
        "    strategy = FedAvg(\n",
        "        fraction_fit=0.025,\n",
        "        fraction_evaluate=0.05,\n",
        "        min_fit_clients=20,\n",
        "        min_evaluate_clients=40,\n",
        "        min_available_clients=NUM_CLIENTS,\n",
        "        initial_parameters=ndarrays_to_parameters(params),\n",
        "        evaluate_fn=evaluate,\n",
        "        on_fit_config_fn=fit_config,\n",
        "    )\n",
        "\n",
        "    config = ServerConfig(num_rounds=2)\n",
        "    return ServerAppComponents(strategy=strategy, config=config)\n",
        "\n",
        "server = ServerApp(server_fn=server_fn)\n",
        "\n",
        "run_simulation(\n",
        "    server_app=server,\n",
        "    client_app=client,\n",
        "    num_supernodes=NUM_CLIENTS,\n",
        "    backend_config=backend_config,\n",
        ")"
      ],
      "metadata": {
        "colab": {
          "base_uri": "https://localhost:8080/",
          "height": 1000,
          "referenced_widgets": [
            "87f22cac9b5c43339a7e43c921766625",
            "5749304ce28b4bd29724742f37ca87f9",
            "6dd75f729cc643869b8376b2f678cc15",
            "57162e28f6ef4095a2a1b58f1f0d65e8",
            "397a0b4ce4f245f79d8d3da68cf84607",
            "7f4d3a83271b457b85d111cd8ba8455b",
            "2501c6c9cb054bc6a268562bde9e6896",
            "3d67afe71abf454487cdecf81d6a59ec",
            "48a42298d649408ca43dbf5c64042429",
            "7c0f3bde6c2d4e85982f6ed504592001",
            "190af2ca89f84970a1937e6789c5636f",
            "9adab9b57c304028b38f2bc781ba65f8",
            "7e00e718c88a4c2c82a02198195712ac",
            "bd3939b8917c4e5b821c0cbd8b75ddee",
            "f4fce83849ed4818a4309b906fb119a3",
            "4058c643602d4f9e84faa1e8268a080c",
            "3903be5e87834f8aa783d80a9341e6a0",
            "9de419c9fcac4495b2de00bbcd005443",
            "3907f063dd1442439c32f247b0f70b8e",
            "4c813616eca04340ae4801638e184039",
            "d727861dd9da447ea4fd05f78825ceb4",
            "6447baf4a79d45918b96af8ca962048a",
            "6f898b0d5750443eb7097f25e2057cef",
            "b9af72f47afc4b3b8fc0b57ba7088e6a",
            "1cbc19ed7b254f7f9af1c8f7d137b029",
            "8b34f5e8ec3141339e14072b3669b80d",
            "8b1c30aa707b4e4a919e37ef6f2aac22",
            "1081eba7e85343f1be6ee692552eeaec",
            "9b8fbce6af0a40b78e7e14a70b8f351c",
            "29b853ce7e2c43d1ab97298c3fdc2a00",
            "570de145e488475abe205bb49e1c162f",
            "b0d37e9f90f54197a4daa572590f677f",
            "3798d9be5827440f9708294193265e3c"
          ]
        },
        "id": "zKKaVC56pQ20",
        "outputId": "19d2b433-7eab-4d5a-cdca-07186d9f8845"
      },
      "execution_count": null,
      "outputs": [
        {
          "output_type": "stream",
          "name": "stderr",
          "text": [
            "DEBUG:flwr:Asyncio event loop already running.\n",
            "\u001b[92mINFO \u001b[0m:      Starting Flower ServerApp, config: num_rounds=2, no round_timeout\n",
            "\u001b[92mINFO \u001b[0m:      \n",
            "\u001b[92mINFO \u001b[0m:      [INIT]\n",
            "\u001b[92mINFO \u001b[0m:      Using initial global parameters provided by strategy\n",
            "\u001b[92mINFO \u001b[0m:      Starting evaluation of initial global parameters\n",
            "/usr/local/lib/python3.11/dist-packages/huggingface_hub/utils/_auth.py:94: UserWarning: \n",
            "The secret `HF_TOKEN` does not exist in your Colab secrets.\n",
            "To authenticate with the Hugging Face Hub, create a token in your settings tab (https://huggingface.co/settings/tokens), set it as secret in your Google Colab and restart your session.\n",
            "You will be able to reuse this secret in all of your notebooks.\n",
            "Please note that authentication is recommended but still optional to access public models or datasets.\n",
            "  warnings.warn(\n"
          ]
        },
        {
          "output_type": "display_data",
          "data": {
            "text/plain": [
              "README.md:   0%|          | 0.00/5.16k [00:00<?, ?B/s]"
            ],
            "application/vnd.jupyter.widget-view+json": {
              "version_major": 2,
              "version_minor": 0,
              "model_id": "87f22cac9b5c43339a7e43c921766625"
            }
          },
          "metadata": {}
        },
        {
          "output_type": "display_data",
          "data": {
            "text/plain": [
              "train-00000-of-00001.parquet:   0%|          | 0.00/120M [00:00<?, ?B/s]"
            ],
            "application/vnd.jupyter.widget-view+json": {
              "version_major": 2,
              "version_minor": 0,
              "model_id": "9adab9b57c304028b38f2bc781ba65f8"
            }
          },
          "metadata": {}
        },
        {
          "output_type": "display_data",
          "data": {
            "text/plain": [
              "test-00000-of-00001.parquet:   0%|          | 0.00/23.9M [00:00<?, ?B/s]"
            ],
            "application/vnd.jupyter.widget-view+json": {
              "version_major": 2,
              "version_minor": 0,
              "model_id": "6f898b0d5750443eb7097f25e2057cef"
            }
          },
          "metadata": {}
        },
        {
          "output_type": "stream",
          "name": "stderr",
          "text": [
            "\u001b[36m(pid=2171)\u001b[0m 2025-03-23 09:30:58.935679: E external/local_xla/xla/stream_executor/cuda/cuda_fft.cc:477] Unable to register cuFFT factory: Attempting to register factory for plugin cuFFT when one has already been registered\n",
            "\u001b[36m(pid=2171)\u001b[0m WARNING: All log messages before absl::InitializeLog() is called are written to STDERR\n",
            "\u001b[36m(pid=2171)\u001b[0m E0000 00:00:1742722259.068351    2171 cuda_dnn.cc:8310] Unable to register cuDNN factory: Attempting to register factory for plugin cuDNN when one has already been registered\n",
            "\u001b[36m(pid=2171)\u001b[0m E0000 00:00:1742722259.095788    2171 cuda_blas.cc:1418] Unable to register cuBLAS factory: Attempting to register factory for plugin cuBLAS when one has already been registered\n",
            "\u001b[92mINFO \u001b[0m:      initial parameters (loss, other metrics): 0.07211904981136322, {'accuracy': 0.0994}\n",
            "\u001b[92mINFO \u001b[0m:      \n",
            "\u001b[92mINFO \u001b[0m:      [ROUND 1]\n",
            "\u001b[92mINFO \u001b[0m:      configure_fit: strategy sampled 25 clients (out of 1000)\n"
          ]
        },
        {
          "output_type": "stream",
          "name": "stdout",
          "text": [
            "Server-side evaluation loss 0.07211904981136322 / accuracy 0.0994\n"
          ]
        },
        {
          "output_type": "stream",
          "name": "stderr",
          "text": [
            "\u001b[36m(ClientAppActor pid=2172)\u001b[0m /usr/local/lib/python3.11/dist-packages/jupyter_client/connect.py:28: DeprecationWarning: Jupyter is migrating its paths to use standard platformdirs\n",
            "\u001b[36m(ClientAppActor pid=2172)\u001b[0m given by the platformdirs library.  To remove this warning and\n",
            "\u001b[36m(ClientAppActor pid=2172)\u001b[0m see the appropriate new directories, set the environment variable\n",
            "\u001b[36m(ClientAppActor pid=2172)\u001b[0m `JUPYTER_PLATFORM_DIRS=1` and then run `jupyter --paths`.\n",
            "\u001b[36m(ClientAppActor pid=2172)\u001b[0m The use of platformdirs will be the default in `jupyter_core` v6\n",
            "\u001b[36m(ClientAppActor pid=2172)\u001b[0m   from jupyter_core.paths import jupyter_data_dir, jupyter_runtime_dir, secure_write\n",
            "\u001b[36m(pid=2172)\u001b[0m 2025-03-23 09:30:59.043031: E external/local_xla/xla/stream_executor/cuda/cuda_fft.cc:477] Unable to register cuFFT factory: Attempting to register factory for plugin cuFFT when one has already been registered\n",
            "\u001b[36m(pid=2172)\u001b[0m WARNING: All log messages before absl::InitializeLog() is called are written to STDERR\n",
            "\u001b[36m(pid=2172)\u001b[0m E0000 00:00:1742722259.136814    2172 cuda_dnn.cc:8310] Unable to register cuDNN factory: Attempting to register factory for plugin cuDNN when one has already been registered\n",
            "\u001b[36m(pid=2172)\u001b[0m E0000 00:00:1742722259.153987    2172 cuda_blas.cc:1418] Unable to register cuBLAS factory: Attempting to register factory for plugin cuBLAS when one has already been registered\n"
          ]
        },
        {
          "output_type": "stream",
          "name": "stdout",
          "text": [
            "\u001b[36m(ClientAppActor pid=2172)\u001b[0m [Client 912, round 1] fit, config: {'server_round': 1, 'local_epochs': 3}\n",
            "\u001b[36m(ClientAppActor pid=2172)\u001b[0m [Client 279, round 1] fit, config: {'server_round': 1, 'local_epochs': 3}\n",
            "\u001b[36m(ClientAppActor pid=2172)\u001b[0m [Client 455, round 1] fit, config: {'server_round': 1, 'local_epochs': 3}\n",
            "\u001b[36m(ClientAppActor pid=2172)\u001b[0m [Client 822, round 1] fit, config: {'server_round': 1, 'local_epochs': 3}\u001b[32m [repeated 2x across cluster] (Ray deduplicates logs by default. Set RAY_DEDUP_LOGS=0 to disable log deduplication, or see https://docs.ray.io/en/master/ray-observability/user-guides/configure-logging.html#log-deduplication for more options.)\u001b[0m\n",
            "\u001b[36m(ClientAppActor pid=2172)\u001b[0m [Client 791, round 1] fit, config: {'server_round': 1, 'local_epochs': 3}\u001b[32m [repeated 6x across cluster]\u001b[0m\n",
            "\u001b[36m(ClientAppActor pid=2171)\u001b[0m [Client 51, round 1] fit, config: {'server_round': 1, 'local_epochs': 3}\n",
            "\u001b[36m(ClientAppActor pid=2172)\u001b[0m [Client 988, round 1] fit, config: {'server_round': 1, 'local_epochs': 3}\n",
            "\u001b[36m(ClientAppActor pid=2172)\u001b[0m [Client 251, round 1] fit, config: {'server_round': 1, 'local_epochs': 3}\u001b[32m [repeated 5x across cluster]\u001b[0m\n",
            "\u001b[36m(ClientAppActor pid=2171)\u001b[0m [Client 909, round 1] fit, config: {'server_round': 1, 'local_epochs': 3}\u001b[32m [repeated 2x across cluster]\u001b[0m\n"
          ]
        },
        {
          "output_type": "stream",
          "name": "stderr",
          "text": [
            "\u001b[92mINFO \u001b[0m:      aggregate_fit: received 25 results and 0 failures\n",
            "\u001b[93mWARNING \u001b[0m:   No fit_metrics_aggregation_fn provided\n"
          ]
        },
        {
          "output_type": "stream",
          "name": "stdout",
          "text": [
            "\u001b[36m(ClientAppActor pid=2172)\u001b[0m [Client 355, round 1] fit, config: {'server_round': 1, 'local_epochs': 3}\u001b[32m [repeated 5x across cluster]\u001b[0m\n"
          ]
        },
        {
          "output_type": "stream",
          "name": "stderr",
          "text": [
            "\u001b[92mINFO \u001b[0m:      fit progress: (1, 0.07188865196704865, {'accuracy': 0.115}, 68.38459819500002)\n",
            "\u001b[92mINFO \u001b[0m:      configure_evaluate: strategy sampled 50 clients (out of 1000)\n"
          ]
        },
        {
          "output_type": "stream",
          "name": "stdout",
          "text": [
            "Server-side evaluation loss 0.07188865196704865 / accuracy 0.115\n",
            "\u001b[36m(ClientAppActor pid=2172)\u001b[0m [Client 31] evaluate, config: {}\n",
            "\u001b[36m(ClientAppActor pid=2171)\u001b[0m [Client 157] evaluate, config: {}\u001b[32m [repeated 3x across cluster]\u001b[0m\n",
            "\u001b[36m(ClientAppActor pid=2171)\u001b[0m [Client 789] evaluate, config: {}\u001b[32m [repeated 3x across cluster]\u001b[0m\n",
            "\u001b[36m(ClientAppActor pid=2172)\u001b[0m [Client 144] evaluate, config: {}\u001b[32m [repeated 5x across cluster]\u001b[0m\n",
            "\u001b[36m(ClientAppActor pid=2172)\u001b[0m [Client 267] evaluate, config: {}\u001b[32m [repeated 3x across cluster]\u001b[0m\n",
            "\u001b[36m(ClientAppActor pid=2172)\u001b[0m [Client 605] evaluate, config: {}\n",
            "\u001b[36m(ClientAppActor pid=2171)\u001b[0m [Client 121] evaluate, config: {}\n",
            "\u001b[36m(ClientAppActor pid=2171)\u001b[0m [Client 92] evaluate, config: {}\u001b[32m [repeated 2x across cluster]\u001b[0m\n",
            "\u001b[36m(ClientAppActor pid=2172)\u001b[0m [Client 635] evaluate, config: {}\u001b[32m [repeated 4x across cluster]\u001b[0m\n",
            "\u001b[36m(ClientAppActor pid=2171)\u001b[0m [Client 265] evaluate, config: {}\u001b[32m [repeated 4x across cluster]\u001b[0m\n",
            "\u001b[36m(ClientAppActor pid=2172)\u001b[0m [Client 280] evaluate, config: {}\u001b[32m [repeated 3x across cluster]\u001b[0m\n",
            "\u001b[36m(ClientAppActor pid=2172)\u001b[0m [Client 401] evaluate, config: {}\u001b[32m [repeated 2x across cluster]\u001b[0m\n",
            "\u001b[36m(ClientAppActor pid=2172)\u001b[0m [Client 752] evaluate, config: {}\n",
            "\u001b[36m(ClientAppActor pid=2172)\u001b[0m [Client 136] evaluate, config: {}\n",
            "\u001b[36m(ClientAppActor pid=2171)\u001b[0m [Client 522] evaluate, config: {}\u001b[32m [repeated 6x across cluster]\u001b[0m\n",
            "\u001b[36m(ClientAppActor pid=2172)\u001b[0m [Client 195] evaluate, config: {}\u001b[32m [repeated 2x across cluster]\u001b[0m\n",
            "\u001b[36m(ClientAppActor pid=2171)\u001b[0m [Client 295] evaluate, config: {}\u001b[32m [repeated 6x across cluster]\u001b[0m\n"
          ]
        },
        {
          "output_type": "stream",
          "name": "stderr",
          "text": [
            "\u001b[92mINFO \u001b[0m:      aggregate_evaluate: received 50 results and 0 failures\n",
            "\u001b[93mWARNING \u001b[0m:   No evaluate_metrics_aggregation_fn provided\n",
            "\u001b[92mINFO \u001b[0m:      \n",
            "\u001b[92mINFO \u001b[0m:      [ROUND 2]\n",
            "\u001b[92mINFO \u001b[0m:      configure_fit: strategy sampled 25 clients (out of 1000)\n"
          ]
        },
        {
          "output_type": "stream",
          "name": "stdout",
          "text": [
            "\u001b[36m(ClientAppActor pid=2172)\u001b[0m [Client 202, round 2] fit, config: {'server_round': 2, 'local_epochs': 3}\n",
            "\u001b[36m(ClientAppActor pid=2171)\u001b[0m [Client 933] evaluate, config: {}\u001b[32m [repeated 2x across cluster]\u001b[0m\n",
            "\u001b[36m(ClientAppActor pid=2171)\u001b[0m [Client 433, round 2] fit, config: {'server_round': 2, 'local_epochs': 3}\u001b[32m [repeated 3x across cluster]\u001b[0m\n",
            "\u001b[36m(ClientAppActor pid=2171)\u001b[0m [Client 625, round 2] fit, config: {'server_round': 2, 'local_epochs': 3}\u001b[32m [repeated 4x across cluster]\u001b[0m\n",
            "\u001b[36m(ClientAppActor pid=2172)\u001b[0m [Client 620, round 2] fit, config: {'server_round': 2, 'local_epochs': 3}\u001b[32m [repeated 2x across cluster]\u001b[0m\n",
            "\u001b[36m(ClientAppActor pid=2172)\u001b[0m [Client 701, round 2] fit, config: {'server_round': 2, 'local_epochs': 3}\u001b[32m [repeated 3x across cluster]\u001b[0m\n",
            "\u001b[36m(ClientAppActor pid=2171)\u001b[0m [Client 246, round 2] fit, config: {'server_round': 2, 'local_epochs': 3}\u001b[32m [repeated 6x across cluster]\u001b[0m\n"
          ]
        },
        {
          "output_type": "stream",
          "name": "stderr",
          "text": [
            "\u001b[92mINFO \u001b[0m:      aggregate_fit: received 25 results and 0 failures\n"
          ]
        },
        {
          "output_type": "stream",
          "name": "stdout",
          "text": [
            "\u001b[36m(ClientAppActor pid=2172)\u001b[0m [Client 135, round 2] fit, config: {'server_round': 2, 'local_epochs': 3}\u001b[32m [repeated 6x across cluster]\u001b[0m\n"
          ]
        },
        {
          "output_type": "stream",
          "name": "stderr",
          "text": [
            "\u001b[92mINFO \u001b[0m:      fit progress: (2, 0.07140122981071473, {'accuracy': 0.1308}, 218.59098589800004)\n",
            "\u001b[92mINFO \u001b[0m:      configure_evaluate: strategy sampled 50 clients (out of 1000)\n"
          ]
        },
        {
          "output_type": "stream",
          "name": "stdout",
          "text": [
            "Server-side evaluation loss 0.07140122981071473 / accuracy 0.1308\n",
            "\u001b[36m(ClientAppActor pid=2172)\u001b[0m [Client 129] evaluate, config: {}\n",
            "\u001b[36m(ClientAppActor pid=2172)\u001b[0m [Client 169] evaluate, config: {}\n",
            "\u001b[36m(ClientAppActor pid=2171)\u001b[0m [Client 928] evaluate, config: {}\u001b[32m [repeated 3x across cluster]\u001b[0m\n",
            "\u001b[36m(ClientAppActor pid=2172)\u001b[0m [Client 63] evaluate, config: {}\u001b[32m [repeated 6x across cluster]\u001b[0m\n",
            "\u001b[36m(ClientAppActor pid=2172)\u001b[0m [Client 485] evaluate, config: {}\u001b[32m [repeated 3x across cluster]\u001b[0m\n",
            "\u001b[36m(ClientAppActor pid=2171)\u001b[0m [Client 461] evaluate, config: {}\u001b[32m [repeated 5x across cluster]\u001b[0m\n",
            "\u001b[36m(ClientAppActor pid=2172)\u001b[0m [Client 418] evaluate, config: {}\n",
            "\u001b[36m(ClientAppActor pid=2171)\u001b[0m [Client 822] evaluate, config: {}\n",
            "\u001b[36m(ClientAppActor pid=2172)\u001b[0m [Client 450] evaluate, config: {}\u001b[32m [repeated 5x across cluster]\u001b[0m\n",
            "\u001b[36m(ClientAppActor pid=2172)\u001b[0m [Client 379] evaluate, config: {}\u001b[32m [repeated 5x across cluster]\u001b[0m\n",
            "\u001b[36m(ClientAppActor pid=2172)\u001b[0m [Client 52] evaluate, config: {}\u001b[32m [repeated 4x across cluster]\u001b[0m\n",
            "\u001b[36m(ClientAppActor pid=2172)\u001b[0m [Client 15] evaluate, config: {}\u001b[32m [repeated 4x across cluster]\u001b[0m\n",
            "\u001b[36m(ClientAppActor pid=2172)\u001b[0m [Client 681] evaluate, config: {}\u001b[32m [repeated 4x across cluster]\u001b[0m\n",
            "\u001b[36m(ClientAppActor pid=2172)\u001b[0m [Client 544] evaluate, config: {}\u001b[32m [repeated 5x across cluster]\u001b[0m\n"
          ]
        },
        {
          "output_type": "stream",
          "name": "stderr",
          "text": [
            "\u001b[92mINFO \u001b[0m:      aggregate_evaluate: received 50 results and 0 failures\n",
            "\u001b[92mINFO \u001b[0m:      \n",
            "\u001b[92mINFO \u001b[0m:      [SUMMARY]\n",
            "\u001b[92mINFO \u001b[0m:      Run finished 2 round(s) in 298.68s\n",
            "\u001b[92mINFO \u001b[0m:      \tHistory (loss, distributed):\n",
            "\u001b[92mINFO \u001b[0m:      \t\tround 1: 0.229533004283905\n",
            "\u001b[92mINFO \u001b[0m:      \t\tround 2: 0.22824157333374032\n",
            "\u001b[92mINFO \u001b[0m:      \tHistory (loss, centralized):\n",
            "\u001b[92mINFO \u001b[0m:      \t\tround 0: 0.07211904981136322\n",
            "\u001b[92mINFO \u001b[0m:      \t\tround 1: 0.07188865196704865\n",
            "\u001b[92mINFO \u001b[0m:      \t\tround 2: 0.07140122981071473\n",
            "\u001b[92mINFO \u001b[0m:      \tHistory (metrics, centralized):\n",
            "\u001b[92mINFO \u001b[0m:      \t{'accuracy': [(0, 0.0994), (1, 0.115), (2, 0.1308)]}\n",
            "\u001b[92mINFO \u001b[0m:      \n"
          ]
        },
        {
          "output_type": "stream",
          "name": "stdout",
          "text": [
            "\u001b[36m(ClientAppActor pid=2171)\u001b[0m [Client 265] evaluate, config: {}\u001b[32m [repeated 2x across cluster]\u001b[0m\n"
          ]
        },
        {
          "output_type": "stream",
          "name": "stderr",
          "text": [
            "\u001b[36m(ClientAppActor pid=2171)\u001b[0m /usr/local/lib/python3.11/dist-packages/jupyter_client/connect.py:28: DeprecationWarning: Jupyter is migrating its paths to use standard platformdirs\n",
            "\u001b[36m(ClientAppActor pid=2171)\u001b[0m given by the platformdirs library.  To remove this warning and\n",
            "\u001b[36m(ClientAppActor pid=2171)\u001b[0m see the appropriate new directories, set the environment variable\n",
            "\u001b[36m(ClientAppActor pid=2171)\u001b[0m `JUPYTER_PLATFORM_DIRS=1` and then run `jupyter --paths`.\n",
            "\u001b[36m(ClientAppActor pid=2171)\u001b[0m The use of platformdirs will be the default in `jupyter_core` v6\n",
            "\u001b[36m(ClientAppActor pid=2171)\u001b[0m   from jupyter_core.paths import jupyter_data_dir, jupyter_runtime_dir, secure_write\n"
          ]
        }
      ]
    },
    {
      "cell_type": "markdown",
      "source": [
        "***Build a strategy from scratch***"
      ],
      "metadata": {
        "id": "MEt2063qvlJe"
      }
    },
    {
      "cell_type": "code",
      "source": [
        "from typing import Union\n",
        "# EvaluateIns -> Instructions from the server to client for evaluation\n",
        "# EvaluateRes -> Results from client after evaluation\n",
        "# FitIns -> Instructions for training\n",
        "# FitRes -> Results from client training\n",
        "from flwr.common import EvaluateIns, EvaluateRes, FitIns, FitRes, Parameters, Scalar, parameters_to_ndarrays, ndarrays_to_parameters\n",
        "from flwr.server.client_manager import ClientManager\n",
        "# Manages all connected clients on the server side.\n",
        "from flwr.server.client_proxy import ClientProxy\n",
        "# Proxy representation of client on the server side to send instructions to individual clients and receive their responses\n",
        "from flwr.server.strategy.aggregate import aggregate, weighted_loss_avg"
      ],
      "metadata": {
        "id": "JObxN7YapQqi"
      },
      "execution_count": null,
      "outputs": []
    },
    {
      "cell_type": "markdown",
      "source": [
        "This class is a custom implementation of a federated learning strategy (Similar to FedAvg) but with added customization like sending different learning rates to different clients during training by (configure_fit)."
      ],
      "metadata": {
        "id": "SqB00j7Gaovx"
      }
    },
    {
      "cell_type": "code",
      "source": [
        "class FedCustom():\n",
        "    def __init__(\n",
        "        self,\n",
        "        fraction_fit: float = 1.0,\n",
        "        fraction_evaluate: float = 1.0,\n",
        "        min_fit_clients: int = 2,\n",
        "        min_evaluate_clients: int = 2,\n",
        "        min_available_clients: int = 2,\n",
        "    ) -> None:\n",
        "\n",
        "        super().__init__()\n",
        "        self.fraction_fit = fraction_fit\n",
        "        self.fraction_evaluate = fraction_evaluate\n",
        "        self.min_fit_clients = min_fit_clients\n",
        "        self.min_evaluate_clients = min_evaluate_clients\n",
        "        self.min_available_clients = min_available_clients\n",
        "\n",
        "    #  String representation which is helpful in logs or printing the strategy name\n",
        "    def __repr__(self) -> str:\n",
        "        return \"FedCustom\"\n",
        "\n",
        "    # How many clients to sample in each round for fit/evaluate\n",
        "    def num_fit_clients(self, num_available_clients: int) -> Tuple[int, int]:\n",
        "        num_clients = int(num_available_clients * self.fraction_fit)\n",
        "        return max(num_clients, self.min_fit_clients), self.min_available_clients\n",
        "\n",
        "    def num_evaluation_clients(self, num_available_clients: int) -> Tuple[int, int]:\n",
        "        num_clients = int(num_available_clients * self.fraction_evaluate)\n",
        "        return max(num_clients, self.min_evaluate_clients), self.min_available_clients\n",
        "\n",
        "    # Called at the start of training to initialize the global model\n",
        "    # Define model (net = Net()), get its weights (get_parameters) and convert them to Parameters from numpy arrays\n",
        "    def initialize_parameters(\n",
        "        self,\n",
        "        client_manager: ClientManager\n",
        "    ) -> Optional[Parameters]:\n",
        "        # Initialize global model parameters\n",
        "        net = Net()\n",
        "        ndarrays = get_parameters(net)\n",
        "        return ndarrays_to_parameters(ndarrays)\n",
        "\n",
        "    # select clients for training and give training instructions\n",
        "    def configure_fit(\n",
        "        self,\n",
        "        server_round: int,\n",
        "        parameters: Parameters,\n",
        "        client_manager: ClientManager\n",
        "    ) -> List[Tuple[ClientProxy, FitIns]]:\n",
        "\n",
        "        \"\"\"Configure the next round of training.\"\"\"\n",
        "        sample_size, min_num_clients = self.num_fit_clients(client_manager.num_available())\n",
        "        clients = client_manager.sample(num_clients=sample_size, min_num_clients=min_num_clients)\n",
        "\n",
        "        n_clients = len(clients)\n",
        "        half_clients = n_clients // 2\n",
        "        standard_config = {\"lr\": 0.001}\n",
        "        higher_lr_config = {\"lr\": 0.003}\n",
        "        fit_configurations = [] # fit_configurations is a list of tuples\n",
        "        for idx, client in enumerate(clients): #idx represent id\n",
        "            if idx < half_clients:\n",
        "                fit_configurations.append((client, FitIns(parameters, standard_config)))\n",
        "            else:\n",
        "                fit_configurations.append((client, FitIns(parameters, higher_lr_config)))\n",
        "\n",
        "        return fit_configurations\n",
        "        # [\n",
        "        #   (Client1, FitIns(global_model_parameters, {\"lr\": 0.001})),\n",
        "        #   (Client2, FitIns(global_model_parameters, {\"lr\": 0.001})),\n",
        "        #   (Client3, FitIns(global_model_parameters, {\"lr\": 0.003})),\n",
        "        #   (Client4, FitIns(global_model_parameters, {\"lr\": 0.003})),\n",
        "        # ]\n",
        "\n",
        "    def fit(self, parameters: Parameters, config: Dict[str, Scalar]) -> Tuple[Parameters, int, Dict[str, Scalar]]:\n",
        "      print(f\"Client {self.cid} | Learning Rate: {config['lr']}, Round: {config['server_round']}\")\n",
        "\n",
        "    # select clients for evaluation\n",
        "    # After clients train locally, the server gets their results and use this to aggregate models from all clients.\n",
        "    def aggregate_fit(\n",
        "        self,\n",
        "        server_round: int,\n",
        "        results: List[Tuple[ClientProxy, FitRes]],\n",
        "        failures: List[Union[Tuple[ClientProxy, FitRes], BaseException]],\n",
        "    ) -> Tuple[Optional[Parameters], Dict[str, Scalar]]:\n",
        "\n",
        "        \"\"\"Aggregate fit results using weighted average.\"\"\"\n",
        "        weights_results = [\n",
        "            (parameters_to_ndarrays(fit_res.parameters), fit_res.num_examples)\n",
        "            for _, fit_res in results\n",
        "        ]\n",
        "        parameters_aggregated = ndarrays_to_parameters(aggregate(weights_results))\n",
        "        metrics_aggregated = {}\n",
        "        return parameters_aggregated, metrics_aggregated\n",
        "\n",
        "    # Called when the server wants to evaluate the current global model on clients\n",
        "    def configure_evaluate(\n",
        "        self,\n",
        "        server_round: int,\n",
        "        parameters: Parameters,\n",
        "        client_manager: ClientManager\n",
        "    ) -> List[Tuple[ClientProxy, EvaluateIns]]:\n",
        "\n",
        "        \"\"\"Configure the next round of evaluation.\"\"\"\n",
        "        if self.fraction_evaluate == 0.0:\n",
        "            return []\n",
        "        config = {}\n",
        "        evaluate_ins = EvaluateIns(parameters, config)\n",
        "\n",
        "        sample_size, min_num_clients = self.num_evaluation_clients(client_manager.num_available())\n",
        "        clients = client_manager.sample(num_clients=sample_size, min_num_clients=min_num_clients)\n",
        "\n",
        "        return [(client, evaluate_ins) for client in clients]\n",
        "\n",
        "    # After evaluation is done on clients, aggregate their losses.\n",
        "    def aggregate_evaluate(\n",
        "        self,\n",
        "        server_round: int,\n",
        "        results: List[Tuple[ClientProxy, EvaluateRes]],\n",
        "        failures: List[Union[Tuple[ClientProxy, EvaluateRes], BaseException]],\n",
        "    ) -> Tuple[Optional[float], Dict[str, Scalar]]:\n",
        "\n",
        "        \"\"\"Aggregate evaluation losses using weighted average.\"\"\"\n",
        "        if not results:\n",
        "            return None, {}\n",
        "        loss_aggregated = weighted_loss_avg(\n",
        "            [\n",
        "                (evaluate_res.num_examples, evaluate_res.loss)\n",
        "                for _, evaluate_res in results\n",
        "            ]\n",
        "        )\n",
        "        metrics_aggregated = {}\n",
        "\n",
        "        total_examples = sum(evaluate_res.num_examples for _, evaluate_res in results)\n",
        "        total_accuracy = 0.0\n",
        "        for _, evaluate_res in results:\n",
        "            num_examples = evaluate_res.num_examples\n",
        "            accuracy = evaluate_res.metrics.get(\"accuracy\", None)\n",
        "            if accuracy is not None:\n",
        "                total_accuracy += num_examples * accuracy\n",
        "\n",
        "        avg_accuracy = total_accuracy / total_examples if total_examples > 0 else None\n",
        "\n",
        "        # Print both loss and accuracy\n",
        "        print(f\"[Round {server_round}] Evaluation loss: {loss_aggregated:.4f}\")\n",
        "        if avg_accuracy is not None:\n",
        "            print(f\"[Round {server_round}] Evaluation accuracy: {avg_accuracy:.4f}\")\n",
        "\n",
        "        # Return metrics\n",
        "        metrics_aggregated = {\"accuracy\": avg_accuracy} if avg_accuracy is not None else {}\n",
        "\n",
        "        return loss_aggregated, metrics_aggregated\n",
        "\n",
        "    # Server-side evaluation\n",
        "    def evaluate(\n",
        "        self,\n",
        "        server_round: int,\n",
        "        parameters: Parameters\n",
        "    ) -> Optional[Tuple[float, Dict[str, Scalar]]]:\n",
        "        return None # Not doing server-side evaluation"
      ],
      "metadata": {
        "id": "4YGksdstjq5i"
      },
      "execution_count": null,
      "outputs": []
    },
    {
      "cell_type": "code",
      "source": [
        "def server_fn(context: Context) -> ServerAppComponents:\n",
        "    config = ServerConfig(num_rounds=1)\n",
        "    return ServerAppComponents(config=config,strategy=FedCustom())\n",
        "\n",
        "server=ServerApp(server_fn=server_fn)"
      ],
      "metadata": {
        "id": "f0cv1IqoxHRi"
      },
      "execution_count": null,
      "outputs": []
    },
    {
      "cell_type": "code",
      "source": [],
      "metadata": {
        "id": "VXfv-yWO8XzU"
      },
      "execution_count": null,
      "outputs": []
    }
  ]
}